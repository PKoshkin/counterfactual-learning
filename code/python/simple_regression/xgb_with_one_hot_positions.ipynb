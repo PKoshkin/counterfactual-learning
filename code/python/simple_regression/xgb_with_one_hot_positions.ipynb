{
 "cells": [
  {
   "cell_type": "code",
   "execution_count": 1,
   "metadata": {},
   "outputs": [],
   "source": [
    "import sys\n",
    "sys.path.append('../general')\n",
    "from pool import Pool\n",
    "\n",
    "from test import test_regression\n",
    "\n",
    "import xgboost as xgb\n",
    "\n",
    "from matplotlib import pyplot as pp\n",
    "%matplotlib inline"
   ]
  },
  {
   "cell_type": "code",
   "execution_count": 2,
   "metadata": {},
   "outputs": [],
   "source": [
    "pool = Pool('../data')"
   ]
  },
  {
   "cell_type": "code",
   "execution_count": 3,
   "metadata": {},
   "outputs": [],
   "source": [
    "scores = test_regression(xgb.XGBRegressor(), pool)"
   ]
  },
  {
   "cell_type": "code",
   "execution_count": 4,
   "metadata": {},
   "outputs": [
    {
     "data": {
      "image/png": "[encoded data removed]",
      "text/plain": [
       "<matplotlib.figure.Figure at 0x7fe0a4359358>"
      ]
     },
     "metadata": {},
     "output_type": "display_data"
    }
   ],
   "source": [
    "pp.hist(scores)\n",
    "pp.show()"
   ]
  },
  {
   "cell_type": "code",
   "execution_count": 6,
   "metadata": {},
   "outputs": [
    {
     "data": {
      "text/plain": [
       "-0.004787582334946659"
      ]
     },
     "execution_count": 6,
     "metadata": {},
     "output_type": "execute_result"
    }
   ],
   "source": [
    "import numpy as np\n",
    "np.mean(scores)"
   ]
  },
  {
   "cell_type": "code",
   "execution_count": 7,
   "metadata": {},
   "outputs": [
    {
     "data": {
      "text/plain": [
       "[0.00899771223183118,\n",
       " -0.016947062817042943,\n",
       " -0.0023902926467350366,\n",
       " -0.0011488344040810762,\n",
       " -0.012443100518322581,\n",
       " -0.0035272281806540463,\n",
       " -0.004079733038852747,\n",
       " -0.005827553941564367,\n",
       " -0.003586286162098823,\n",
       " -0.003836870322392097,\n",
       " 0.0030886822471771144,\n",
       " -0.006968980876238693,\n",
       " -0.012505726642420547,\n",
       " -0.0014437535915696074,\n",
       " 0.004204333361123755,\n",
       " -0.026173675041993485,\n",
       " -0.01038946010643721,\n",
       " -0.015911327158990834,\n",
       " -0.003785563511752098,\n",
       " 0.000745342621530303,\n",
       " -0.0013919829379019611,\n",
       " -0.01786414811020724,\n",
       " -0.004081682056327515,\n",
       " -0.01368959406952482,\n",
       " 0.006174135998882716,\n",
       " -0.01570507004503388,\n",
       " 0.008527568268799437,\n",
       " -0.00808873824687776,\n",
       " -0.0057300155167935175,\n",
       " -0.006943212664425526,\n",
       " -0.003650630096761522,\n",
       " -0.0147438080915108,\n",
       " -0.011160015556883186,\n",
       " -0.006831440946452267,\n",
       " -0.008369563576883407,\n",
       " -0.0017333221623236576,\n",
       " -0.001931117007557201,\n",
       " -0.0032948798542796255,\n",
       " -0.01563425493900432,\n",
       " -0.015892094616038223,\n",
       " 0.00027635127394250587,\n",
       " -0.004864713443916223,\n",
       " 0.0006303627531499235,\n",
       " -0.0030243465290734307,\n",
       " -0.0076400266780127235,\n",
       " -0.008540756701019328,\n",
       " -0.0036989161640677464,\n",
       " -0.0012181117408989529,\n",
       " 0.0020162791116808054,\n",
       " 0.0014276470004276874,\n",
       " 0.010736342444653548,\n",
       " 0.0016123881319825561,\n",
       " 0.0003235466951431331,\n",
       " -0.007867414872557191,\n",
       " 0.002498522692743202,\n",
       " -0.014229031985180307,\n",
       " 0.001230895970678254,\n",
       " -0.0016078506613887863,\n",
       " -0.0014822247808760059,\n",
       " 0.0035324481322276217,\n",
       " 0.00265224825485639,\n",
       " 0.0024646175134116796,\n",
       " -0.003267800279971632,\n",
       " -0.007912601668726933,\n",
       " -0.003737954922073844,\n",
       " -0.0006562463738361808,\n",
       " -0.007090979665716569,\n",
       " -0.012174548808024918,\n",
       " -0.010815461420890623,\n",
       " -0.0059237065611498375,\n",
       " -0.005318854348727961,\n",
       " -0.0023353565057551355,\n",
       " -0.010997440023954731,\n",
       " -0.001015252910657674,\n",
       " -0.0074344060367126895,\n",
       " -0.0035320173252239777,\n",
       " 0.000576932377768185,\n",
       " 0.0024734669576858396,\n",
       " -0.003283250220937373,\n",
       " -0.0035922515520248497,\n",
       " -0.0034453989412601012,\n",
       " -0.010144917139045367,\n",
       " -0.013155263173315985,\n",
       " 0.010075214237439904,\n",
       " -0.000987826468446086,\n",
       " -0.002761410169199161,\n",
       " 0.002193460180463183,\n",
       " -0.00823325932885896,\n",
       " -0.00040683221886143753,\n",
       " -0.00880249403964327,\n",
       " -0.008615989098842038,\n",
       " -0.007281174827387821,\n",
       " 0.0012379313917313805,\n",
       " -0.011488692940373267,\n",
       " -0.002549148808129864,\n",
       " -0.013271856290368625,\n",
       " -0.004340631047794049,\n",
       " -0.012497288082389054,\n",
       " -0.007071394386027841,\n",
       " -0.010438544746745142]"
      ]
     },
     "execution_count": 7,
     "metadata": {},
     "output_type": "execute_result"
    }
   ],
   "source": [
    "scores"
   ]
  },
  {
   "cell_type": "code",
   "execution_count": null,
   "metadata": {
    "collapsed": true
   },
   "outputs": [],
   "source": []
  }
 ],
 "metadata": {
  "kernelspec": {
   "display_name": "Python 3",
   "language": "python",
   "name": "python3"
  },
  "language_info": {
   "codemirror_mode": {
    "name": "ipython",
    "version": 3
   },
   "file_extension": ".py",
   "mimetype": "text/x-python",
   "name": "python",
   "nbconvert_exporter": "python",
   "pygments_lexer": "ipython3",
   "version": "3.6.4"
  }
 },
 "nbformat": 4,
 "nbformat_minor": 2
}
