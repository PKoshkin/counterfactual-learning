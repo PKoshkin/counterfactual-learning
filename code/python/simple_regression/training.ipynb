{
 "cells": [
  {
   "cell_type": "code",
   "execution_count": 1,
   "metadata": {
    "collapsed": true
   },
   "outputs": [],
   "source": [
    "from json import loads as json_from_string\n",
    "import numpy as np"
   ]
  },
  {
   "cell_type": "code",
   "execution_count": 2,
   "metadata": {
    "collapsed": true
   },
   "outputs": [],
   "source": [
    "with open('data') as handler:\n",
    "    data = [json_from_string(line) for line in handler]"
   ]
  },
  {
   "cell_type": "markdown",
   "metadata": {},
   "source": [
    "Имеем:\n",
    "    - Все хедеры одинаковые.\n",
    "    - В данных нас интересуют:\n",
    "        - factors (Какие-то фичи. Их то 1052, то 1053. Леша сказал убрать 1053.)\n",
    "        - images_metric (позиция, которую видели, win, lose)\n",
    "        - p (вероятность, с которой такой серп рисовался)\n",
    "        - uid и query (можно сделать из этого факторы или покластеризовать)"
   ]
  },
  {
   "cell_type": "code",
   "execution_count": 3,
   "metadata": {
    "collapsed": true
   },
   "outputs": [],
   "source": [
    "features = np.array([line['factors'][:1052] for line in data])\n",
    "positions = np.array([\n",
    "    line['images_metric'][0] if line['images_metric'] is not None else 100\n",
    "    for line in data\n",
    "])\n",
    "probas = np.array([line['p'] for line in data])\n",
    "labels = np.array([\n",
    "    (line['images_metric'][2] - line['images_metric'][1])\n",
    "    if line['images_metric'] is not None else 0\n",
    "    for line in data\n",
    "])"
   ]
  },
  {
   "cell_type": "code",
   "execution_count": 4,
   "metadata": {
    "collapsed": true
   },
   "outputs": [],
   "source": [
    "import xgboost as xgb\n",
    "from training import get_metric"
   ]
  },
  {
   "cell_type": "code",
   "execution_count": 5,
   "metadata": {
    "collapsed": true
   },
   "outputs": [],
   "source": [
    "scores = [\n",
    "    get_metric(features, positions, labels, probas, model=xgb.XGBRegressor(), validate=False)\n",
    "    for i in range(10)\n",
    "]"
   ]
  },
  {
   "cell_type": "code",
   "execution_count": 6,
   "metadata": {},
   "outputs": [
    {
     "data": {
      "text/plain": [
       "0.011653377825527632"
      ]
     },
     "execution_count": 6,
     "metadata": {},
     "output_type": "execute_result"
    }
   ],
   "source": [
    "np.mean(scores)"
   ]
  },
  {
   "cell_type": "code",
   "execution_count": 7,
   "metadata": {},
   "outputs": [
    {
     "data": {
      "text/plain": [
       "0.005986960478054834"
      ]
     },
     "execution_count": 7,
     "metadata": {},
     "output_type": "execute_result"
    }
   ],
   "source": [
    "np.std(scores)"
   ]
  },
  {
   "cell_type": "code",
   "execution_count": 8,
   "metadata": {},
   "outputs": [
    {
     "data": {
      "text/plain": [
       "[0.003929028953255622,\n",
       " 0.010182766885847783,\n",
       " 0.013939095306825744,\n",
       " 0.013357635632868594,\n",
       " 0.007624036584995419,\n",
       " 0.01412029996240215,\n",
       " 0.011487636631226126,\n",
       " 0.0034186660691291424,\n",
       " 0.025690542374036514,\n",
       " 0.012784069854689235]"
      ]
     },
     "execution_count": 8,
     "metadata": {},
     "output_type": "execute_result"
    }
   ],
   "source": [
    "scores"
   ]
  },
  {
   "cell_type": "code",
   "execution_count": null,
   "metadata": {
    "collapsed": true
   },
   "outputs": [],
   "source": []
  }
 ],
 "metadata": {
  "kernelspec": {
   "display_name": "Python 3",
   "language": "python",
   "name": "python3"
  },
  "language_info": {
   "codemirror_mode": {
    "name": "ipython",
    "version": 3
   },
   "file_extension": ".py",
   "mimetype": "text/x-python",
   "name": "python",
   "nbconvert_exporter": "python",
   "pygments_lexer": "ipython3",
   "version": "3.6.4"
  }
 },
 "nbformat": 4,
 "nbformat_minor": 2
}
