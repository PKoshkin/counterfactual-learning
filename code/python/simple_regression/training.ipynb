{
 "cells": [
  {
   "cell_type": "code",
   "execution_count": 1,
   "metadata": {
    "collapsed": true
   },
   "outputs": [],
   "source": [
    "from json import loads as json_from_string\n",
    "import numpy as np"
   ]
  },
  {
   "cell_type": "code",
   "execution_count": 2,
   "metadata": {
    "collapsed": true
   },
   "outputs": [],
   "source": [
    "with open('data') as handler:\n",
    "    data = [json_from_string(line) for line in handler]"
   ]
  },
  {
   "cell_type": "markdown",
   "metadata": {},
   "source": [
    "Имеем:\n",
    "    - Все хедеры одинаковые.\n",
    "    - В данных нас интересуют:\n",
    "        - factors (Какие-то фичи. Их то 1052, то 1053. Леша сказал убрать 1053.)\n",
    "        - images_metric (позиция, которую видели, win, lose)\n",
    "        - p (вероятность, с которой такой серп рисовался)\n",
    "        - uid и query (можно сделать из этого факторы или покластеризовать)"
   ]
  },
  {
   "cell_type": "code",
   "execution_count": 3,
   "metadata": {
    "collapsed": true
   },
   "outputs": [],
   "source": [
    "features = np.array([line['factors'][:1052] for line in data])\n",
    "positions = np.array([\n",
    "    line['images_metric'][0] if line['images_metric'] is not None else 100\n",
    "    for line in data\n",
    "])\n",
    "probas = np.array([line['p'] for line in data])\n",
    "labels = np.array([\n",
    "    (line['images_metric'][2] - line['images_metric'][1])\n",
    "    if line['images_metric'] is not None else 0\n",
    "    for line in data\n",
    "])"
   ]
  },
  {
   "cell_type": "code",
   "execution_count": 4,
   "metadata": {
    "collapsed": true
   },
   "outputs": [],
   "source": [
    "import xgboost as xgb\n",
    "from training import get_metric"
   ]
  },
  {
   "cell_type": "code",
   "execution_count": 5,
   "metadata": {},
   "outputs": [],
   "source": [
    "scores = [\n",
    "    get_metric(features, positions, labels, probas, model=xgb.XGBRegressor(), validate=False)\n",
    "    for i in range(100)\n",
    "]"
   ]
  },
  {
   "cell_type": "code",
   "execution_count": 6,
   "metadata": {},
   "outputs": [
    {
     "data": {
      "text/plain": [
       "0.005707925087825209"
      ]
     },
     "execution_count": 6,
     "metadata": {},
     "output_type": "execute_result"
    }
   ],
   "source": [
    "np.mean(scores)"
   ]
  },
  {
   "cell_type": "code",
   "execution_count": 7,
   "metadata": {},
   "outputs": [
    {
     "data": {
      "text/plain": [
       "0.008510981063870295"
      ]
     },
     "execution_count": 7,
     "metadata": {},
     "output_type": "execute_result"
    }
   ],
   "source": [
    "np.std(scores)"
   ]
  },
  {
   "cell_type": "code",
   "execution_count": 8,
   "metadata": {},
   "outputs": [
    {
     "data": {
      "text/plain": [
       "[0.009165419159123446,\n",
       " 0.00674562913760804,\n",
       " 0.005363831849974341,\n",
       " 0.0013169771810010904,\n",
       " 0.005105585329122212,\n",
       " 0.006594499125675403,\n",
       " 0.01236518599924708,\n",
       " 0.016300761195935605,\n",
       " 0.004239509623939788,\n",
       " 0.022472058541392396,\n",
       " 0.01505125864848209,\n",
       " 0.0049016435056109895,\n",
       " 0.004504223864616855,\n",
       " 0.005458719439239237,\n",
       " 0.017053339753081025,\n",
       " -0.005744642131144568,\n",
       " 0.011821365814561538,\n",
       " 0.002245164838674237,\n",
       " 0.010950451049932855,\n",
       " 0.013318906823502381,\n",
       " 0.012145644424584783,\n",
       " 0.01966107192805757,\n",
       " 0.010681675280834845,\n",
       " -0.0020196216294673134,\n",
       " -0.01646456379543534,\n",
       " 0.010317590308400206,\n",
       " -0.00266862836095613,\n",
       " -0.0022291892577176167,\n",
       " -0.011344653660915154,\n",
       " 0.003669864302474051,\n",
       " 0.004965932199413856,\n",
       " 0.00620819555703733,\n",
       " 0.01012469025485706,\n",
       " 0.004864820832440755,\n",
       " -0.017540657605695842,\n",
       " 0.01739927709995435,\n",
       " 0.0032441649816716926,\n",
       " 0.0018337822938930368,\n",
       " -0.0061719595344957535,\n",
       " 0.009178106067694702,\n",
       " 0.00419374434974354,\n",
       " 0.0019523419337409047,\n",
       " -0.012388184414075997,\n",
       " 0.012300353287368691,\n",
       " 0.000347215256046741,\n",
       " 0.011225231734081246,\n",
       " -0.00030139816319740565,\n",
       " 0.005587868993136797,\n",
       " 0.018958027761708744,\n",
       " -0.004378300675808605,\n",
       " 0.014861954664808101,\n",
       " 0.005680549719273937,\n",
       " 0.0016386675228101603,\n",
       " -0.009603448745431252,\n",
       " 0.011440414127894049,\n",
       " 0.0018809436032193383,\n",
       " 0.022674955841535806,\n",
       " -0.005745614942884006,\n",
       " -0.0018224701070983184,\n",
       " -0.016154405327939016,\n",
       " 0.0072444266692181375,\n",
       " -0.008599549858454911,\n",
       " 0.007644535253389066,\n",
       " 0.011955252699985547,\n",
       " -0.002817383949864415,\n",
       " 0.019104610767103923,\n",
       " -0.002634898126456655,\n",
       " 0.005375980568955645,\n",
       " 0.003824528807759626,\n",
       " 0.008877598107602854,\n",
       " 0.006811664453413607,\n",
       " -0.0030402853117696277,\n",
       " 0.01396377774481922,\n",
       " 0.006132382672773821,\n",
       " 0.00036964058989436823,\n",
       " 0.013249862078098614,\n",
       " 0.01867325055713558,\n",
       " 0.003478670488986761,\n",
       " 0.005223537756256607,\n",
       " 0.01656601348031663,\n",
       " 0.008808353197161486,\n",
       " 0.0043863537763206145,\n",
       " 0.01318846619696418,\n",
       " 0.0005533788944239622,\n",
       " 0.005027837551100333,\n",
       " 0.0070834540056567506,\n",
       " 0.0071583874747918,\n",
       " 0.018166041185371094,\n",
       " 0.0056865422322090586,\n",
       " 0.007703522933193406,\n",
       " -0.0019245131815082035,\n",
       " 0.001161509174345665,\n",
       " 0.01675457726214982,\n",
       " -0.00373397177345024,\n",
       " 0.0042969347657746855,\n",
       " 0.010724285266054873,\n",
       " 0.013325471901757965,\n",
       " 0.02049158529784308,\n",
       " 0.013459485509421878,\n",
       " -0.0003626851913664229]"
      ]
     },
     "execution_count": 8,
     "metadata": {},
     "output_type": "execute_result"
    }
   ],
   "source": [
    "scores"
   ]
  },
  {
   "cell_type": "code",
   "execution_count": null,
   "metadata": {
    "collapsed": true
   },
   "outputs": [],
   "source": []
  }
 ],
 "metadata": {
  "kernelspec": {
   "display_name": "Python 3",
   "language": "python",
   "name": "python3"
  },
  "language_info": {
   "codemirror_mode": {
    "name": "ipython",
    "version": 3
   },
   "file_extension": ".py",
   "mimetype": "text/x-python",
   "name": "python",
   "nbconvert_exporter": "python",
   "pygments_lexer": "ipython3",
   "version": "3.6.4"
  }
 },
 "nbformat": 4,
 "nbformat_minor": 2
}
