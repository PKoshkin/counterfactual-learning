{
 "cells": [
  {
   "cell_type": "code",
   "execution_count": 1,
   "metadata": {
    "collapsed": true
   },
   "outputs": [],
   "source": [
    "import numpy as np\n",
    "import sys\n",
    "sys.path.append('../general')\n",
    "from pool import Pool\n",
    "from metric import metric\n",
    "from utils import predict_positions\n",
    "from sklearn.svm import LinearSVR\n",
    "from sklearn.metrics import mean_squared_error\n",
    "from collections import Counter"
   ]
  },
  {
   "cell_type": "code",
   "execution_count": 2,
   "metadata": {
    "collapsed": true
   },
   "outputs": [],
   "source": [
    "pool = Pool('../data')\n",
    "pool.log_features()"
   ]
  },
  {
   "cell_type": "code",
   "execution_count": 3,
   "metadata": {
    "collapsed": true
   },
   "outputs": [],
   "source": [
    "def test_regression_model(model, pool):\n",
    "    train_pool, test_pool = pool.train_test_split()\n",
    "    train_pools = train_pool.split_by_position()\n",
    "\n",
    "    model.fit(train_pool.regression_features, train_pool.targets)\n",
    "\n",
    "    score_predictions = model.predict(test_pool.regression_features)\n",
    "    mse = mean_squared_error(score_predictions, test_pool.targets)\n",
    "\n",
    "    positions = predict_positions(test_pool.features, model)\n",
    "    positions_metric = metric(\n",
    "        positions,\n",
    "        test_pool.positions,\n",
    "        test_pool.targets,\n",
    "        test_pool.probas\n",
    "    )\n",
    "    \n",
    "    return (\n",
    "        mse,\n",
    "        positions_metric,\n",
    "        Counter(positions)\n",
    "    )"
   ]
  },
  {
   "cell_type": "code",
   "execution_count": 4,
   "metadata": {
    "collapsed": true
   },
   "outputs": [],
   "source": [
    "results = [test_regression_model(LinearSVR(), pool) for i in range(10)]"
   ]
  },
  {
   "cell_type": "code",
   "execution_count": 5,
   "metadata": {},
   "outputs": [
    {
     "name": "stdout",
     "output_type": "stream",
     "text": [
      "-0.005839077102397553 0.004511705430438061\n"
     ]
    }
   ],
   "source": [
    "metrics = [result[1] for result in results]\n",
    "print(np.mean(metrics), np.std(metrics))"
   ]
  },
  {
   "cell_type": "code",
   "execution_count": 6,
   "metadata": {},
   "outputs": [
    {
     "data": {
      "text/plain": [
       "[-0.005431047714038342,\n",
       " -0.0009354066330022365,\n",
       " -0.002545919421317056,\n",
       " -0.0017608458176155881,\n",
       " -0.0026272791275446157,\n",
       " -0.010042554769523726,\n",
       " -0.005182399717901569,\n",
       " -0.015438982688032425,\n",
       " -0.0035040573946051633,\n",
       " -0.010922277740394807]"
      ]
     },
     "execution_count": 6,
     "metadata": {},
     "output_type": "execute_result"
    }
   ],
   "source": [
    "metrics"
   ]
  },
  {
   "cell_type": "code",
   "execution_count": null,
   "metadata": {
    "collapsed": true
   },
   "outputs": [],
   "source": []
  }
 ],
 "metadata": {
  "kernelspec": {
   "display_name": "Python 3",
   "language": "python",
   "name": "python3"
  },
  "language_info": {
   "codemirror_mode": {
    "name": "ipython",
    "version": 3
   },
   "file_extension": ".py",
   "mimetype": "text/x-python",
   "name": "python",
   "nbconvert_exporter": "python",
   "pygments_lexer": "ipython3",
   "version": "3.6.4"
  }
 },
 "nbformat": 4,
 "nbformat_minor": 2
}
