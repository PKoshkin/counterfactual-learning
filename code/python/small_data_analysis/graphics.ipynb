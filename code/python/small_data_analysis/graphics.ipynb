{
 "cells": [
  {
   "cell_type": "code",
   "execution_count": 1,
   "metadata": {},
   "outputs": [],
   "source": [
    "import numpy as np\n",
    "import matplotlib.pyplot as plt\n",
    "from matplotlib.ticker import MaxNLocator\n",
    "from collections import namedtuple\n",
    "import matplotlib\n",
    "\n",
    "\n",
    "#matplotlib.rcParams.update({'font.size': 32})\n",
    "\n",
    "%matplotlib inline"
   ]
  },
  {
   "cell_type": "code",
   "execution_count": 2,
   "metadata": {},
   "outputs": [
    {
     "data": {
      "image/png": "[encoded data removed]",
      "text/plain": [
       "<Figure size 432x288 with 1 Axes>"
      ]
     },
     "metadata": {},
     "output_type": "display_data"
    }
   ],
   "source": [
    "n_groups = 5\n",
    "\n",
    "means_men = (20, 35, 30, 35, 27)\n",
    "std_men = (2, 3, 4, 1, 2)\n",
    "\n",
    "means_women = (25, 32, 34, 20, 25)\n",
    "std_women = (3, 5, 2, 3, 3)\n",
    "\n",
    "fig, ax = plt.subplots()\n",
    "\n",
    "index = np.arange(n_groups)\n",
    "bar_width = 0.35\n",
    "\n",
    "opacity = 0.4\n",
    "error_config = {'ecolor': '0.3'}\n",
    "\n",
    "rects1 = ax.bar(index, means_men, bar_width,\n",
    "                alpha=opacity, color='b',\n",
    "                yerr=std_men, error_kw=error_config,\n",
    "                label='Men')\n",
    "\n",
    "rects2 = ax.bar(index + bar_width, means_women, bar_width,\n",
    "                alpha=opacity, color='r',\n",
    "                yerr=std_women, error_kw=error_config,\n",
    "                label='Women')\n",
    "\n",
    "ax.set_xlabel('Group')\n",
    "ax.set_ylabel('Scores')\n",
    "ax.set_title('Scores by group and gender')\n",
    "ax.set_xticks(index + bar_width / 2)\n",
    "ax.set_xticklabels(('A', 'B', 'C', 'D', 'E'))\n",
    "ax.legend()\n",
    "\n",
    "fig.tight_layout()\n",
    "plt.show()"
   ]
  },
  {
   "cell_type": "code",
   "execution_count": 3,
   "metadata": {},
   "outputs": [],
   "source": [
    "mean = 0.6232045355748705\n",
    "std = 0.016964115918816757"
   ]
  },
  {
   "cell_type": "code",
   "execution_count": 4,
   "metadata": {},
   "outputs": [],
   "source": [
    "x=\"\"\"0.6232045355748705,0.016964115918816757\n",
    "0.6113136165451675,0.014768287068459488\n",
    "0.6165323275274028,0.015027952888455624\n",
    "0.6271844334501597,0.01522378431923893\n",
    "0.6232027145061074,0.01585566490373028\n",
    "0.6250535256642673,0.011258163504008822\n",
    "0.6247664313441772,0.012046151169006869\n",
    "0.6299533443030807,0.014393437723894134\n",
    "0.6313417220813634,0.013469482192762533\n",
    "0.6264054463069164,0.01368341724403886\n",
    "0.6274625589375601,0.01328905296990748\n",
    "0.6259573100226313,0.01242207189835123\"\"\""
   ]
  },
  {
   "cell_type": "code",
   "execution_count": 5,
   "metadata": {},
   "outputs": [],
   "source": [
    "tmp = np.array(list(map(lambda arg: list(map(float, arg.split(','))), x.split('\\n'))))\n",
    "means = tmp[:, 0]\n",
    "std = tmp[:, 1]"
   ]
  },
  {
   "cell_type": "code",
   "execution_count": 6,
   "metadata": {},
   "outputs": [
    {
     "data": {
      "text/plain": [
       "array([0.62320454, 0.61131362, 0.61653233, 0.62718443, 0.62320271,\n",
       "       0.62505353, 0.62476643, 0.62995334, 0.63134172, 0.62640545,\n",
       "       0.62746256, 0.62595731])"
      ]
     },
     "execution_count": 6,
     "metadata": {},
     "output_type": "execute_result"
    }
   ],
   "source": [
    "means"
   ]
  },
  {
   "cell_type": "code",
   "execution_count": 7,
   "metadata": {},
   "outputs": [],
   "source": [
    "std = std / np.array([np.sqrt(15)] + [np.sqrt(20) for _ in range(11)])"
   ]
  },
  {
   "cell_type": "code",
   "execution_count": 8,
   "metadata": {},
   "outputs": [
    {
     "data": {
      "text/plain": [
       "array([0.00438012, 0.00330229, 0.00336035, 0.00340414, 0.00354543,\n",
       "       0.0025174 , 0.0026936 , 0.00321847, 0.00301187, 0.00305971,\n",
       "       0.00297152, 0.00277766])"
      ]
     },
     "execution_count": 8,
     "metadata": {},
     "output_type": "execute_result"
    }
   ],
   "source": [
    "std"
   ]
  },
  {
   "cell_type": "code",
   "execution_count": 9,
   "metadata": {},
   "outputs": [
    {
     "data": {
      "image/png": "[encoded data removed]",
      "text/plain": [
       "<Figure size 720x504 with 1 Axes>"
      ]
     },
     "metadata": {},
     "output_type": "display_data"
    }
   ],
   "source": [
    "fig, ax = plt.subplots(figsize=(10, 7))\n",
    "\n",
    "index = np.arange(n_groups)\n",
    "bar_width = 0.9\n",
    "\n",
    "opacity = 0.5\n",
    "error_config = {'ecolor': '0.3'}\n",
    "\n",
    "index = np.arange(12)\n",
    "\n",
    "rects = ax.bar(0, means[0], bar_width,\n",
    "               alpha=opacity, color='b',\n",
    "               yerr=std[0], error_kw=error_config,\n",
    "               label='baseline')\n",
    "\n",
    "rects = ax.bar(np.arange(1, 12)[means[1:] > means[0]],\n",
    "               means[1:][means[1:] > means[0]],\n",
    "               bar_width, alpha=opacity, color='r',\n",
    "               yerr=std[1:][means[1:] > means[0]],\n",
    "               error_kw=error_config,\n",
    "               label='constant not beated by baseline')\n",
    "\n",
    "rects = ax.bar(np.arange(1, 12)[means[1:] <= means[0]],\n",
    "               means[1:][means[1:] <= means[0]],\n",
    "               bar_width, alpha=opacity, color='g',\n",
    "               yerr=std[1:][means[1:] <= means[0]],\n",
    "               error_kw=error_config,\n",
    "               label='constants beated by baseline')\n",
    "\n",
    "ax.set_xlabel('Models')\n",
    "ax.set_ylabel('Scores')\n",
    "ax.set_title('Scores of baseline and constant predictions')\n",
    "ax.set_xticks(index)\n",
    "ax.set_xticklabels(['baseline'] + ['pos={}'.format(i) for i in list(range(10)) + [100]])\n",
    "ax.set_ylim(0.6, 0.65)\n",
    "ax.legend()\n",
    "\n",
    "fig.tight_layout()\n",
    "plt.show()"
   ]
  },
  {
   "cell_type": "code",
   "execution_count": 10,
   "metadata": {},
   "outputs": [
    {
     "name": "stderr",
     "output_type": "stream",
     "text": [
      "No handles with labels found to put in legend.\n"
     ]
    },
    {
     "data": {
      "image/png": "[encoded data removed]",
      "text/plain": [
       "<Figure size 720x504 with 1 Axes>"
      ]
     },
     "metadata": {},
     "output_type": "display_data"
    }
   ],
   "source": [
    "fig, ax = plt.subplots(figsize=(10, 7))\n",
    "(0., 0.)\n",
    "means = [0.6232045355748705, 0.6101406990646888, 0.6206963085727446]\n",
    "std = [0.016964115918816757 / np.sqrt(15), 0.0012785364607462897, 0.0036245474316436315]\n",
    "\n",
    "index = np.arange(len(means))\n",
    "bar_width = 0.9\n",
    "\n",
    "opacity = 0.5\n",
    "error_config = {'ecolor': '0.3'}\n",
    "\n",
    "rects = ax.bar(index, means, bar_width,\n",
    "               alpha=opacity, color='b',\n",
    "               yerr=std, error_kw=error_config)\n",
    "\n",
    "ax.set_xlabel('Models')\n",
    "ax.set_ylabel('Scores')\n",
    "ax.set_title('Scores for different algorithms')\n",
    "ax.set_xticks(index)\n",
    "ax.set_xticklabels(['baseline', 'Greedy', 'Adaptive'])\n",
    "ax.set_ylim(0.6, 0.65)\n",
    "ax.legend()\n",
    "\n",
    "fig.tight_layout()\n",
    "plt.show()"
   ]
  },
  {
   "cell_type": "markdown",
   "metadata": {},
   "source": [
    "0.10&$0.6356\\pm0.0045$\\\\\n",
    "0.18&$0.6359\\pm0.0060$\\\\\n",
    "0.28&$0.6290\\pm0.0066$\\\\\n",
    "0.37&$0.6220\\pm0.0079$\\\\\n",
    "0.46&$0.6296\\pm0.0059$\\\\\n",
    "0.55&$0.6379\\pm0.0035$\\\\\n",
    "0.63&$0.6346\\pm0.0068$\\\\\n",
    "0.72&$0.6226\\pm0.0054$\\\\\n",
    "0.81&$0.6308\\pm0.0048$\\\\\n",
    "0.90&$0.6259\\pm0.0069$\\\\"
   ]
  },
  {
   "cell_type": "code",
   "execution_count": 11,
   "metadata": {},
   "outputs": [
    {
     "ename": "ValueError",
     "evalue": "could not convert string to float: '0.6232045355748705,0.016964115918816757'",
     "output_type": "error",
     "traceback": [
      "\u001b[0;31m---------------------------------------------------------------------------\u001b[0m",
      "\u001b[0;31mValueError\u001b[0m                                Traceback (most recent call last)",
      "\u001b[0;32m<ipython-input-11-364cc267aa83>\u001b[0m in \u001b[0;36m<module>\u001b[0;34m()\u001b[0m\n\u001b[0;32m----> 1\u001b[0;31m \u001b[0mtmp\u001b[0m \u001b[0;34m=\u001b[0m \u001b[0mnp\u001b[0m\u001b[0;34m.\u001b[0m\u001b[0marray\u001b[0m\u001b[0;34m(\u001b[0m\u001b[0mlist\u001b[0m\u001b[0;34m(\u001b[0m\u001b[0mmap\u001b[0m\u001b[0;34m(\u001b[0m\u001b[0;32mlambda\u001b[0m \u001b[0marg\u001b[0m\u001b[0;34m:\u001b[0m \u001b[0mlist\u001b[0m\u001b[0;34m(\u001b[0m\u001b[0mmap\u001b[0m\u001b[0;34m(\u001b[0m\u001b[0mfloat\u001b[0m\u001b[0;34m,\u001b[0m \u001b[0marg\u001b[0m\u001b[0;34m.\u001b[0m\u001b[0msplit\u001b[0m\u001b[0;34m(\u001b[0m\u001b[0;34m' '\u001b[0m\u001b[0;34m)\u001b[0m\u001b[0;34m)\u001b[0m\u001b[0;34m)\u001b[0m\u001b[0;34m,\u001b[0m \u001b[0mx\u001b[0m\u001b[0;34m.\u001b[0m\u001b[0msplit\u001b[0m\u001b[0;34m(\u001b[0m\u001b[0;34m'\\n'\u001b[0m\u001b[0;34m)\u001b[0m\u001b[0;34m)\u001b[0m\u001b[0;34m)\u001b[0m\u001b[0;34m)\u001b[0m\u001b[0;34m\u001b[0m\u001b[0m\n\u001b[0m\u001b[1;32m      2\u001b[0m \u001b[0mths\u001b[0m \u001b[0;34m=\u001b[0m \u001b[0mtmp\u001b[0m\u001b[0;34m[\u001b[0m\u001b[0;34m:\u001b[0m\u001b[0;34m,\u001b[0m\u001b[0;36m0\u001b[0m\u001b[0;34m]\u001b[0m\u001b[0;34m\u001b[0m\u001b[0m\n\u001b[1;32m      3\u001b[0m \u001b[0mmeans\u001b[0m \u001b[0;34m=\u001b[0m \u001b[0mtmp\u001b[0m\u001b[0;34m[\u001b[0m\u001b[0;34m:\u001b[0m\u001b[0;34m,\u001b[0m \u001b[0;36m1\u001b[0m\u001b[0;34m]\u001b[0m\u001b[0;34m\u001b[0m\u001b[0m\n\u001b[1;32m      4\u001b[0m \u001b[0mstd\u001b[0m \u001b[0;34m=\u001b[0m \u001b[0mtmp\u001b[0m\u001b[0;34m[\u001b[0m\u001b[0;34m:\u001b[0m\u001b[0;34m,\u001b[0m \u001b[0;36m2\u001b[0m\u001b[0;34m]\u001b[0m\u001b[0;34m\u001b[0m\u001b[0m\n",
      "\u001b[0;32m<ipython-input-11-364cc267aa83>\u001b[0m in \u001b[0;36m<lambda>\u001b[0;34m(arg)\u001b[0m\n\u001b[0;32m----> 1\u001b[0;31m \u001b[0mtmp\u001b[0m \u001b[0;34m=\u001b[0m \u001b[0mnp\u001b[0m\u001b[0;34m.\u001b[0m\u001b[0marray\u001b[0m\u001b[0;34m(\u001b[0m\u001b[0mlist\u001b[0m\u001b[0;34m(\u001b[0m\u001b[0mmap\u001b[0m\u001b[0;34m(\u001b[0m\u001b[0;32mlambda\u001b[0m \u001b[0marg\u001b[0m\u001b[0;34m:\u001b[0m \u001b[0mlist\u001b[0m\u001b[0;34m(\u001b[0m\u001b[0mmap\u001b[0m\u001b[0;34m(\u001b[0m\u001b[0mfloat\u001b[0m\u001b[0;34m,\u001b[0m \u001b[0marg\u001b[0m\u001b[0;34m.\u001b[0m\u001b[0msplit\u001b[0m\u001b[0;34m(\u001b[0m\u001b[0;34m' '\u001b[0m\u001b[0;34m)\u001b[0m\u001b[0;34m)\u001b[0m\u001b[0;34m)\u001b[0m\u001b[0;34m,\u001b[0m \u001b[0mx\u001b[0m\u001b[0;34m.\u001b[0m\u001b[0msplit\u001b[0m\u001b[0;34m(\u001b[0m\u001b[0;34m'\\n'\u001b[0m\u001b[0;34m)\u001b[0m\u001b[0;34m)\u001b[0m\u001b[0;34m)\u001b[0m\u001b[0;34m)\u001b[0m\u001b[0;34m\u001b[0m\u001b[0m\n\u001b[0m\u001b[1;32m      2\u001b[0m \u001b[0mths\u001b[0m \u001b[0;34m=\u001b[0m \u001b[0mtmp\u001b[0m\u001b[0;34m[\u001b[0m\u001b[0;34m:\u001b[0m\u001b[0;34m,\u001b[0m\u001b[0;36m0\u001b[0m\u001b[0;34m]\u001b[0m\u001b[0;34m\u001b[0m\u001b[0m\n\u001b[1;32m      3\u001b[0m \u001b[0mmeans\u001b[0m \u001b[0;34m=\u001b[0m \u001b[0mtmp\u001b[0m\u001b[0;34m[\u001b[0m\u001b[0;34m:\u001b[0m\u001b[0;34m,\u001b[0m \u001b[0;36m1\u001b[0m\u001b[0;34m]\u001b[0m\u001b[0;34m\u001b[0m\u001b[0m\n\u001b[1;32m      4\u001b[0m \u001b[0mstd\u001b[0m \u001b[0;34m=\u001b[0m \u001b[0mtmp\u001b[0m\u001b[0;34m[\u001b[0m\u001b[0;34m:\u001b[0m\u001b[0;34m,\u001b[0m \u001b[0;36m2\u001b[0m\u001b[0;34m]\u001b[0m\u001b[0;34m\u001b[0m\u001b[0m\n",
      "\u001b[0;31mValueError\u001b[0m: could not convert string to float: '0.6232045355748705,0.016964115918816757'"
     ]
    }
   ],
   "source": [
    "tmp = np.array(list(map(lambda arg: list(map(float, arg.split(' '))), x.split('\\n'))))\n",
    "ths = tmp[:,0]\n",
    "means = tmp[:, 1]\n",
    "std = tmp[:, 2]"
   ]
  },
  {
   "cell_type": "code",
   "execution_count": null,
   "metadata": {},
   "outputs": [],
   "source": [
    "fig, ax = plt.subplots(figsize=(10, 7))\n",
    "(0., 0.)\n",
    "\n",
    "index = np.arange(len(means))\n",
    "bar_width = 0.9\n",
    "\n",
    "opacity = 0.5\n",
    "error_config = {'ecolor': '0.3'}\n",
    "\n",
    "rects = ax.errorbar(ths, means, std, color='b', label=\"adaptive algorithm\")\n",
    "ax.plot([0, 1], [0.6232045355748705] * 2, color='g', label=\"baseline\")\n",
    "ax.plot([0, 1], [0.6313417220813634] * 2, color='r', label=\"best constant\")\n",
    "\n",
    "ax.set_xlabel('Threshold')\n",
    "ax.set_ylabel('Scores')\n",
    "ax.set_title('Scores for different algorithms')\n",
    "ax.set_xticks(ths)\n",
    "ax.set_xticklabels(list(map(str, ths)))\n",
    "ax.set_ylim(0.6, 0.65)\n",
    "ax.set_xlim(0, 1)\n",
    "ax.legend()\n",
    "\n",
    "fig.tight_layout()\n",
    "plt.show()"
   ]
  },
  {
   "cell_type": "code",
   "execution_count": 12,
   "metadata": {},
   "outputs": [
    {
     "name": "stderr",
     "output_type": "stream",
     "text": [
      "No handles with labels found to put in legend.\n"
     ]
    },
    {
     "data": {
      "image/png": "[encoded data removed]",
      "text/plain": [
       "<Figure size 720x504 with 1 Axes>"
      ]
     },
     "metadata": {},
     "output_type": "display_data"
    }
   ],
   "source": [
    "fig, ax = plt.subplots(figsize=(10, 7))\n",
    "(0., 0.)\n",
    "means = [0.6232045355748705, 0.6167205289531996]\n",
    "std = [0.016964115918816757 / np.sqrt(15), 0.004175084501066948]\n",
    "\n",
    "index = np.arange(len(means))\n",
    "bar_width = 0.9\n",
    "\n",
    "opacity = 0.5\n",
    "error_config = {'ecolor': '0.3'}\n",
    "\n",
    "rects = ax.bar(index, means, bar_width,\n",
    "               alpha=opacity, color='b',\n",
    "               yerr=std, error_kw=error_config)\n",
    "\n",
    "ax.set_xlabel('Models')\n",
    "ax.set_ylabel('Scores')\n",
    "ax.set_title('Scores for different algorithms')\n",
    "ax.set_xticks(index)\n",
    "ax.set_xticklabels(['non categorical', 'categorical'])\n",
    "ax.set_ylim(0.6, 0.65)\n",
    "ax.legend()\n",
    "\n",
    "fig.tight_layout()\n",
    "plt.show()"
   ]
  },
  {
   "cell_type": "code",
   "execution_count": 20,
   "metadata": {},
   "outputs": [
    {
     "data": {
      "image/png": "[encoded data removed]",
      "text/plain": [
       "<Figure size 720x504 with 1 Axes>"
      ]
     },
     "metadata": {},
     "output_type": "display_data"
    }
   ],
   "source": [
    "fig, ax = plt.subplots(figsize=(10, 7))\n",
    "(0., 0.)\n",
    "means = [0.6232045355748705, 0.6358130865122522]\n",
    "std = [0.004380115895780629, 0.0034262128604926256]\n",
    "\n",
    "index = np.arange(len(means))\n",
    "bar_width = 0.9\n",
    "\n",
    "opacity = 0.5\n",
    "error_config = {'ecolor': '0.3'}\n",
    "\n",
    "rects = ax.bar(index, means, bar_width,\n",
    "               alpha=opacity, color='b',\n",
    "               yerr=std, error_kw=error_config)\n",
    "\n",
    "ax.plot([-10, 10], [0.6313417220813634] * 2, color='r', label=\"best constant\")\n",
    "\n",
    "ax.set_xlabel('Models')\n",
    "ax.set_ylabel('Scores')\n",
    "ax.set_title('Scores for different algorithms')\n",
    "ax.set_xticks(index)\n",
    "ax.set_xticklabels(['Baseline', 'Stacking'])\n",
    "ax.set_ylim(0.6, 0.65)\n",
    "ax.set_xlim(-1, 2)\n",
    "ax.legend()\n",
    "\n",
    "fig.tight_layout()\n",
    "plt.show()"
   ]
  },
  {
   "cell_type": "code",
   "execution_count": null,
   "metadata": {},
   "outputs": [],
   "source": []
  }
 ],
 "metadata": {
  "kernelspec": {
   "display_name": "Python 3",
   "language": "python",
   "name": "python3"
  },
  "language_info": {
   "codemirror_mode": {
    "name": "ipython",
    "version": 3
   },
   "file_extension": ".py",
   "mimetype": "text/x-python",
   "name": "python",
   "nbconvert_exporter": "python",
   "pygments_lexer": "ipython3",
   "version": "3.6.5"
  }
 },
 "nbformat": 4,
 "nbformat_minor": 2
}
