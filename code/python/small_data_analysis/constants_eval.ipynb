{
 "cells": [
  {
   "cell_type": "code",
   "execution_count": 3,
   "metadata": {},
   "outputs": [],
   "source": [
    "import numpy as np\n",
    "import os\n",
    "import sys\n",
    "sys.path.append(\"../utils\")\n",
    "from metric import calculate_metric\n",
    "from json_tools import get_from_pool\n",
    "from pool_iterator import pool_iterator\n",
    "\n",
    "from matplotlib import pyplot as plt\n",
    "%matplotlib inline"
   ]
  },
  {
   "cell_type": "code",
   "execution_count": 22,
   "metadata": {},
   "outputs": [
    {
     "name": "stdout",
     "output_type": "stream",
     "text": [
      "['pos', 'id', 'metric', 'id_cnt']\n"
     ]
    }
   ],
   "source": [
    "with open(\"constants.csv\") as handler:\n",
    "    print(next(handler).strip().split(','))\n",
    "    data = [list(map(float, line.strip().split(','))) for line in handler]"
   ]
  },
  {
   "cell_type": "code",
   "execution_count": 23,
   "metadata": {},
   "outputs": [
    {
     "name": "stdout",
     "output_type": "stream",
     "text": [
      "0.5996127357371698\n",
      "0.615518731846263\n",
      "0.6194423357244512\n",
      "0.6196837834176225\n",
      "0.6193030409380619\n",
      "0.6208603485984598\n",
      "0.6209507889597503\n",
      "0.6202337260332857\n",
      "0.617635595368642\n",
      "0.6201133963344024\n",
      "0.6142247510604602\n"
     ]
    }
   ],
   "source": [
    "for pos in list(range(10)) + [100]:\n",
    "    pos_metrics = np.array([item[2] for item in data if int(item[0]) == pos])\n",
    "    pos_weights = np.array([item[3] for item in data if int(item[0]) == pos])\n",
    "    print(np.sum(pos_metrics * pos_weights) / np.sum(pos_weights))"
   ]
  },
  {
   "cell_type": "code",
   "execution_count": null,
   "metadata": {},
   "outputs": [],
   "source": []
  },
  {
   "cell_type": "code",
   "execution_count": 4,
   "metadata": {},
   "outputs": [],
   "source": [
    "def eval_consts(day):\n",
    "    data_folder = \"../../../data/best_features_days_data/\"\n",
    "    json_filename = os.path.join(data_folder, \"day_{}.json\".format(day))\n",
    "    pool_positions = get_from_pool(pool_iterator(json_filename), \"pos\", int)\n",
    "    pool_probs = get_from_pool(pool_iterator(json_filename), \"p\")\n",
    "    pool_targets = get_from_pool(pool_iterator(json_filename), \"target\", int)\n",
    "    for pos in list(range(10)) + [100]:\n",
    "        print(\n",
    "            pos,\n",
    "            calculate_metric(\n",
    "                [pos] * len(pool_positions),\n",
    "                pool_positions,\n",
    "                pool_targets,\n",
    "                pool_probs\n",
    "            )\n",
    "        )"
   ]
  },
  {
   "cell_type": "code",
   "execution_count": 5,
   "metadata": {},
   "outputs": [
    {
     "name": "stdout",
     "output_type": "stream",
     "text": [
      "0 0.5977653631284916\n",
      "1 0.6059344091618948\n",
      "2 0.5985611510791367\n",
      "3 0.646669815777043\n",
      "4 0.6277407054337464\n",
      "5 0.6202346041055717\n",
      "6 0.627939142461964\n",
      "7 0.6079545454545455\n",
      "8 0.6426274689940285\n",
      "9 0.6344328965205602\n",
      "100 0.6307139188495121\n"
     ]
    }
   ],
   "source": [
    "eval_consts(6)"
   ]
  },
  {
   "cell_type": "code",
   "execution_count": 6,
   "metadata": {},
   "outputs": [
    {
     "name": "stdout",
     "output_type": "stream",
     "text": [
      "0 0.5970394736842106\n",
      "1 0.632788868723533\n",
      "2 0.6121212121212121\n",
      "3 0.6224328593996841\n",
      "4 0.6317443687794656\n",
      "5 0.6128177966101693\n",
      "6 0.6232106339468301\n",
      "7 0.5950827897641747\n",
      "8 0.5959798994974875\n",
      "9 0.6035353535353535\n",
      "100 0.6092436974789918\n"
     ]
    }
   ],
   "source": [
    "eval_consts(3)"
   ]
  },
  {
   "cell_type": "code",
   "execution_count": null,
   "metadata": {},
   "outputs": [],
   "source": []
  },
  {
   "cell_type": "code",
   "execution_count": null,
   "metadata": {},
   "outputs": [],
   "source": [
    "    "
   ]
  },
  {
   "cell_type": "code",
   "execution_count": null,
   "metadata": {},
   "outputs": [],
   "source": []
  },
  {
   "cell_type": "code",
   "execution_count": 23,
   "metadata": {},
   "outputs": [],
   "source": [
    "pos_probs = sorted(list(set(zip(pool_positions, pool_probs))), key=lambda item: item[0])"
   ]
  },
  {
   "cell_type": "code",
   "execution_count": 24,
   "metadata": {},
   "outputs": [],
   "source": [
    "probs = [item[1] for item in pos_probs]"
   ]
  },
  {
   "cell_type": "code",
   "execution_count": 25,
   "metadata": {},
   "outputs": [
    {
     "data": {
      "text/plain": [
       "([(0, 0.05994005994),\n",
       "  (1, 0.08391608392),\n",
       "  (2, 0.08891108891),\n",
       "  (3, 0.09290709291),\n",
       "  (4, 0.09490509491),\n",
       "  (5, 0.0959040959),\n",
       "  (6, 0.0969030969),\n",
       "  (7, 0.0979020979),\n",
       "  (8, 0.0989010989),\n",
       "  (9, 0.0989010989),\n",
       "  (100, 0.09090909091)],\n",
       " [0.05994005994,\n",
       "  0.08391608392,\n",
       "  0.08891108891,\n",
       "  0.09290709291,\n",
       "  0.09490509491,\n",
       "  0.0959040959,\n",
       "  0.0969030969,\n",
       "  0.0979020979,\n",
       "  0.0989010989,\n",
       "  0.0989010989,\n",
       "  0.09090909091])"
      ]
     },
     "execution_count": 25,
     "metadata": {},
     "output_type": "execute_result"
    }
   ],
   "source": [
    "pos_probs, probs"
   ]
  },
  {
   "cell_type": "code",
   "execution_count": 29,
   "metadata": {},
   "outputs": [
    {
     "data": {
      "text/plain": [
       "[<matplotlib.lines.Line2D at 0x7feee0284f98>]"
      ]
     },
     "execution_count": 29,
     "metadata": {},
     "output_type": "execute_result"
    },
    {
     "data": {
      "image/png": "[encoded data removed]",
      "text/plain": [
       "<Figure size 432x288 with 1 Axes>"
      ]
     },
     "metadata": {},
     "output_type": "display_data"
    }
   ],
   "source": [
    "plt.plot(probs)"
   ]
  },
  {
   "cell_type": "code",
   "execution_count": 17,
   "metadata": {},
   "outputs": [
    {
     "data": {
      "text/plain": [
       "{(1, 1), (2, 2), (3, 4)}"
      ]
     },
     "execution_count": 17,
     "metadata": {},
     "output_type": "execute_result"
    }
   ],
   "source": [
    "set(zip([1,2,3],[1,2,4]))"
   ]
  },
  {
   "cell_type": "code",
   "execution_count": null,
   "metadata": {},
   "outputs": [],
   "source": []
  }
 ],
 "metadata": {
  "kernelspec": {
   "display_name": "Python 3",
   "language": "python",
   "name": "python3"
  },
  "language_info": {
   "codemirror_mode": {
    "name": "ipython",
    "version": 3
   },
   "file_extension": ".py",
   "mimetype": "text/x-python",
   "name": "python",
   "nbconvert_exporter": "python",
   "pygments_lexer": "ipython3",
   "version": "3.6.5"
  }
 },
 "nbformat": 4,
 "nbformat_minor": 2
}
