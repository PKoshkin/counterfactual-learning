{
 "cells": [
  {
   "cell_type": "code",
   "execution_count": 14,
   "metadata": {},
   "outputs": [],
   "source": [
    "import numpy as np\n",
    "import os\n",
    "import shutil"
   ]
  },
  {
   "cell_type": "code",
   "execution_count": 15,
   "metadata": {},
   "outputs": [],
   "source": [
    "def edit(classification_targets):\n",
    "    if os.path.exists(classification_targets + \"_edited\"):\n",
    "        shutil.rmtree(classification_targets + \"_edited\")\n",
    "    os.mkdir(classification_targets + \"_edited\")\n",
    "    for folder in os.listdir(classification_targets):\n",
    "        new_folder = os.path.join(classification_targets + \"_edited\", folder)\n",
    "        if os.path.exists(new_folder):\n",
    "            shutil.rmtree(new_folder)\n",
    "        os.mkdir(new_folder)\n",
    "        for filename in os.listdir(os.path.join(classification_targets, folder)):\n",
    "            old_filename = os.path.join(classification_targets, folder, filename)\n",
    "            new_filename = os.path.join(classification_targets + \"_edited\", folder, filename)\n",
    "\n",
    "            predictions = np.load(old_filename)\n",
    "            repeated_arange = np.repeat(\n",
    "                [np.arange(np.shape(predictions)[1])],\n",
    "                np.shape(predictions)[0],\n",
    "                axis=0\n",
    "            )\n",
    "            predictions = np.sum(predictions * repeated_arange, axis=1)\n",
    "\n",
    "            np.save(new_filename, predictions)"
   ]
  },
  {
   "cell_type": "code",
   "execution_count": 16,
   "metadata": {},
   "outputs": [],
   "source": [
    "edit(\"classification_targets_to_substruct_max_clicks_5\")"
   ]
  },
  {
   "cell_type": "code",
   "execution_count": null,
   "metadata": {},
   "outputs": [],
   "source": []
  }
 ],
 "metadata": {
  "kernelspec": {
   "display_name": "Python 3",
   "language": "python",
   "name": "python3"
  },
  "language_info": {
   "codemirror_mode": {
    "name": "ipython",
    "version": 3
   },
   "file_extension": ".py",
   "mimetype": "text/x-python",
   "name": "python",
   "nbconvert_exporter": "python",
   "pygments_lexer": "ipython3",
   "version": "3.6.5"
  }
 },
 "nbformat": 4,
 "nbformat_minor": 2
}
