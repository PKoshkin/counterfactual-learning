{
 "cells": [
  {
   "cell_type": "code",
   "execution_count": 1,
   "metadata": {},
   "outputs": [],
   "source": [
    "import numpy as np\n",
    "import os\n",
    "import sys\n",
    "sys.path.append(\"../utils\")\n",
    "from constants import DAYS_NUMBER\n",
    "from pool_iterator import  pool_iterator\n",
    "from json_tools import get_regression_labels"
   ]
  },
  {
   "cell_type": "code",
   "execution_count": 2,
   "metadata": {},
   "outputs": [],
   "source": [
    "data_folder = \"../../../data/best_features_days_data/\"\n",
    "\n",
    "json_filenames = [\n",
    "    os.path.join(data_folder, \"day_{}.json\".format(day))\n",
    "    for day in range(DAYS_NUMBER)\n",
    "]\n",
    "\n",
    "labels = {\n",
    "    day: get_regression_labels(pool_iterator(json_filename))\n",
    "    for day, json_filename in enumerate(json_filenames)\n",
    "}"
   ]
  },
  {
   "cell_type": "code",
   "execution_count": 3,
   "metadata": {},
   "outputs": [],
   "source": [
    "def get_mse_regression_metrics(targets_folder):\n",
    "    metrics = []\n",
    "    for folder in os.listdir(targets_folder):\n",
    "        predictions_filenames = [\n",
    "            os.path.join(targets_folder, folder, filename)\n",
    "            for filename in os.listdir(os.path.join(targets_folder, folder))\n",
    "        ]\n",
    "        for filename in predictions_filenames:\n",
    "            predictions = np.load(filename)\n",
    "            current_labels = labels[int(filename[-5])]\n",
    "            metrics.append(np.mean((predictions - current_labels) ** 2))\n",
    "    return metrics\n",
    "\n",
    "\n",
    "def get_mse_expect_classification_metrics(targets_folder):\n",
    "    metrics = []\n",
    "    for folder in os.listdir(targets_folder):\n",
    "        predictions_filenames = [\n",
    "            os.path.join(targets_folder, folder, filename)\n",
    "            for filename in os.listdir(os.path.join(targets_folder, folder))\n",
    "        ]\n",
    "        for filename in predictions_filenames:\n",
    "            predictions = np.load(filename)\n",
    "            repeated_arange = np.repeat(\n",
    "                [np.arange(np.shape(predictions)[1])],\n",
    "                np.shape(predictions)[0],\n",
    "                axis=0\n",
    "            )\n",
    "            predictions = np.sum(predictions * repeated_arange, axis=1)\n",
    "            current_labels = labels[int(filename[-5])]\n",
    "            metrics.append(np.mean((predictions - current_labels) ** 2))\n",
    "    return metrics\n",
    "\n",
    "def get_mse_softmax_classification_metrics(targets_folder, temperature):\n",
    "    metrics = []\n",
    "    for folder in os.listdir(targets_folder):\n",
    "        predictions_filenames = [\n",
    "            os.path.join(targets_folder, folder, filename)\n",
    "            for filename in os.listdir(os.path.join(targets_folder, folder))\n",
    "        ]\n",
    "        for filename in predictions_filenames:\n",
    "            predictions = np.load(filename)\n",
    "            repeated_arange = np.repeat(\n",
    "                [np.arange(np.shape(predictions)[1])],\n",
    "                np.shape(predictions)[0],\n",
    "                axis=0\n",
    "            )\n",
    "            exps = np.exp(predictions / temperature)\n",
    "            predictions = np.sum(exps * repeated_arange, axis=1) / np.sum(exps, axis=1)\n",
    "            current_labels = labels[int(filename[-5])]\n",
    "            metrics.append(np.mean((predictions - current_labels) ** 2))\n",
    "    return metrics\n",
    "\n",
    "def get_mse_argmax_classification_metrics(targets_folder):\n",
    "    metrics = []\n",
    "    for folder in os.listdir(targets_folder):\n",
    "        predictions_filenames = [\n",
    "            os.path.join(targets_folder, folder, filename)\n",
    "            for filename in os.listdir(os.path.join(targets_folder, folder))\n",
    "        ]\n",
    "        for filename in predictions_filenames:\n",
    "            predictions = np.argmax(np.load(filename), axis=1)\n",
    "            current_labels = labels[int(filename[-5])]\n",
    "            metrics.append(np.mean((predictions - current_labels) ** 2))\n",
    "    return metrics"
   ]
  },
  {
   "cell_type": "code",
   "execution_count": 4,
   "metadata": {},
   "outputs": [
    {
     "name": "stdout",
     "output_type": "stream",
     "text": [
      "0.525436802845968 0.004115428630544515\n"
     ]
    }
   ],
   "source": [
    "metrics = get_mse_regression_metrics(\"targets_to_substruct\")\n",
    "print(np.mean(metrics), np.std(metrics) / np.sqrt(15))"
   ]
  },
  {
   "cell_type": "code",
   "execution_count": 5,
   "metadata": {},
   "outputs": [
    {
     "name": "stdout",
     "output_type": "stream",
     "text": [
      "0.5433750969183098 0.004866064557117116\n",
      "0.642852622314692 0.0036590592717397567\n"
     ]
    }
   ],
   "source": [
    "metrics = get_mse_expect_classification_metrics(\n",
    "    \"classification_targets_to_substruct_max_clicks_0\"\n",
    ")\n",
    "print(np.mean(metrics), np.std(metrics) / np.sqrt(15))\n",
    "metrics = get_mse_argmax_classification_metrics(\n",
    "    \"classification_targets_to_substruct_max_clicks_0\"\n",
    ")\n",
    "print(np.mean(metrics), np.std(metrics) / np.sqrt(15))"
   ]
  },
  {
   "cell_type": "code",
   "execution_count": 6,
   "metadata": {},
   "outputs": [
    {
     "name": "stdout",
     "output_type": "stream",
     "text": [
      "0.5244411473731525 0.00446401522231749\n",
      "0.687960481980466 0.005171432661184939\n"
     ]
    }
   ],
   "source": [
    "metrics = get_mse_expect_classification_metrics(\n",
    "    \"classification_targets_to_substruct_max_clicks_1\"\n",
    ")\n",
    "print(np.mean(metrics), np.std(metrics) / np.sqrt(15))\n",
    "metrics = get_mse_argmax_classification_metrics(\n",
    "    \"classification_targets_to_substruct_max_clicks_1\"\n",
    ")\n",
    "print(np.mean(metrics), np.std(metrics) / np.sqrt(15))"
   ]
  },
  {
   "cell_type": "code",
   "execution_count": 7,
   "metadata": {},
   "outputs": [
    {
     "name": "stdout",
     "output_type": "stream",
     "text": [
      "0.522108665315979 0.004245636768204069\n",
      "0.686681535722337 0.004846568448984567\n"
     ]
    }
   ],
   "source": [
    "metrics = get_mse_expect_classification_metrics(\n",
    "    \"classification_targets_to_substruct_max_clicks_2\"\n",
    ")\n",
    "print(np.mean(metrics), np.std(metrics) / np.sqrt(15))\n",
    "metrics = get_mse_argmax_classification_metrics(\n",
    "    \"classification_targets_to_substruct_max_clicks_2\"\n",
    ")\n",
    "print(np.mean(metrics), np.std(metrics) / np.sqrt(15))"
   ]
  },
  {
   "cell_type": "code",
   "execution_count": 8,
   "metadata": {},
   "outputs": [
    {
     "name": "stdout",
     "output_type": "stream",
     "text": [
      "0.521906416210771 0.004232799730499929\n",
      "0.6881919747098552 0.005124028476085855\n"
     ]
    }
   ],
   "source": [
    "metrics = get_mse_expect_classification_metrics(\n",
    "    \"classification_targets_to_substruct_max_clicks_3\"\n",
    ")\n",
    "print(np.mean(metrics), np.std(metrics) / np.sqrt(15))\n",
    "metrics = get_mse_argmax_classification_metrics(\n",
    "    \"classification_targets_to_substruct_max_clicks_3\"\n",
    ")\n",
    "print(np.mean(metrics), np.std(metrics) / np.sqrt(15))"
   ]
  },
  {
   "cell_type": "code",
   "execution_count": 9,
   "metadata": {},
   "outputs": [
    {
     "name": "stdout",
     "output_type": "stream",
     "text": [
      "0.5219278134068053 0.004190988519672796\n",
      "0.6877532600118812 0.0050017800411887355\n"
     ]
    }
   ],
   "source": [
    "metrics = get_mse_expect_classification_metrics(\n",
    "    \"classification_targets_to_substruct_max_clicks_4\"\n",
    ")\n",
    "print(np.mean(metrics), np.std(metrics) / np.sqrt(15))\n",
    "metrics = get_mse_argmax_classification_metrics(\n",
    "    \"classification_targets_to_substruct_max_clicks_4\"\n",
    ")\n",
    "print(np.mean(metrics), np.std(metrics) / np.sqrt(15))"
   ]
  },
  {
   "cell_type": "code",
   "execution_count": 10,
   "metadata": {},
   "outputs": [
    {
     "name": "stdout",
     "output_type": "stream",
     "text": [
      "0.5217916759759469 0.004201494569045797\n",
      "0.6875614772246965 0.004942825738470855\n"
     ]
    }
   ],
   "source": [
    "metrics = get_mse_expect_classification_metrics(\n",
    "    \"classification_targets_to_substruct_max_clicks_5\"\n",
    ")\n",
    "print(np.mean(metrics), np.std(metrics) / np.sqrt(15))\n",
    "metrics = get_mse_argmax_classification_metrics(\n",
    "    \"classification_targets_to_substruct_max_clicks_5\"\n",
    ")\n",
    "print(np.mean(metrics), np.std(metrics) / np.sqrt(15))"
   ]
  },
  {
   "cell_type": "code",
   "execution_count": 11,
   "metadata": {},
   "outputs": [
    {
     "name": "stdout",
     "output_type": "stream",
     "text": [
      " 0.5446472438663498 0.004141963237655343\n"
     ]
    }
   ],
   "source": [
    "metrics = get_mse_softmax_classification_metrics(\n",
    "    \"classification_targets_to_substruct_max_clicks_3\",\n",
    "    0.15\n",
    ")\n",
    "print(\"\", np.mean(metrics), np.std(metrics) / np.sqrt(15))"
   ]
  },
  {
   "cell_type": "code",
   "execution_count": null,
   "metadata": {},
   "outputs": [],
   "source": []
  }
 ],
 "metadata": {
  "kernelspec": {
   "display_name": "Python 3",
   "language": "python",
   "name": "python3"
  },
  "language_info": {
   "codemirror_mode": {
    "name": "ipython",
    "version": 3
   },
   "file_extension": ".py",
   "mimetype": "text/x-python",
   "name": "python",
   "nbconvert_exporter": "python",
   "pygments_lexer": "ipython3",
   "version": "3.6.5"
  }
 },
 "nbformat": 4,
 "nbformat_minor": 2
}
