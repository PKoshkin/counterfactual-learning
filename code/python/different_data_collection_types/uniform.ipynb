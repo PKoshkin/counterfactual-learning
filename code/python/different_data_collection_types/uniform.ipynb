{
 "cells": [
  {
   "cell_type": "code",
   "execution_count": 1,
   "metadata": {},
   "outputs": [],
   "source": [
    "import numpy as np\n",
    "import sys\n",
    "\n",
    "sys.path.append('../general')\n",
    "from pool import Pool\n",
    "from metric import metric\n",
    "\n",
    "sys.path.append('../eleven_regressions/')\n",
    "from counterfactual_model import CounterfactualModel\n",
    "\n",
    "from collections import Counter\n",
    "import xgboost as xgb\n",
    "from matplotlib import pyplot as pp\n",
    "%matplotlib inline"
   ]
  },
  {
   "cell_type": "code",
   "execution_count": 2,
   "metadata": {},
   "outputs": [],
   "source": [
    "def make_uniform_probas(pool):\n",
    "    unique_queries = list(set(map(tuple, pool.queries)))\n",
    "    positions_for_queries = {\n",
    "        query: []\n",
    "        for query in unique_queries\n",
    "    }\n",
    "    for position, query in zip(pool.positions, pool.queries):\n",
    "        positions_for_queries[tuple(query)].append(position)\n",
    "    new_probas = [\n",
    "        1 / len(positions_for_queries[tuple(query)])\n",
    "        for query in pool.queries\n",
    "    ]\n",
    "    return new_probas"
   ]
  },
  {
   "cell_type": "code",
   "execution_count": 3,
   "metadata": {
    "collapsed": true
   },
   "outputs": [],
   "source": [
    "pool = Pool('../data')\n",
    "pool.probas = make_uniform_probas(pool)"
   ]
  },
  {
   "cell_type": "code",
   "execution_count": 5,
   "metadata": {},
   "outputs": [],
   "source": [
    "scores = []\n",
    "for i in range(100):\n",
    "    train_pool, test_pool = pool.train_test_split()\n",
    "    train_pools = train_pool.split_by_position()\n",
    "    models = [\n",
    "        xgb.XGBRegressor()\n",
    "        for position in range(CounterfactualModel.NONE_POSITION)\n",
    "    ]\n",
    "    model = CounterfactualModel(models)\n",
    "    model.fit(train_pools)\n",
    "    prediction = model.predict(test_pool)\n",
    "    scores.append(\n",
    "        metric(prediction, test_pool.positions, test_pool.targets, test_pool.probas)\n",
    "    )"
   ]
  },
  {
   "cell_type": "code",
   "execution_count": 6,
   "metadata": {},
   "outputs": [
    {
     "data": {
      "text/plain": [
       "-0.0135343472099525"
      ]
     },
     "execution_count": 6,
     "metadata": {},
     "output_type": "execute_result"
    }
   ],
   "source": [
    "np.mean(scores)"
   ]
  },
  {
   "cell_type": "code",
   "execution_count": 7,
   "metadata": {},
   "outputs": [
    {
     "data": {
      "text/plain": [
       "0.05019685561637613"
      ]
     },
     "execution_count": 7,
     "metadata": {},
     "output_type": "execute_result"
    }
   ],
   "source": [
    "np.std(scores)"
   ]
  },
  {
   "cell_type": "code",
   "execution_count": 8,
   "metadata": {},
   "outputs": [
    {
     "data": {
      "text/plain": [
       "[-0.05083378607696957,\n",
       " 0.012610223637686836,\n",
       " -0.06890368215243022,\n",
       " 0.004797334021992153,\n",
       " -0.028906123201052347,\n",
       " -0.04947087431837011,\n",
       " 0.014662805903840948,\n",
       " -0.0030661492149035136,\n",
       " -0.059829374688642994,\n",
       " -0.060039739379176386,\n",
       " 0.026248488706571083,\n",
       " 0.05761221792079784,\n",
       " -0.019525067974019934,\n",
       " -0.06774828891400937,\n",
       " -0.08858890645813058,\n",
       " 0.04786186971487822,\n",
       " 0.030322464982668558,\n",
       " -0.06265173255514216,\n",
       " 0.0016100763347413804,\n",
       " -0.013303698976834616,\n",
       " -0.013262648756857271,\n",
       " -0.043151995007638576,\n",
       " 0.031052817432968706,\n",
       " -0.01855678230744821,\n",
       " -0.07505318243415267,\n",
       " -0.04608134800416452,\n",
       " -0.2059195612139172,\n",
       " 0.034908658553052835,\n",
       " 0.0459641540867311,\n",
       " 0.0007352010983007925,\n",
       " -0.07572078253604747,\n",
       " -0.03654697981145647,\n",
       " 0.010289089856324372,\n",
       " -0.0022552040020624798,\n",
       " 0.030369918598069087,\n",
       " 0.04451807105982745,\n",
       " -0.11665899314703765,\n",
       " 0.03922929565994828,\n",
       " 0.016774457132374798,\n",
       " -0.1562500838747731,\n",
       " -0.05813260558799461,\n",
       " -0.0008278772919266312,\n",
       " -0.06565281097094218,\n",
       " -0.016498410397105746,\n",
       " -0.0706119049390157,\n",
       " -0.005124262112158317,\n",
       " 0.022357984233785558,\n",
       " -0.04782726010790578,\n",
       " 0.06714385238400213,\n",
       " -0.04507281996585705,\n",
       " -0.016326865553855895,\n",
       " 0.0643917488389545,\n",
       " 0.04412192838059531,\n",
       " -0.024688289302366752,\n",
       " -0.02258229190331918,\n",
       " 0.03786539094315635,\n",
       " 0.05764596503310734,\n",
       " 0.04107029570032049,\n",
       " -0.14015646242212365,\n",
       " 0.043186476544097616,\n",
       " 0.010220102307973085,\n",
       " 0.026771532513477185,\n",
       " -0.049243900855382286,\n",
       " -0.0024505099764576665,\n",
       " -0.0035702787527331597,\n",
       " 0.0025083680506105778,\n",
       " -0.006383562158655237,\n",
       " 0.04403950473997328,\n",
       " -0.06497463570700751,\n",
       " 0.06597294668356578,\n",
       " 0.016616736906546133,\n",
       " 0.04228774831030104,\n",
       " -0.027013003450852852,\n",
       " -0.030190430875177737,\n",
       " 0.0065065642727745905,\n",
       " -0.012650565328421416,\n",
       " -0.0011526671559722336,\n",
       " 0.020944350979946277,\n",
       " -0.009451629417913932,\n",
       " -0.06048911930455102,\n",
       " -0.007049757370242366,\n",
       " 0.029316789313598917,\n",
       " -0.11447044245402019,\n",
       " 0.0015675950823006806,\n",
       " 0.006228316863377889,\n",
       " -0.0006905974723674633,\n",
       " -0.08980397820251959,\n",
       " -0.006060993653756601,\n",
       " -0.06850438630139387,\n",
       " 0.00515083556705051,\n",
       " 0.03983653982259609,\n",
       " 0.03666605477421372,\n",
       " 0.009638803901495756,\n",
       " -0.08226361380241536,\n",
       " -0.01164408298112728,\n",
       " 0.0018430372476577759,\n",
       " -0.06008091964545073,\n",
       " 0.001541091450938472,\n",
       " 0.002393521428108215,\n",
       " 0.03312997245567816]"
      ]
     },
     "execution_count": 8,
     "metadata": {},
     "output_type": "execute_result"
    }
   ],
   "source": [
    "scores"
   ]
  },
  {
   "cell_type": "code",
   "execution_count": null,
   "metadata": {
    "collapsed": true
   },
   "outputs": [],
   "source": [
    "    "
   ]
  }
 ],
 "metadata": {
  "kernelspec": {
   "display_name": "Python 3",
   "language": "python",
   "name": "python3"
  },
  "language_info": {
   "codemirror_mode": {
    "name": "ipython",
    "version": 3
   },
   "file_extension": ".py",
   "mimetype": "text/x-python",
   "name": "python",
   "nbconvert_exporter": "python",
   "pygments_lexer": "ipython3",
   "version": "3.6.4"
  }
 },
 "nbformat": 4,
 "nbformat_minor": 2
}
