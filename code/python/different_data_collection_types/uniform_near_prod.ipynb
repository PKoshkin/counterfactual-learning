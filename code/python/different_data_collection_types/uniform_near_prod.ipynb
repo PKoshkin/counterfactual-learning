{
 "cells": [
  {
   "cell_type": "code",
   "execution_count": 1,
   "metadata": {
    "collapsed": true
   },
   "outputs": [],
   "source": [
    "import numpy as np\n",
    "import sys\n",
    "\n",
    "sys.path.append('../general')\n",
    "from pool import Pool\n",
    "from metric import metric\n",
    "\n",
    "sys.path.append('../eleven_regressions/')\n",
    "from counterfactual_model import CounterfactualModel\n",
    "\n",
    "from collections import Counter\n",
    "import xgboost as xgb\n",
    "from matplotlib import pyplot as pp\n",
    "%matplotlib inline"
   ]
  },
  {
   "cell_type": "code",
   "execution_count": 2,
   "metadata": {
    "collapsed": true
   },
   "outputs": [],
   "source": [
    "def make_uniform_probas(pool):\n",
    "    unique_queries = list(set(map(tuple, pool.queries)))\n",
    "    positions_for_queries = {\n",
    "        query: []\n",
    "        for query in unique_queries\n",
    "    }\n",
    "    for position, query in zip(pool.positions, pool.queries):\n",
    "        positions_for_queries[tuple(query)].append(position)\n",
    "    new_probas = [\n",
    "        1 / len(positions_for_queries[tuple(query)])\n",
    "        for query in pool.queries\n",
    "    ]\n",
    "    return new_probas\n",
    "\n",
    "def make_uniform_near_prod_probas(pool):\n",
    "    mask = [\n",
    "        abs(position - prod_pos) < 2\n",
    "        for position, prod_pos in zip(pool.positions, pool.prod_positions)\n",
    "    ]\n",
    "    pool.filter(mask)\n",
    "    return make_uniform_probas(pool)"
   ]
  },
  {
   "cell_type": "code",
   "execution_count": 3,
   "metadata": {},
   "outputs": [],
   "source": [
    "pool = Pool('../data')\n",
    "pool.probas = make_uniform_near_prod_probas(pool)"
   ]
  },
  {
   "cell_type": "code",
   "execution_count": 4,
   "metadata": {
    "collapsed": true
   },
   "outputs": [],
   "source": [
    "scores = []\n",
    "for i in range(100):\n",
    "    train_pool, test_pool = pool.train_test_split()\n",
    "    train_pools = train_pool.split_by_position()\n",
    "    models = [\n",
    "        xgb.XGBRegressor()\n",
    "        for position in range(CounterfactualModel.NONE_POSITION)\n",
    "    ]\n",
    "    model = CounterfactualModel(models)\n",
    "    model.fit(train_pools)\n",
    "    prediction = model.predict(test_pool)\n",
    "    scores.append(\n",
    "        metric(prediction, test_pool.positions, test_pool.targets, test_pool.probas)\n",
    "    )"
   ]
  },
  {
   "cell_type": "code",
   "execution_count": 5,
   "metadata": {},
   "outputs": [
    {
     "data": {
      "text/plain": [
       "0.02358460804109976"
      ]
     },
     "execution_count": 5,
     "metadata": {},
     "output_type": "execute_result"
    }
   ],
   "source": [
    "np.mean(scores)"
   ]
  },
  {
   "cell_type": "code",
   "execution_count": 6,
   "metadata": {},
   "outputs": [
    {
     "data": {
      "text/plain": [
       "0.0547106709195335"
      ]
     },
     "execution_count": 6,
     "metadata": {},
     "output_type": "execute_result"
    }
   ],
   "source": [
    "np.std(scores)"
   ]
  },
  {
   "cell_type": "code",
   "execution_count": 7,
   "metadata": {},
   "outputs": [
    {
     "data": {
      "text/plain": [
       "[0.026719860675004856,\n",
       " 0.0592049457668479,\n",
       " 0.04758205707060462,\n",
       " 0.060999214578369015,\n",
       " 0.04310655972820198,\n",
       " 0.05736445456265128,\n",
       " 0.006452009568806567,\n",
       " 0.002761289397662974,\n",
       " -0.028663656184592563,\n",
       " 0.10537846752099883,\n",
       " -0.0001582984264167518,\n",
       " 0.009585234074810751,\n",
       " 0.08838773294353655,\n",
       " 0.036636563103183424,\n",
       " 0.00911608503039083,\n",
       " 0.0035828372161443647,\n",
       " 0.03172564209038774,\n",
       " -0.02078027935589061,\n",
       " 0.027900249421136124,\n",
       " 0.07025092733947563,\n",
       " 0.03522763252966615,\n",
       " 0.04449002790932703,\n",
       " 0.006184878054645468,\n",
       " 0.11031880289475549,\n",
       " -0.013271431801082546,\n",
       " 0.12063956970766196,\n",
       " 0.04547092865707615,\n",
       " 0.034204076282764145,\n",
       " -0.023530383267292152,\n",
       " -0.09966484719773382,\n",
       " 0.016247156593534682,\n",
       " 0.034578875955625865,\n",
       " 0.005085165381644074,\n",
       " 0.0069281857635602314,\n",
       " 0.0001424481949491722,\n",
       " 0.035613487819370175,\n",
       " 0.0015710234217040254,\n",
       " 0.05172077782863814,\n",
       " 0.0027899352553623176,\n",
       " 0.08465060752839186,\n",
       " 0.10881931283823876,\n",
       " 0.00488410917549564,\n",
       " 0.03323496372587824,\n",
       " 0.04423567293232846,\n",
       " 0.03265301244852448,\n",
       " -0.02352382665011972,\n",
       " 0.07208610714296465,\n",
       " -0.16131344216250976,\n",
       " 0.06174163719549536,\n",
       " -0.029845297655319784,\n",
       " 0.07080354976710718,\n",
       " -0.021042253881852258,\n",
       " -0.0615712628078404,\n",
       " 0.03902542669009539,\n",
       " -0.033294428726497745,\n",
       " -0.006584504815133923,\n",
       " 0.028022385482907083,\n",
       " 0.12498350118287462,\n",
       " 0.04678395247076922,\n",
       " 0.07493570972891415,\n",
       " -0.027498106763820456,\n",
       " -0.09938332192329728,\n",
       " -0.14489665969241183,\n",
       " 0.06588629881540935,\n",
       " 0.10854055845376218,\n",
       " 0.0077119231294891484,\n",
       " 0.008121837906658968,\n",
       " 0.0037016686554544394,\n",
       " -0.05530033475291637,\n",
       " 0.03162526889564165,\n",
       " 0.08026761935710623,\n",
       " 0.055418414830169856,\n",
       " 0.08062042112656456,\n",
       " 0.12761724037707595,\n",
       " 0.06710755385887884,\n",
       " 0.02956480450100369,\n",
       " -0.05218379180911603,\n",
       " 0.07218368685252598,\n",
       " -0.07965743672755667,\n",
       " 0.09603521551890382,\n",
       " 0.0029002907229404825,\n",
       " -0.04047383234320973,\n",
       " 0.018410601505408738,\n",
       " 0.05721876349253663,\n",
       " 0.006085214183504781,\n",
       " 0.10030258663410384,\n",
       " -0.028103761069489884,\n",
       " 0.009145208964798326,\n",
       " 0.10849657185504072,\n",
       " 0.002446787100920561,\n",
       " 0.01373369596008736,\n",
       " 0.047331428039095194,\n",
       " 0.008431145426636286,\n",
       " 0.010374408673475133,\n",
       " -0.08818775819159659,\n",
       " 0.05701249122477966,\n",
       " 0.0032480932103687997,\n",
       " 0.004942275712126009,\n",
       " 0.08456685882342832,\n",
       " 0.0635137358592935]"
      ]
     },
     "execution_count": 7,
     "metadata": {},
     "output_type": "execute_result"
    }
   ],
   "source": [
    "scores"
   ]
  },
  {
   "cell_type": "code",
   "execution_count": null,
   "metadata": {
    "collapsed": true
   },
   "outputs": [],
   "source": []
  }
 ],
 "metadata": {
  "kernelspec": {
   "display_name": "Python 3",
   "language": "python",
   "name": "python3"
  },
  "language_info": {
   "codemirror_mode": {
    "name": "ipython",
    "version": 3
   },
   "file_extension": ".py",
   "mimetype": "text/x-python",
   "name": "python",
   "nbconvert_exporter": "python",
   "pygments_lexer": "ipython3",
   "version": "3.6.4"
  }
 },
 "nbformat": 4,
 "nbformat_minor": 2
}
