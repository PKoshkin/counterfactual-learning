{
 "cells": [
  {
   "cell_type": "code",
   "execution_count": 1,
   "metadata": {
    "collapsed": true
   },
   "outputs": [],
   "source": [
    "import numpy as np\n",
    "\n",
    "import sys\n",
    "sys.path.append('../general')\n",
    "from pool import Pool\n",
    "\n",
    "from test_data_agregation import test_data_agregation\n",
    "from test_data_agregation import make_uniform_probas\n",
    "from test_data_agregation import make_uniform_near_prod_probas\n",
    "\n",
    "import xgboost as xgb"
   ]
  },
  {
   "cell_type": "code",
   "execution_count": 2,
   "metadata": {
    "collapsed": true
   },
   "outputs": [],
   "source": [
    "pool = Pool('../data')"
   ]
  },
  {
   "cell_type": "code",
   "execution_count": 3,
   "metadata": {
    "collapsed": true
   },
   "outputs": [],
   "source": [
    "probas_functions = [\n",
    "    lambda pool: pool.probas,\n",
    "    make_uniform_probas,\n",
    "    lambda pool: make_uniform_near_prod_probas(pool, d=1),\n",
    "    lambda pool: make_uniform_near_prod_probas(pool, d=2),\n",
    "    lambda pool: make_uniform_near_prod_probas(pool, d=3)\n",
    "]\n",
    "scores = test_data_agregation(\n",
    "    [xgb.XGBRegressor() for i in range(5)],\n",
    "    pool,\n",
    "    probas_functions\n",
    ")"
   ]
  },
  {
   "cell_type": "code",
   "execution_count": 15,
   "metadata": {},
   "outputs": [
    {
     "data": {
      "text/plain": [
       "array([1.28791987e-02, 1.82966435e-03, 8.84307069e+01, 9.78326622e+01,\n",
       "       1.11325626e+02])"
      ]
     },
     "execution_count": 15,
     "metadata": {},
     "output_type": "execute_result"
    }
   ],
   "source": [
    "np.mean(scores, axis=0)"
   ]
  },
  {
   "cell_type": "code",
   "execution_count": 17,
   "metadata": {},
   "outputs": [
    {
     "data": {
      "text/plain": [
       "[[0.01835937670586511,\n",
       "  0.02329219211607472,\n",
       "  0.00715223613315318,\n",
       "  0.0051789157868836685,\n",
       "  0.01041327299348923],\n",
       " [0.0024799891533675016,\n",
       "  0.0027270921601189506,\n",
       "  0.002480881019874855,\n",
       "  0.000899245783134743,\n",
       "  0.000561113609208001],\n",
       " [100.80969404516513,\n",
       "  114.28385421744068,\n",
       "  88.73949903456518,\n",
       "  47.589715755242594,\n",
       "  90.73077155743056],\n",
       " [111.85500197760065,\n",
       "  121.55027783015575,\n",
       "  94.86303902685403,\n",
       "  61.50670102912507,\n",
       "  99.38829132154906],\n",
       " [131.94167018651962,\n",
       "  132.70129608307096,\n",
       "  115.44531346812053,\n",
       "  69.11908522983376,\n",
       "  107.42076610997489]]"
      ]
     },
     "execution_count": 17,
     "metadata": {},
     "output_type": "execute_result"
    }
   ],
   "source": [
    "[list(x) for x in scores.T]"
   ]
  },
  {
   "cell_type": "code",
   "execution_count": null,
   "metadata": {
    "collapsed": true
   },
   "outputs": [],
   "source": []
  }
 ],
 "metadata": {
  "kernelspec": {
   "display_name": "Python 3",
   "language": "python",
   "name": "python3"
  },
  "language_info": {
   "codemirror_mode": {
    "name": "ipython",
    "version": 3
   },
   "file_extension": ".py",
   "mimetype": "text/x-python",
   "name": "python",
   "nbconvert_exporter": "python",
   "pygments_lexer": "ipython3",
   "version": "3.6.4"
  }
 },
 "nbformat": 4,
 "nbformat_minor": 2
}
