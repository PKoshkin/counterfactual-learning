{
 "cells": [
  {
   "cell_type": "code",
   "execution_count": 1,
   "metadata": {
    "collapsed": true
   },
   "outputs": [],
   "source": [
    "import numpy as np\n",
    "import sys\n",
    "\n",
    "sys.path.append('../general')\n",
    "from pool import Pool\n",
    "from metric import metric\n",
    "\n",
    "sys.path.append('../eleven_regressions/')\n",
    "from counterfactual_model import CounterfactualModel\n",
    "\n",
    "from collections import Counter\n",
    "import xgboost as xgb\n",
    "from matplotlib import pyplot as pp\n",
    "%matplotlib inline"
   ]
  },
  {
   "cell_type": "code",
   "execution_count": 2,
   "metadata": {
    "collapsed": true
   },
   "outputs": [],
   "source": [
    "pool = Pool('../data')"
   ]
  },
  {
   "cell_type": "code",
   "execution_count": 3,
   "metadata": {
    "collapsed": true
   },
   "outputs": [],
   "source": [
    "scores = []\n",
    "for i in range(100):    \n",
    "    train_pool, test_pool = pool.train_test_split()\n",
    "\n",
    "    mask = [\n",
    "        abs(position - prod_pos) < 2\n",
    "        for position, prod_pos in zip(train_pool.positions, train_pool.prod_positions)\n",
    "    ]\n",
    "    train_pool.filter(mask)\n",
    "\n",
    "    train_pools = train_pool.split_by_position()\n",
    "    models = [\n",
    "        xgb.XGBRegressor()\n",
    "        for position in range(CounterfactualModel.NONE_POSITION)\n",
    "    ]\n",
    "    model = CounterfactualModel(models)\n",
    "    model.fit(train_pools)\n",
    "    prediction = model.predict(test_pool)\n",
    "    scores.append(\n",
    "        metric(prediction, test_pool.positions, test_pool.targets, test_pool.probas)\n",
    "    )"
   ]
  },
  {
   "cell_type": "code",
   "execution_count": 4,
   "metadata": {},
   "outputs": [
    {
     "data": {
      "text/plain": [
       "-0.00982814003461605"
      ]
     },
     "execution_count": 4,
     "metadata": {},
     "output_type": "execute_result"
    }
   ],
   "source": [
    "np.mean(scores)"
   ]
  },
  {
   "cell_type": "code",
   "execution_count": 5,
   "metadata": {},
   "outputs": [
    {
     "data": {
      "text/plain": [
       "0.008652814373406918"
      ]
     },
     "execution_count": 5,
     "metadata": {},
     "output_type": "execute_result"
    }
   ],
   "source": [
    "np.std(scores)"
   ]
  },
  {
   "cell_type": "code",
   "execution_count": 6,
   "metadata": {},
   "outputs": [
    {
     "data": {
      "text/plain": [
       "[-0.010260863944220865,\n",
       " -0.024875177616149796,\n",
       " -0.008769772055847773,\n",
       " -0.025270355517029008,\n",
       " -0.013184611506217171,\n",
       " -0.010469061416992123,\n",
       " 0.009989181386768265,\n",
       " -0.005416076956338336,\n",
       " -0.016678118580696556,\n",
       " -0.01263786899859095,\n",
       " -0.012150427052003419,\n",
       " -0.0019496587003096958,\n",
       " -0.02944607484584312,\n",
       " 0.0020647620226591033,\n",
       " -0.005363252470894685,\n",
       " -0.018031629084133846,\n",
       " 0.0077149465053168685,\n",
       " -0.028613935499675665,\n",
       " 0.002557173930315186,\n",
       " -0.003366388840077208,\n",
       " -0.01953035777812862,\n",
       " 0.0003232270835236861,\n",
       " -0.018109551794402375,\n",
       " -0.00688521590217567,\n",
       " -0.0023541296026996497,\n",
       " -0.003959017777212745,\n",
       " 0.0005226600591356064,\n",
       " -0.004488901315074306,\n",
       " -0.0028400596011866116,\n",
       " -0.012952840428836081,\n",
       " -0.027029667888114242,\n",
       " 0.0015848301950744893,\n",
       " -0.014933513081793758,\n",
       " 0.0006329663964561976,\n",
       " -0.009040520931581182,\n",
       " -0.019224633013303946,\n",
       " 0.004687403350478665,\n",
       " -0.01445610772595726,\n",
       " -0.008131261856669248,\n",
       " -0.008422873352441462,\n",
       " -0.008045920152280839,\n",
       " -0.009753851943606645,\n",
       " 0.0038286232663844637,\n",
       " -0.01667138819956457,\n",
       " -0.012749878218279902,\n",
       " -0.0012738689610325674,\n",
       " -0.003405477074889457,\n",
       " 0.004813578453441392,\n",
       " -0.0169944142024482,\n",
       " -0.013136012215748038,\n",
       " -0.02305264385936172,\n",
       " -0.007903311584584105,\n",
       " -0.012595700041988074,\n",
       " -0.012142813687716596,\n",
       " -0.011423272639708658,\n",
       " -0.006744987273577894,\n",
       " -0.010434157594554133,\n",
       " -0.01903151735055816,\n",
       " -0.013050647528238136,\n",
       " -0.0027809076660630545,\n",
       " -0.018779558349052324,\n",
       " -0.014182682905736219,\n",
       " -0.009408911256406664,\n",
       " -0.01556713761944125,\n",
       " 0.00939282674058561,\n",
       " -0.02132280006569307,\n",
       " 0.0003209063876427753,\n",
       " -0.0036705163234337927,\n",
       " -0.003871868228703364,\n",
       " -0.016409000808506675,\n",
       " -0.013727231523183532,\n",
       " -0.005633532293765363,\n",
       " 0.0063331532344251444,\n",
       " -0.015031051460553741,\n",
       " -0.010875395995233397,\n",
       " -0.0195043032565017,\n",
       " -0.01727176891745063,\n",
       " -0.02113490599370067,\n",
       " -0.0192511498260302,\n",
       " -0.025751746645474322,\n",
       " -0.009854814419120235,\n",
       " -0.0010453147549750776,\n",
       " 0.001144362559004862,\n",
       " -0.005258022862500699,\n",
       " -0.01307435482252569,\n",
       " -0.022643597908107622,\n",
       " -0.011749769375481077,\n",
       " -0.006488623337999362,\n",
       " 0.0004805322843173143,\n",
       " -0.004490099985650472,\n",
       " -0.015128116935786529,\n",
       " -0.014003532420818442,\n",
       " -0.0036983684224547236,\n",
       " -0.010597971841558978,\n",
       " -0.012458592482461592,\n",
       " -0.007829203101741644,\n",
       " -0.018772995154995677,\n",
       " -0.0038513998926461893,\n",
       " -0.013749076147097567,\n",
       " -0.013085026653548113]"
      ]
     },
     "execution_count": 6,
     "metadata": {},
     "output_type": "execute_result"
    }
   ],
   "source": [
    "scores"
   ]
  },
  {
   "cell_type": "code",
   "execution_count": null,
   "metadata": {
    "collapsed": true
   },
   "outputs": [],
   "source": []
  }
 ],
 "metadata": {
  "kernelspec": {
   "display_name": "Python 3",
   "language": "python",
   "name": "python3"
  },
  "language_info": {
   "codemirror_mode": {
    "name": "ipython",
    "version": 3
   },
   "file_extension": ".py",
   "mimetype": "text/x-python",
   "name": "python",
   "nbconvert_exporter": "python",
   "pygments_lexer": "ipython3",
   "version": "3.6.4"
  }
 },
 "nbformat": 4,
 "nbformat_minor": 2
}
