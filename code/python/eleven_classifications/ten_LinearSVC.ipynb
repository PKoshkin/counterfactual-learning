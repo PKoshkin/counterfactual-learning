{
 "cells": [
  {
   "cell_type": "code",
   "execution_count": 1,
   "metadata": {
    "collapsed": true
   },
   "outputs": [],
   "source": [
    "import numpy as np\n",
    "from sklearn.svm import LinearSVC\n",
    "import sys\n",
    "sys.path.append('../general')\n",
    "from pool import Pool\n",
    "from classification_counterfactual_model import ClassificationCounterfactualModel\n",
    "from metric import metric\n",
    "from collections import Counter"
   ]
  },
  {
   "cell_type": "code",
   "execution_count": 2,
   "metadata": {},
   "outputs": [],
   "source": [
    "pool = Pool('../data')\n",
    "pool.log_features()\n",
    "train_pool, test_pool = pool.train_test_split()\n",
    "train_pools = train_pool.split_by_position()"
   ]
  },
  {
   "cell_type": "raw",
   "metadata": {},
   "source": [
    "for tmp_pool in train_pools:\n",
    "    tmp_pool.calibrate()"
   ]
  },
  {
   "cell_type": "code",
   "execution_count": 3,
   "metadata": {},
   "outputs": [],
   "source": [
    "NONE_POSITION = 11\n",
    "POSITIONS = np.arange(NONE_POSITION)\n",
    "models = [\n",
    "    LinearSVC()\n",
    "    for position in POSITIONS\n",
    "]\n",
    "model = ClassificationCounterfactualModel(models)"
   ]
  },
  {
   "cell_type": "code",
   "execution_count": 4,
   "metadata": {
    "collapsed": true
   },
   "outputs": [],
   "source": [
    "model.fit(train_pools)"
   ]
  },
  {
   "cell_type": "code",
   "execution_count": 5,
   "metadata": {},
   "outputs": [],
   "source": [
    "prediction = model.predict(test_pool)\n",
    "score = metric(prediction, test_pool.positions, test_pool.targets, test_pool.probas)"
   ]
  },
  {
   "cell_type": "code",
   "execution_count": 6,
   "metadata": {},
   "outputs": [
    {
     "data": {
      "text/plain": [
       "-0.01777737621746609"
      ]
     },
     "execution_count": 6,
     "metadata": {},
     "output_type": "execute_result"
    }
   ],
   "source": [
    "score"
   ]
  },
  {
   "cell_type": "code",
   "execution_count": 7,
   "metadata": {},
   "outputs": [
    {
     "data": {
      "text/plain": [
       "Counter({0: 963,\n",
       "         1: 970,\n",
       "         2: 790,\n",
       "         3: 809,\n",
       "         4: 935,\n",
       "         5: 853,\n",
       "         6: 800,\n",
       "         7: 874,\n",
       "         8: 670,\n",
       "         9: 670,\n",
       "         10: 170,\n",
       "         11: 18496})"
      ]
     },
     "execution_count": 7,
     "metadata": {},
     "output_type": "execute_result"
    }
   ],
   "source": [
    "Counter(prediction)"
   ]
  },
  {
   "cell_type": "code",
   "execution_count": null,
   "metadata": {
    "collapsed": true
   },
   "outputs": [],
   "source": []
  }
 ],
 "metadata": {
  "kernelspec": {
   "display_name": "Python 3",
   "language": "python",
   "name": "python3"
  },
  "language_info": {
   "codemirror_mode": {
    "name": "ipython",
    "version": 3
   },
   "file_extension": ".py",
   "mimetype": "text/x-python",
   "name": "python",
   "nbconvert_exporter": "python",
   "pygments_lexer": "ipython3",
   "version": "3.6.4"
  }
 },
 "nbformat": 4,
 "nbformat_minor": 2
}
