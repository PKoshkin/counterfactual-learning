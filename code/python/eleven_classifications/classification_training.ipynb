{
 "cells": [
  {
   "cell_type": "code",
   "execution_count": 1,
   "metadata": {
    "collapsed": true
   },
   "outputs": [],
   "source": [
    "import numpy as np\n",
    "from sklearn.svm import LinearSVC\n",
    "import sys\n",
    "sys.path.append('../general')\n",
    "from pool import Pool\n",
    "from classification_counterfactual_model import ClassificationCounterfactualModel\n",
    "from metric import metric\n",
    "from collections import Counter"
   ]
  },
  {
   "cell_type": "code",
   "execution_count": 2,
   "metadata": {
    "collapsed": true
   },
   "outputs": [],
   "source": [
    "pool = Pool('../data')\n",
    "pool.log_features()\n",
    "train_pool, test_pool = pool.train_test_split()\n",
    "train_pools = train_pool.split_by_position()"
   ]
  },
  {
   "cell_type": "code",
   "execution_count": 3,
   "metadata": {},
   "outputs": [
    {
     "name": "stdout",
     "output_type": "stream",
     "text": [
      "1562 112\n",
      "2135 137\n",
      "2492 195\n",
      "2854 196\n",
      "3202 246\n",
      "3526 259\n",
      "3814 245\n",
      "3854 284\n",
      "3819 265\n",
      "3684 275\n",
      "705 51\n"
     ]
    }
   ],
   "source": [
    "for pool in train_pools:\n",
    "    print(len(pool.targets[pool.targets == 0]), len(pool.targets[pool.targets != 0]))"
   ]
  },
  {
   "cell_type": "code",
   "execution_count": 4,
   "metadata": {},
   "outputs": [],
   "source": [
    "for tmp_pool in train_pools:\n",
    "    tmp_pool.calibrate()"
   ]
  },
  {
   "cell_type": "code",
   "execution_count": 5,
   "metadata": {
    "collapsed": true
   },
   "outputs": [],
   "source": [
    "NONE_POSITION = 11\n",
    "POSITIONS = np.arange(NONE_POSITION)\n",
    "models = [\n",
    "    LinearSVC()\n",
    "    for position in POSITIONS\n",
    "]\n",
    "model = ClassificationCounterfactualModel(models)"
   ]
  },
  {
   "cell_type": "code",
   "execution_count": 6,
   "metadata": {
    "collapsed": true
   },
   "outputs": [],
   "source": [
    "model.fit(train_pools)"
   ]
  },
  {
   "cell_type": "code",
   "execution_count": 7,
   "metadata": {
    "collapsed": true
   },
   "outputs": [],
   "source": [
    "prediction = model.predict(test_pool)\n",
    "score = metric(prediction, test_pool.positions, test_pool.targets, test_pool.probas)"
   ]
  },
  {
   "cell_type": "code",
   "execution_count": 8,
   "metadata": {},
   "outputs": [
    {
     "data": {
      "text/plain": [
       "-0.03450063611687927"
      ]
     },
     "execution_count": 8,
     "metadata": {},
     "output_type": "execute_result"
    }
   ],
   "source": [
    "score"
   ]
  },
  {
   "cell_type": "code",
   "execution_count": 9,
   "metadata": {},
   "outputs": [
    {
     "data": {
      "text/plain": [
       "Counter({0: 101,\n",
       "         1: 177,\n",
       "         2: 677,\n",
       "         3: 132,\n",
       "         4: 359,\n",
       "         5: 564,\n",
       "         6: 287,\n",
       "         7: 497,\n",
       "         8: 493,\n",
       "         9: 653,\n",
       "         10: 5,\n",
       "         11: 23055})"
      ]
     },
     "execution_count": 9,
     "metadata": {},
     "output_type": "execute_result"
    }
   ],
   "source": [
    "Counter(prediction)"
   ]
  },
  {
   "cell_type": "code",
   "execution_count": 10,
   "metadata": {},
   "outputs": [
    {
     "name": "stdout",
     "output_type": "stream",
     "text": [
      "112 112\n",
      "Counter({0: 224})\n",
      "137 137\n",
      "Counter({1: 274})\n",
      "195 195\n",
      "Counter({2: 390})\n",
      "196 196\n",
      "Counter({3: 392})\n",
      "246 246\n",
      "Counter({4: 492})\n",
      "259 259\n",
      "Counter({5: 518})\n",
      "245 245\n",
      "Counter({6: 490})\n",
      "284 284\n",
      "Counter({7: 568})\n",
      "265 265\n",
      "Counter({8: 530})\n",
      "275 275\n",
      "Counter({9: 550})\n",
      "51 51\n",
      "Counter({10: 102})\n"
     ]
    }
   ],
   "source": [
    "for pool in train_pools:\n",
    "    print(len(pool.targets[pool.targets == 0]), len(pool.targets[pool.targets != 0]))\n",
    "    print(Counter(pool.positions))"
   ]
  },
  {
   "cell_type": "code",
   "execution_count": null,
   "metadata": {
    "collapsed": true
   },
   "outputs": [],
   "source": []
  }
 ],
 "metadata": {
  "kernelspec": {
   "display_name": "Python 3",
   "language": "python",
   "name": "python3"
  },
  "language_info": {
   "codemirror_mode": {
    "name": "ipython",
    "version": 3
   },
   "file_extension": ".py",
   "mimetype": "text/x-python",
   "name": "python",
   "nbconvert_exporter": "python",
   "pygments_lexer": "ipython3",
   "version": "3.6.4"
  }
 },
 "nbformat": 4,
 "nbformat_minor": 2
}
