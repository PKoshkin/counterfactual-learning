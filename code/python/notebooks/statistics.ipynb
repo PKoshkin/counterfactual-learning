{
 "cells": [
  {
   "cell_type": "code",
   "execution_count": 1,
   "metadata": {},
   "outputs": [],
   "source": [
    "from json import loads as json_from_string\n",
    "%load_ext autoreload\n",
    "%autoreload 2"
   ]
  },
  {
   "cell_type": "code",
   "execution_count": 2,
   "metadata": {},
   "outputs": [],
   "source": [
    "json_filename = '../../../sorted_data/pool.json'"
   ]
  },
  {
   "cell_type": "code",
   "execution_count": 3,
   "metadata": {},
   "outputs": [
    {
     "name": "stdout",
     "output_type": "stream",
     "text": [
      "CPU times: user 7min 57s, sys: 10.6 s, total: 8min 7s\n",
      "Wall time: 8min 39s\n"
     ]
    }
   ],
   "source": [
    "%%time\n",
    "positions = list(range(10)) + [100]\n",
    "targets = {pos: [] for pos in positions}\n",
    "probs = {pos: [] for pos in positions}\n",
    "with open(json_filename) as handler:\n",
    "    for i, line in enumerate(handler):\n",
    "        json = json_from_string(line)\n",
    "        target = int(json[\"target\"])\n",
    "        pos = int(json[\"pos\"])\n",
    "        prob = float(json[\"p\"])\n",
    "        targets[pos].append(target)\n",
    "        probs[pos].append(prob)"
   ]
  },
  {
   "cell_type": "code",
   "execution_count": 6,
   "metadata": {},
   "outputs": [],
   "source": [
    "import numpy as np"
   ]
  },
  {
   "cell_type": "code",
   "execution_count": 8,
   "metadata": {},
   "outputs": [],
   "source": [
    "for pos in positions:\n",
    "    targets[pos] = np.array(targets[pos])\n",
    "    probs[pos] = np.array(probs[pos])"
   ]
  },
  {
   "cell_type": "code",
   "execution_count": 14,
   "metadata": {},
   "outputs": [
    {
     "name": "stdout",
     "output_type": "stream",
     "text": [
      "pos 0: 485356\n",
      "pos 1: 375183\n",
      "pos 2: 138713\n",
      "pos 3: 116783\n",
      "pos 4: 101322\n",
      "pos 5: 111620\n",
      "pos 6: 108327\n",
      "pos 7: 68271\n",
      "pos 8: 67771\n",
      "pos 9: 61234\n",
      "pos 100: 12\n"
     ]
    }
   ],
   "source": [
    "for pos in positions:\n",
    "    print(\"pos {}: {}\".format(pos, len(targets[pos])))"
   ]
  },
  {
   "cell_type": "code",
   "execution_count": 15,
   "metadata": {},
   "outputs": [],
   "source": [
    "objects_num = sum(len(targets[pos]) for pos in positions)"
   ]
  },
  {
   "cell_type": "code",
   "execution_count": 17,
   "metadata": {},
   "outputs": [
    {
     "name": "stdout",
     "output_type": "stream",
     "text": [
      "pos: 0, metric: 1.5525031129486409\n",
      "pos: 1, metric: 1.1994346576718506\n",
      "pos: 2, metric: 0.8521207771196089\n",
      "pos: 3, metric: 0.7075493073098668\n",
      "pos: 4, metric: 0.6026930254834334\n",
      "pos: 5, metric: 0.542462304400076\n",
      "pos: 6, metric: 0.48577982508973844\n",
      "pos: 7, metric: 0.4186540849528967\n",
      "pos: 8, metric: 0.37310843704805885\n",
      "pos: 9, metric: 0.33889569801283304\n",
      "pos: 100, metric: 8.564828409780545e-06\n"
     ]
    }
   ],
   "source": [
    "for pos in positions:\n",
    "    print(\"pos: {}, metric: {}\".format(pos, np.sum(targets[pos] / probs[pos]) / objects_num))"
   ]
  },
  {
   "cell_type": "code",
   "execution_count": null,
   "metadata": {},
   "outputs": [],
   "source": []
  },
  {
   "cell_type": "code",
   "execution_count": 18,
   "metadata": {},
   "outputs": [
    {
     "name": "stdout",
     "output_type": "stream",
     "text": [
      "average target: 1.0104686674105832\n"
     ]
    }
   ],
   "source": [
    "print(\"average target: {}\".format(\n",
    "    np.mean(np.concatenate([targets[pos] for pos in positions], axis=0))\n",
    "))"
   ]
  },
  {
   "cell_type": "code",
   "execution_count": null,
   "metadata": {},
   "outputs": [],
   "source": []
  }
 ],
 "metadata": {
  "kernelspec": {
   "display_name": "Python 3",
   "language": "python",
   "name": "python3"
  },
  "language_info": {
   "codemirror_mode": {
    "name": "ipython",
    "version": 3
   },
   "file_extension": ".py",
   "mimetype": "text/x-python",
   "name": "python",
   "nbconvert_exporter": "python",
   "pygments_lexer": "ipython3",
   "version": "3.6.5"
  }
 },
 "nbformat": 4,
 "nbformat_minor": 2
}
