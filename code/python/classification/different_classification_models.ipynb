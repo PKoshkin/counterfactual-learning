{
 "cells": [
  {
   "cell_type": "code",
   "execution_count": 1,
   "metadata": {
    "collapsed": true
   },
   "outputs": [],
   "source": [
    "import numpy as np\n",
    "import sys\n",
    "sys.path.append('../general')\n",
    "from pool import Pool\n",
    "import xgboost as xgb\n",
    "from sklearn.linear_model import LogisticRegression\n",
    "from sklearn.metrics import recall_score, precision_score, f1_score, accuracy_score\n",
    "from collections import Counter"
   ]
  },
  {
   "cell_type": "code",
   "execution_count": 2,
   "metadata": {
    "collapsed": true
   },
   "outputs": [],
   "source": [
    "pool = Pool('../data')\n",
    "train_pool, test_pool = pool.train_test_split()"
   ]
  },
  {
   "cell_type": "code",
   "execution_count": 3,
   "metadata": {},
   "outputs": [
    {
     "data": {
      "text/plain": [
       "Counter({0: 40675, 1: 2773, 2: 43251, 3: 3301})"
      ]
     },
     "execution_count": 3,
     "metadata": {},
     "output_type": "execute_result"
    }
   ],
   "source": [
    "Counter(pool.classification_labels)"
   ]
  },
  {
   "cell_type": "code",
   "execution_count": 5,
   "metadata": {
    "collapsed": true
   },
   "outputs": [],
   "source": [
    "train_features = np.concatenate(\n",
    "    (train_pool.features, np.reshape(train_pool.positions, (-1, 1))),\n",
    "    axis=1\n",
    ")\n",
    "test_features = np.concatenate(\n",
    "    (test_pool.features, np.reshape(test_pool.positions, (-1, 1))),\n",
    "    axis=1\n",
    ")"
   ]
  },
  {
   "cell_type": "code",
   "execution_count": 6,
   "metadata": {
    "collapsed": true
   },
   "outputs": [],
   "source": [
    "find_negative_labels_train = np.array([\n",
    "    1 if label == 1 else 0\n",
    "    for label in train_pool.classification_labels\n",
    "])\n",
    "find_negative_labels_test = np.array([\n",
    "    1 if label == 1 else 0\n",
    "    for label in test_pool.classification_labels\n",
    "])\n",
    "\n",
    "find_positive_labels_train = np.array([\n",
    "    1 if label == 3 else 0\n",
    "    for label in train_pool.classification_labels\n",
    "])\n",
    "find_positive_labels_test = np.array([\n",
    "    1 if label == 3 else 0\n",
    "    for label in test_pool.classification_labels\n",
    "])\n",
    "\n",
    "find_zero_labels_train = np.array([\n",
    "    1 if label == 2 else 0\n",
    "    for label in train_pool.classification_labels\n",
    "])\n",
    "find_zero_labels_test = np.array([\n",
    "    1 if label == 2 else 0\n",
    "    for label in test_pool.classification_labels\n",
    "])"
   ]
  },
  {
   "cell_type": "code",
   "execution_count": 7,
   "metadata": {
    "collapsed": true
   },
   "outputs": [],
   "source": [
    "def test(model, train_featiures, train_labels, test_features, test_labels):\n",
    "    model.fit(train_features, train_labels)\n",
    "    prediction = model.predict(test_features)\n",
    "    return (\n",
    "        accuracy_score(prediction, test_labels),\n",
    "        precision_score(prediction, test_labels),\n",
    "        recall_score(prediction, test_labels),\n",
    "        f1_score(prediction, test_labels)\n",
    "    )"
   ]
  },
  {
   "cell_type": "code",
   "execution_count": 9,
   "metadata": {},
   "outputs": [
    {
     "name": "stderr",
     "output_type": "stream",
     "text": [
      "/usr/lib/python3.6/site-packages/sklearn/preprocessing/label.py:151: DeprecationWarning: The truth value of an empty array is ambiguous. Returning False, but in future this will result in an error. Use `array.size > 0` to check that an array is not empty.\n",
      "  if diff:\n"
     ]
    },
    {
     "data": {
      "text/plain": [
       "(0.9702222222222222,\n",
       " 0.045949214026602174,\n",
       " 0.7169811320754716,\n",
       " 0.08636363636363635)"
      ]
     },
     "execution_count": 9,
     "metadata": {},
     "output_type": "execute_result"
    }
   ],
   "source": [
    "test(\n",
    "    xgb.XGBClassifier(),\n",
    "    train_features, find_negative_labels_train,\n",
    "    test_features, find_negative_labels_test\n",
    ")"
   ]
  },
  {
   "cell_type": "code",
   "execution_count": 10,
   "metadata": {},
   "outputs": [
    {
     "name": "stderr",
     "output_type": "stream",
     "text": [
      "/usr/lib/python3.6/site-packages/sklearn/preprocessing/label.py:151: DeprecationWarning: The truth value of an empty array is ambiguous. Returning False, but in future this will result in an error. Use `array.size > 0` to check that an array is not empty.\n",
      "  if diff:\n"
     ]
    },
    {
     "data": {
      "text/plain": [
       "(0.9651481481481482,\n",
       " 0.08486707566462168,\n",
       " 0.6434108527131783,\n",
       " 0.14995483288166214)"
      ]
     },
     "execution_count": 10,
     "metadata": {},
     "output_type": "execute_result"
    }
   ],
   "source": [
    "test(\n",
    "    xgb.XGBClassifier(),\n",
    "    train_features, find_positive_labels_train,\n",
    "    test_features, find_positive_labels_test\n",
    ")"
   ]
  },
  {
   "cell_type": "code",
   "execution_count": 11,
   "metadata": {},
   "outputs": [
    {
     "name": "stderr",
     "output_type": "stream",
     "text": [
      "/usr/lib/python3.6/site-packages/sklearn/preprocessing/label.py:151: DeprecationWarning: The truth value of an empty array is ambiguous. Returning False, but in future this will result in an error. Use `array.size > 0` to check that an array is not empty.\n",
      "  if diff:\n"
     ]
    },
    {
     "data": {
      "text/plain": [
       "(0.9361851851851852, 0.9844919373505131, 0.893432292396023, 0.9367543956245641)"
      ]
     },
     "execution_count": 11,
     "metadata": {},
     "output_type": "execute_result"
    }
   ],
   "source": [
    "test(\n",
    "    xgb.XGBClassifier(),\n",
    "    train_features, find_zero_labels_train,\n",
    "    test_features, find_zero_labels_test\n",
    ")"
   ]
  },
  {
   "cell_type": "code",
   "execution_count": 12,
   "metadata": {},
   "outputs": [
    {
     "data": {
      "text/plain": [
       "(0.968, 0.030229746070133012, 0.28735632183908044, 0.05470459518599563)"
      ]
     },
     "execution_count": 12,
     "metadata": {},
     "output_type": "execute_result"
    }
   ],
   "source": [
    "test(\n",
    "    LogisticRegression(),\n",
    "    train_features, find_negative_labels_train,\n",
    "    test_features, find_negative_labels_test\n",
    ")"
   ]
  },
  {
   "cell_type": "code",
   "execution_count": 13,
   "metadata": {},
   "outputs": [
    {
     "data": {
      "text/plain": [
       "(0.9633333333333334,\n",
       " 0.10633946830265849,\n",
       " 0.4727272727272727,\n",
       " 0.17362270450751252)"
      ]
     },
     "execution_count": 13,
     "metadata": {},
     "output_type": "execute_result"
    }
   ],
   "source": [
    "test(\n",
    "    LogisticRegression(),\n",
    "    train_features, find_positive_labels_train,\n",
    "    test_fe8atures, find_positive_labels_test\n",
    ")"
   ]
  },
  {
   "cell_type": "code",
   "execution_count": 14,
   "metadata": {},
   "outputs": [
    {
     "data": {
      "text/plain": [
       "(0.932, 0.9891983643237404, 0.883171454157195, 0.9331829099643351)"
      ]
     },
     "execution_count": 14,
     "metadata": {},
     "output_type": "execute_result"
    }
   ],
   "source": [
    "test(\n",
    "    LogisticRegression(),\n",
    "    train_features, find_zero_labels_train,\n",
    "    test_features, find_zero_labels_test\n",
    ")"
   ]
  },
  {
   "cell_type": "code",
   "execution_count": null,
   "metadata": {
    "collapsed": true
   },
   "outputs": [],
   "source": []
  }
 ],
 "metadata": {
  "kernelspec": {
   "display_name": "Python 3",
   "language": "python",
   "name": "python3"
  },
  "language_info": {
   "codemirror_mode": {
    "name": "ipython",
    "version": 3
   },
   "file_extension": ".py",
   "mimetype": "text/x-python",
   "name": "python",
   "nbconvert_exporter": "python",
   "pygments_lexer": "ipython3",
   "version": "3.6.4"
  }
 },
 "nbformat": 4,
 "nbformat_minor": 2
}
