{
 "cells": [
  {
   "cell_type": "code",
   "execution_count": 1,
   "metadata": {},
   "outputs": [],
   "source": [
    "import numpy as np\n",
    "import shutil\n",
    "import os\n",
    "from argparse import Namespace\n",
    "from catboost import CatBoostRegressor, CatBoostClassifier\n",
    "import sys\n",
    "\n",
    "sys.path.append(\"../utils/\")\n",
    "from constants import POSITIONS_VARIANTS\n",
    "sys.path.append(\"../calculating_predictions\")\n",
    "from calculate_predictions import calculate_predictions\n",
    "sys.path.append(\"../evaluation/\")\n",
    "from evaluate import evaluate\n",
    "from run_evaluation import *\n",
    "\n",
    "FEATURES_NUMBER = 16\n",
    "\n",
    "%reload_ext autoreload\n",
    "%autoreload 2"
   ]
  },
  {
   "cell_type": "code",
   "execution_count": null,
   "metadata": {},
   "outputs": [],
   "source": [
    "def greedy_positions(predictions):\n",
    "    predictions = np.argmax(predictions, axis=2)\n",
    "    def get_first_one(prediction):\n",
    "        for i, item in enumerate(prediction):\n",
    "            if item == 1:\n",
    "                return i if i != 10 else 100\n",
    "        return 100\n",
    "    return np.array([\n",
    "        get_first_one(prediction)\n",
    "        for prediction in predictions\n",
    "    ])\n",
    "\n",
    "\n",
    "def smart_positions(predictions):\n",
    "    predictions = predictions[:, :, 1]\n",
    "    return np.array(POSITIONS_VARIANTS)[np.argmax(predictions, axis=1)]\n",
    "\n",
    "\n",
    "def smart_positions_with_threshold(predictions, threshold):\n",
    "    predictions = predictions[:, :, 1]\n",
    "    positions = np.array(POSITIONS_VARIANTS)[np.argmax(predictions, axis=1)]\n",
    "    positions[np.argmax(predictions, axis=1) < threshold] = 8\n",
    "    return positions\n",
    "\n",
    "def get_greedy_metric(threshold, positions):\n",
    "    args = Namespace()\n",
    "    args.verbose = True\n",
    "    args.first_feature = 0\n",
    "    args.last_feature = FEATURES_NUMBER\n",
    "    args.data_folder = \"../../../data/best_features_days_data/\"\n",
    "    args.out_folder = \"res\"\n",
    "    args.type = \"binary_classification\"\n",
    "    args.need_position_feature = True\n",
    "    args.labels_to_substruct = None\n",
    "    args.metric_folder = \"metrics\"\n",
    "    args.model_constructor = lambda verbose: CatBoostClassifier(verbose=False)\n",
    "    args.additional_features = None\n",
    "    {\n",
    "        day: [\n",
    "            os.path.join(\"features_models_with_pos\", str(i), filename)\n",
    "            for filename in os.listdir(os.path.join(\"features_models_with_pos\", str(i)))\n",
    "        ]\n",
    "        for day in [2, 3]\n",
    "    }\n",
    "    args.train_days = [2]\n",
    "    args.validation_day = None\n",
    "    args.test_days = [3]\n",
    "    args.threshold = threshold\n",
    "    \n",
    "    def clear(folder):\n",
    "        if os.path.exists(folder):\n",
    "            shutil.rmtree(folder)\n",
    "        os.mkdir(folder)\n",
    "    \n",
    "    clear(args.out_folder)\n",
    "    clear(args.metric_folder)\n",
    "    \n",
    "    calculate_predictions(args)\n",
    "    evaluate(args.out_folder, args.data_folder, args.metric_folder, positions)\n",
    "    \n",
    "    with open(\"metrics/metrics.txt\") as handler:\n",
    "        metric = float(next(handler).strip().split()[0])\n",
    "        return metric"
   ]
  },
  {
   "cell_type": "raw",
   "metadata": {},
   "source": [
    "%%time\n",
    "from pool_iterator import pool_iterator\n",
    "targets_sum = 0\n",
    "targets_count = 0\n",
    "for item in pool_iterator(\"../../../data/pool_with_queries/pool.json\"):\n",
    "    targets_count += 1\n",
    "    targets_sum += item[\"target\"]\n",
    "average_target = targets_sum / targets_count"
   ]
  },
  {
   "cell_type": "code",
   "execution_count": null,
   "metadata": {},
   "outputs": [],
   "source": [
    "average_target = 0.6118888430078808"
   ]
  },
  {
   "cell_type": "code",
   "execution_count": null,
   "metadata": {
    "scrolled": true
   },
   "outputs": [],
   "source": [
    "metrics = [get_greedy_metric(average_target, greedy_positions) for i in range(15)]"
   ]
  },
  {
   "cell_type": "code",
   "execution_count": null,
   "metadata": {},
   "outputs": [],
   "source": [
    "np.mean(metrics), np.std(metrics) / np.sqrt(15)"
   ]
  },
  {
   "cell_type": "code",
   "execution_count": null,
   "metadata": {},
   "outputs": [],
   "source": []
  },
  {
   "cell_type": "code",
   "execution_count": null,
   "metadata": {
    "scrolled": true
   },
   "outputs": [],
   "source": [
    "metrics = [get_greedy_metric(average_target, smart_positions) for i in range(15)]"
   ]
  },
  {
   "cell_type": "code",
   "execution_count": null,
   "metadata": {},
   "outputs": [],
   "source": [
    "np.mean(metrics), np.std(metrics) / np.sqrt(15)"
   ]
  },
  {
   "cell_type": "code",
   "execution_count": null,
   "metadata": {},
   "outputs": [],
   "source": []
  },
  {
   "cell_type": "code",
   "execution_count": null,
   "metadata": {},
   "outputs": [],
   "source": [
    "metrics = [\n",
    "    get_greedy_metric(\n",
    "        average_target,\n",
    "        lambda predictions: smart_positions_with_threshold(predictions, 0.5))\n",
    "    for i in range(15)\n",
    "]"
   ]
  },
  {
   "cell_type": "code",
   "execution_count": null,
   "metadata": {},
   "outputs": [],
   "source": [
    "np.mean(metrics), np.std(metrics) / np.sqrt(15)"
   ]
  },
  {
   "cell_type": "code",
   "execution_count": null,
   "metadata": {
    "scrolled": true
   },
   "outputs": [],
   "source": [
    "res = {}\n",
    "for th in np.linspace(0.1, 0.9, 10):\n",
    "    metrics = [\n",
    "        get_greedy_metric(\n",
    "            average_target,\n",
    "            lambda predictions: smart_positions_with_threshold(predictions, th))\n",
    "        for i in range(5)\n",
    "    ]\n",
    "    res[th] = (np.mean(metrics), np.std(metrics) / np.sqrt(10))"
   ]
  },
  {
   "cell_type": "code",
   "execution_count": null,
   "metadata": {},
   "outputs": [],
   "source": [
    "res"
   ]
  },
  {
   "cell_type": "code",
   "execution_count": null,
   "metadata": {},
   "outputs": [],
   "source": [
    "for key in res:\n",
    "    res[key] = (res[key][0], res[key][1] * np.sqrt(10) / np.sqrt(5))"
   ]
  },
  {
   "cell_type": "code",
   "execution_count": null,
   "metadata": {},
   "outputs": [],
   "source": [
    "res = {0.1: (0.6355749236135495, 0.003162723271489616),\n",
    " 0.18888888888888888: (0.6359131047916202, 0.004209740060774447),\n",
    " 0.2777777777777778: (0.6290267875927288, 0.004640652431359883),\n",
    " 0.3666666666666667: (0.622029501396152, 0.005567964267894078),\n",
    " 0.4555555555555556: (0.6295784621436431, 0.004142436307717166),\n",
    " 0.5444444444444445: (0.6378853378229242, 0.002472572099384837),\n",
    " 0.6333333333333333: (0.6346278003512318, 0.0048027658295530665),\n",
    " 0.7222222222222222: (0.6226123616463015, 0.003784136582314592),\n",
    " 0.8111111111111111: (0.6308403814607049, 0.0034276639715340013),\n",
    " 0.9: (0.6259451185491536, 0.004869667873788324)}"
   ]
  },
  {
   "cell_type": "code",
   "execution_count": null,
   "metadata": {},
   "outputs": [],
   "source": [
    "res"
   ]
  },
  {
   "cell_type": "code",
   "execution_count": null,
   "metadata": {},
   "outputs": [],
   "source": []
  }
 ],
 "metadata": {
  "kernelspec": {
   "display_name": "Python 3",
   "language": "python",
   "name": "python3"
  },
  "language_info": {
   "codemirror_mode": {
    "name": "ipython",
    "version": 3
   },
   "file_extension": ".py",
   "mimetype": "text/x-python",
   "name": "python",
   "nbconvert_exporter": "python",
   "pygments_lexer": "ipython3",
   "version": "3.6.5"
  }
 },
 "nbformat": 4,
 "nbformat_minor": 2
}
