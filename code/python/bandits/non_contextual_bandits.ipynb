{
 "cells": [
  {
   "cell_type": "code",
   "execution_count": 1,
   "metadata": {},
   "outputs": [],
   "source": [
    "from matplotlib import pyplot as plt\n",
    "from collections import Counter, defaultdict\n",
    "import numpy as np\n",
    "import pickle\n",
    "import sys\n",
    "from json import loads\n",
    "\n",
    "from tomson_bandit import TomsonBandit\n",
    "from cascade_bandit import CascadeBandit\n",
    "from damerau_levenshtien import damerau_levenshtein_distance\n",
    "\n",
    "sys.path.append(\"../utils\")\n",
    "from pool_iterator import pool_iterator\n",
    "from metric import calculate_metric\n",
    "from json_tools import get_from_pool\n",
    "\n",
    "%reload_ext autoreload\n",
    "%autoreload 2\n",
    "%matplotlib inline"
   ]
  },
  {
   "cell_type": "code",
   "execution_count": 2,
   "metadata": {},
   "outputs": [],
   "source": [
    "n_objects = 569105"
   ]
  },
  {
   "cell_type": "raw",
   "metadata": {},
   "source": [
    "queries_counter = Counter()\n",
    "for counter, item in enumerate(pool_iterator(\"pool_with_queries/pool.json\")):\n",
    "    if counter % 5000 == 0:\n",
    "        print(\" {} %\".format(round(counter * 100 / n_objects)))\n",
    "    query = tuple(map(int, item[\"query\"].split()))\n",
    "    queries_counter[query] += 1"
   ]
  },
  {
   "cell_type": "raw",
   "metadata": {},
   "source": [
    "pickle.dump(queries_counter, open(\"queries_counter\", \"wb\"))"
   ]
  },
  {
   "cell_type": "raw",
   "metadata": {},
   "source": [
    "queries_by_word = defaultdict(lambda: set())\n",
    "for counter, item in enumerate(pool_iterator(\"pool_with_queries/pool.json\")):\n",
    "    if counter % 5000 == 0:\n",
    "        print(\" {} %\".format(round(counter * 100 / n_objects)))\n",
    "    query = tuple(map(int, item[\"query\"].split()))\n",
    "    for word in query:\n",
    "        queries_by_word[word].add(query)"
   ]
  },
  {
   "cell_type": "raw",
   "metadata": {},
   "source": [
    "pickle.dump(dict(queries_by_word), open(\"queries_by_word\", \"wb\"))"
   ]
  },
  {
   "cell_type": "code",
   "execution_count": 3,
   "metadata": {},
   "outputs": [],
   "source": [
    "queries_counter = pickle.load(open(\"queries_counter\", \"rb\"))\n",
    "queries_by_word = pickle.load(open(\"queries_by_word\", \"rb\"))"
   ]
  },
  {
   "cell_type": "code",
   "execution_count": 4,
   "metadata": {},
   "outputs": [
    {
     "data": {
      "text/plain": [
       "459862"
      ]
     },
     "execution_count": 4,
     "metadata": {},
     "output_type": "execute_result"
    }
   ],
   "source": [
    "len(queries_counter)"
   ]
  },
  {
   "cell_type": "code",
   "execution_count": 5,
   "metadata": {},
   "outputs": [],
   "source": [
    "def parse_query(string):\n",
    "    return tuple(map(int, string[1:-1].split(\", \")))"
   ]
  },
  {
   "cell_type": "code",
   "execution_count": 6,
   "metadata": {},
   "outputs": [
    {
     "name": "stdout",
     "output_type": "stream",
     "text": [
      "CPU times: user 5.21 s, sys: 70.2 ms, total: 5.28 s\n",
      "Wall time: 5.26 s\n"
     ]
    }
   ],
   "source": [
    "%%time\n",
    "nearest_queries = {}\n",
    "with open(\"nearest_queries.txt\") as handler:\n",
    "    for i, line in enumerate(handler):\n",
    "        parsed_line = loads((\"{\" + line.strip() + \"}\").replace('(', '\"(').replace(')', ')\"'))\n",
    "        query_str = line[:line.find(\":\")]\n",
    "        nearest_queries[parse_query(query_str)] = [\n",
    "            parse_query(other_query)\n",
    "            for other_query in parsed_line[query_str]\n",
    "        ]"
   ]
  },
  {
   "cell_type": "code",
   "execution_count": 7,
   "metadata": {
    "scrolled": true
   },
   "outputs": [
    {
     "name": "stdout",
     "output_type": "stream",
     "text": [
      "CPU times: user 5.7 s, sys: 180 ms, total: 5.88 s\n",
      "Wall time: 5.87 s\n"
     ]
    }
   ],
   "source": [
    "%%time\n",
    "position_variants = list(range(10)) + [100]\n",
    "bandits_by_queries = {\n",
    "    query: TomsonBandit(position_variants) for query in queries_counter\n",
    "}\n",
    "big_bandit = CascadeBandit(bandits_by_queries, nearest_queries)"
   ]
  },
  {
   "cell_type": "raw",
   "metadata": {},
   "source": [
    "with open(\"../code/python/bandits/queries.txt\", 'w') as handler:\n",
    "    for i, query in enumerate(np_queries):\n",
    "        print(str(len(query)) + \" \" + \" \".join(map(str, query)), file=handler)\n",
    "    print(\"};\", file=handler)"
   ]
  },
  {
   "cell_type": "code",
   "execution_count": 8,
   "metadata": {},
   "outputs": [],
   "source": [
    "pool_filenames = [\n",
    "    \"../../../data/pool_with_queries/train_test_split/day_{}.json\".format(i)\n",
    "    for i in range(4)\n",
    "]\n",
    "train_pool_filenames = pool_filenames[:3]\n",
    "test_pool = pool_filenames[3]"
   ]
  },
  {
   "cell_type": "code",
   "execution_count": 9,
   "metadata": {
    "scrolled": true
   },
   "outputs": [
    {
     "name": "stdout",
     "output_type": "stream",
     "text": [
      " fitting filename \"../../../data/pool_with_queries/train_test_split/day_0.json\"\n",
      " 0 %\n",
      " 7 %\n",
      " 14 %\n",
      " 21 %\n",
      " 28 %\n",
      " 35 %\n",
      " 42 %\n",
      " 49 %\n",
      " 56 %\n",
      " 63 %\n",
      " 70 %\n",
      " 77 %\n",
      " 84 %\n",
      " 91 %\n",
      " 98 %\n",
      " fitting filename \"../../../data/pool_with_queries/train_test_split/day_1.json\"\n",
      " 0 %\n",
      " 7 %\n",
      " 14 %\n",
      " 21 %\n",
      " 28 %\n",
      " 35 %\n",
      " 42 %\n",
      " 49 %\n",
      " 56 %\n",
      " 63 %\n",
      " 70 %\n",
      " 77 %\n",
      " 84 %\n",
      " 91 %\n",
      " 98 %\n",
      " fitting filename \"../../../data/pool_with_queries/train_test_split/day_2.json\"\n",
      " 0 %\n",
      " 7 %\n",
      " 14 %\n",
      " 21 %\n",
      " 28 %\n",
      " 35 %\n",
      " 42 %\n",
      " 49 %\n",
      " 56 %\n",
      " 63 %\n",
      " 70 %\n",
      " 77 %\n",
      " 84 %\n",
      " 91 %\n",
      " 98 %\n",
      "CPU times: user 7.03 s, sys: 175 ms, total: 7.2 s\n",
      "Wall time: 6.97 s\n"
     ]
    }
   ],
   "source": [
    "%%time\n",
    "for pool_filename in train_pool_filenames:\n",
    "    print(\" fitting filename \\\"{}\\\"\".format(pool_filename))\n",
    "    for i, item in enumerate(pool_iterator(pool_filename)):\n",
    "        if i % 10000 == 0:\n",
    "            print(\" {} %\".format(round(400 * i / n_objects)))\n",
    "        query = tuple(map(int, item[\"query\"].split()))\n",
    "        reward = 1 if item[\"target\"] > 0 else 0\n",
    "        big_bandit.take_reward(query, item[\"pos\"], reward)"
   ]
  },
  {
   "cell_type": "code",
   "execution_count": 10,
   "metadata": {},
   "outputs": [
    {
     "name": "stdout",
     "output_type": "stream",
     "text": [
      "CPU times: user 4.14 s, sys: 69.6 ms, total: 4.21 s\n",
      "Wall time: 4.21 s\n"
     ]
    }
   ],
   "source": [
    "%%time\n",
    "targets_test = get_from_pool(pool_iterator(test_pool), \"target\", int)\n",
    "probas_test = get_from_pool(pool_iterator(test_pool), \"p\", float)\n",
    "positions_test = get_from_pool(pool_iterator(test_pool), \"pos\", int)"
   ]
  },
  {
   "cell_type": "code",
   "execution_count": 11,
   "metadata": {
    "scrolled": true
   },
   "outputs": [
    {
     "name": "stdout",
     "output_type": "stream",
     "text": [
      " 0 %\n",
      " 7 %\n",
      " 14 %\n",
      " 21 %\n",
      " 28 %\n",
      " 35 %\n",
      " 42 %\n",
      " 49 %\n",
      " 56 %\n",
      " 63 %\n",
      " 70 %\n",
      " 77 %\n",
      " 84 %\n",
      " 91 %\n",
      " 98 %\n",
      "CPU times: user 15.8 s, sys: 38.6 ms, total: 15.8 s\n",
      "Wall time: 15.8 s\n"
     ]
    }
   ],
   "source": [
    "%%time\n",
    "answer_positions = []\n",
    "statistics = []\n",
    "for i, item in enumerate(pool_iterator(test_pool)):\n",
    "    if i % 10000 == 0:\n",
    "        print(\" {} %\".format(round(i * 100 / len(positions_test))))\n",
    "    query = tuple(map(int, item[\"query\"].split()))\n",
    "    statistics.append(big_bandit.get_statistic_size(query))\n",
    "    answer_positions.append(big_bandit.get_action(query=query))"
   ]
  },
  {
   "cell_type": "code",
   "execution_count": 12,
   "metadata": {},
   "outputs": [],
   "source": [
    "answer_positions = np.array(answer_positions)\n",
    "statistics = np.array(statistics)"
   ]
  },
  {
   "cell_type": "code",
   "execution_count": 14,
   "metadata": {},
   "outputs": [],
   "source": [
    "def compute_metric(threshold):\n",
    "    mask = (positions_test == answer_positions) * (statistics > threshold)\n",
    "    return np.sum(targets_test[mask] / probas_test[mask]) / np.sum(1 / probas_test[mask])"
   ]
  },
  {
   "cell_type": "code",
   "execution_count": 16,
   "metadata": {},
   "outputs": [
    {
     "data": {
      "text/plain": [
       "[<matplotlib.lines.Line2D at 0x7f0263723ba8>]"
      ]
     },
     "execution_count": 16,
     "metadata": {},
     "output_type": "execute_result"
    },
    {
     "data": {
      "image/png": "[encoded data removed]",
      "text/plain": [
       "<Figure size 432x288 with 1 Axes>"
      ]
     },
     "metadata": {},
     "output_type": "display_data"
    }
   ],
   "source": [
    "x = np.arange(max(statistics))\n",
    "y = np.array([\n",
    "    compute_metric(threshold)\n",
    "    for threshold in x\n",
    "])\n",
    "\n",
    "np.save(\"non_context_bandits_metrics\", y)\n",
    "\n",
    "plt.plot(x[:50], y[:50])"
   ]
  },
  {
   "cell_type": "code",
   "execution_count": null,
   "metadata": {},
   "outputs": [],
   "source": [
    "y = np.array([\n",
    "    compute_metric(threshold)\n",
    "    for threshold in x\n",
    "])"
   ]
  },
  {
   "cell_type": "code",
   "execution_count": null,
   "metadata": {},
   "outputs": [],
   "source": [
    "plt.plot(y[15:25])"
   ]
  },
  {
   "cell_type": "code",
   "execution_count": null,
   "metadata": {},
   "outputs": [],
   "source": [
    "np.mean(y[15:25]), np.std(y[15:25])"
   ]
  },
  {
   "cell_type": "code",
   "execution_count": null,
   "metadata": {},
   "outputs": [],
   "source": [
    "x = np.arange(max(statistics))\n",
    "y = np.array([\n",
    "    len(statistics[statistics > threshold])\n",
    "    for threshold in x\n",
    "])\n",
    "plt.plot(x[:300], y[:300])"
   ]
  },
  {
   "cell_type": "code",
   "execution_count": null,
   "metadata": {},
   "outputs": [],
   "source": [
    "good_predictions = np.load(\"../data_analysis/substructed_target_predictions/0/train_2_test_3.npy\")\n",
    "good_predictions = np.argmax(good_predictions, axis=1)\n",
    "print(calculate_metric(\n",
    "    good_predictions,\n",
    "    positions_test,\n",
    "    targets_test,\n",
    "    probas_test\n",
    "))"
   ]
  },
  {
   "cell_type": "code",
   "execution_count": null,
   "metadata": {},
   "outputs": [],
   "source": [
    "def caompute_all_metric(threshold):\n",
    "    tmp_answer = np.copy(answer_positions)\n",
    "    tmp_answer[statistics < threshold] = 8\n",
    "    return calculate_metric(\n",
    "        tmp_answer,\n",
    "        positions_test,\n",
    "        targets_test,\n",
    "        probas_test\n",
    "    )"
   ]
  },
  {
   "cell_type": "code",
   "execution_count": null,
   "metadata": {},
   "outputs": [],
   "source": [
    "axis = plt.gca()\n",
    "x = np.arange(max(statistics))\n",
    "y = np.array([\n",
    "    caompute_all_metric(threshold)\n",
    "    for threshold in x\n",
    "])\n",
    "\n",
    "np.save(\"non_context_bandits_sum_metrics\", y)\n",
    "\n",
    "plt.plot(x[:300], y[:300])\n",
    "axis.set_ylim(0.62, 0.63)\n",
    "plt.show()"
   ]
  },
  {
   "cell_type": "code",
   "execution_count": null,
   "metadata": {},
   "outputs": [],
   "source": []
  },
  {
   "cell_type": "code",
   "execution_count": null,
   "metadata": {},
   "outputs": [],
   "source": []
  },
  {
   "cell_type": "code",
   "execution_count": null,
   "metadata": {},
   "outputs": [],
   "source": []
  },
  {
   "cell_type": "code",
   "execution_count": null,
   "metadata": {},
   "outputs": [],
   "source": [
    "for i in list(range(10)) + [100]:\n",
    "    print(' ', i, calculate_metric(\n",
    "        [i] * len(probas_test),\n",
    "        positions_test,\n",
    "        targets_test,\n",
    "        probas_test\n",
    "    ))"
   ]
  },
  {
   "cell_type": "code",
   "execution_count": null,
   "metadata": {},
   "outputs": [],
   "source": []
  }
 ],
 "metadata": {
  "kernelspec": {
   "display_name": "Python 3",
   "language": "python",
   "name": "python3"
  },
  "language_info": {
   "codemirror_mode": {
    "name": "ipython",
    "version": 3
   },
   "file_extension": ".py",
   "mimetype": "text/x-python",
   "name": "python",
   "nbconvert_exporter": "python",
   "pygments_lexer": "ipython3",
   "version": "3.6.5"
  }
 },
 "nbformat": 4,
 "nbformat_minor": 2
}
