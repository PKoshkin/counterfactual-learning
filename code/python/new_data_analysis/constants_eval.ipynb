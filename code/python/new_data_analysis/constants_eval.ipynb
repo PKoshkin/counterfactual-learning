{
 "cells": [
  {
   "cell_type": "code",
   "execution_count": 1,
   "metadata": {},
   "outputs": [],
   "source": [
    "import numpy as np\n",
    "import os\n",
    "import sys\n",
    "sys.path.append(\"../utils\")\n",
    "from metric import calculate_metric\n",
    "from json_tools import get_from_pool\n",
    "from pool_iterator import pool_iterator\n",
    "\n",
    "from matplotlib import pyplot as plt\n",
    "%matplotlib inline"
   ]
  },
  {
   "cell_type": "code",
   "execution_count": 2,
   "metadata": {},
   "outputs": [],
   "source": [
    "def eval_consts_on_day(day):\n",
    "    data_folder = \"../../../data/pool_with_queries/train_test_split/\"\n",
    "    json_filename = os.path.join(data_folder, \"day_{}.json\".format(day))\n",
    "    return eval_consts_on_file(json_filename)\n",
    "\n",
    "def eval_consts_on_file(filename):\n",
    "    pool_positions = get_from_pool(pool_iterator(filename), \"pos\", int)\n",
    "    pool_probs = get_from_pool(pool_iterator(filename), \"p\")\n",
    "    pool_targets = get_from_pool(pool_iterator(filename), \"target\", int)\n",
    "    \n",
    "    return [(\n",
    "            pos,\n",
    "            calculate_metric(\n",
    "                [pos] * len(pool_positions),\n",
    "                pool_positions,\n",
    "                pool_targets,\n",
    "                pool_probs\n",
    "            )\n",
    "        ) for pos in list(range(10)) + [100]\n",
    "    ]"
   ]
  },
  {
   "cell_type": "code",
   "execution_count": 3,
   "metadata": {},
   "outputs": [
    {
     "data": {
      "text/plain": [
       "[(0, 0.5926668238622966),\n",
       " (1, 0.6032418952618454),\n",
       " (2, 0.6076345431789737),\n",
       " (3, 0.617495451788963),\n",
       " (4, 0.6061419200954085),\n",
       " (5, 0.6040858167972466),\n",
       " (6, 0.6196709585121603),\n",
       " (7, 0.611530986827899),\n",
       " (8, 0.6019623067692523),\n",
       " (9, 0.6252191700759789),\n",
       " (100, 0.6097636097636097)]"
      ]
     },
     "execution_count": 3,
     "metadata": {},
     "output_type": "execute_result"
    }
   ],
   "source": [
    "eval_consts_on_day(0)"
   ]
  },
  {
   "cell_type": "code",
   "execution_count": 4,
   "metadata": {},
   "outputs": [
    {
     "data": {
      "text/plain": [
       "[(0, 0.5870839193624003),\n",
       " (1, 0.613757940488131),\n",
       " (2, 0.6175675675675677),\n",
       " (3, 0.6156532300918544),\n",
       " (4, 0.6304412200177671),\n",
       " (5, 0.6112086625695055),\n",
       " (6, 0.6174007220216607),\n",
       " (7, 0.602004036908881),\n",
       " (8, 0.6151033609900155),\n",
       " (9, 0.6165435110122678),\n",
       " (100, 0.6017119062307219)]"
      ]
     },
     "execution_count": 4,
     "metadata": {},
     "output_type": "execute_result"
    }
   ],
   "source": [
    "eval_consts_on_day(1)"
   ]
  },
  {
   "cell_type": "code",
   "execution_count": 5,
   "metadata": {},
   "outputs": [
    {
     "data": {
      "text/plain": [
       "[(0, 0.6067073170731706),\n",
       " (1, 0.6156049882035726),\n",
       " (2, 0.6173747923095181),\n",
       " (3, 0.6142867873507096),\n",
       " (4, 0.6160218951105851),\n",
       " (5, 0.6157205240174672),\n",
       " (6, 0.6209801479745074),\n",
       " (7, 0.6123647167008558),\n",
       " (8, 0.6062837506136476),\n",
       " (9, 0.6092500540306892),\n",
       " (100, 0.5986121819583656)]"
      ]
     },
     "execution_count": 5,
     "metadata": {},
     "output_type": "execute_result"
    }
   ],
   "source": [
    "eval_consts_on_day(2)"
   ]
  },
  {
   "cell_type": "code",
   "execution_count": null,
   "metadata": {},
   "outputs": [
    {
     "data": {
      "text/plain": [
       "[(0, 0.597785108388313),\n",
       " (1, 0.6099456748850818),\n",
       " (2, 0.612070331062886),\n",
       " (3, 0.6208130328867236),\n",
       " (4, 0.6088980858768753),\n",
       " (5, 0.6147480419683761),\n",
       " (6, 0.6207842854047808),\n",
       " (7, 0.6103868347937592),\n",
       " (8, 0.6226212619831162),\n",
       " (9, 0.6197430316646771),\n",
       " (100, 0.5989450003878676)]"
      ]
     },
     "execution_count": 6,
     "metadata": {},
     "output_type": "execute_result"
    }
   ],
   "source": [
    "eval_consts_on_day(3)"
   ]
  },
  {
   "cell_type": "code",
   "execution_count": null,
   "metadata": {},
   "outputs": [],
   "source": [
    "eval_consts_on_file(\"../../../data/pool_with_queries/pool.json\")"
   ]
  },
  {
   "cell_type": "code",
   "execution_count": null,
   "metadata": {},
   "outputs": [],
   "source": []
  }
 ],
 "metadata": {
  "kernelspec": {
   "display_name": "Python 3",
   "language": "python",
   "name": "python3"
  },
  "language_info": {
   "codemirror_mode": {
    "name": "ipython",
    "version": 3
   },
   "file_extension": ".py",
   "mimetype": "text/x-python",
   "name": "python",
   "nbconvert_exporter": "python",
   "pygments_lexer": "ipython3",
   "version": "3.6.5"
  }
 },
 "nbformat": 4,
 "nbformat_minor": 2
}
