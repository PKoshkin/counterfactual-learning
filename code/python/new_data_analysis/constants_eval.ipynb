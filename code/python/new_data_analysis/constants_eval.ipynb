{
 "cells": [
  {
   "cell_type": "code",
   "execution_count": 1,
   "metadata": {},
   "outputs": [],
   "source": [
    "import numpy as np\n",
    "import os\n",
    "import sys\n",
    "sys.path.append(\"../utils\")\n",
    "from metric import calculate_metric\n",
    "from json_tools import get_from_pool\n",
    "from pool_iterator import pool_iterator\n",
    "\n",
    "from matplotlib import pyplot as plt\n",
    "%matplotlib inline"
   ]
  },
  {
   "cell_type": "code",
   "execution_count": 2,
   "metadata": {},
   "outputs": [],
   "source": [
    "def eval_consts_on_day(day):\n",
    "    data_folder = \"../../../data/new_days_data_best_features//\"\n",
    "    json_filename = os.path.join(data_folder, \"day_{}.json\".format(day))\n",
    "    pool_positions = get_from_pool(pool_iterator(json_filename), \"pos\", int)\n",
    "    pool_probs = get_from_pool(pool_iterator(json_filename), \"p\")\n",
    "    pool_targets = get_from_pool(pool_iterator(json_filename), \"target\", int)\n",
    "    for pos in list(range(10)) + [100]:\n",
    "        print(\n",
    "            pos,\n",
    "            calculate_metric(\n",
    "                [pos] * len(pool_positions),\n",
    "                pool_positions,\n",
    "                pool_targets,\n",
    "                pool_probs\n",
    "            )\n",
    "        )\n",
    "\n",
    "def eval_consts_on_file(filename):\n",
    "    pool_positions = get_from_pool(pool_iterator(filename), \"pos\", int)\n",
    "    pool_probs = get_from_pool(pool_iterator(filename), \"p\")\n",
    "    pool_targets = get_from_pool(pool_iterator(filename), \"target\", int)\n",
    "    for pos in list(range(10)) + [100]:\n",
    "        print(\n",
    "            pos,\n",
    "            calculate_metric(\n",
    "                [pos] * len(pool_positions),\n",
    "                pool_positions,\n",
    "                pool_targets,\n",
    "                pool_probs\n",
    "            )\n",
    "        )"
   ]
  },
  {
   "cell_type": "code",
   "execution_count": 3,
   "metadata": {},
   "outputs": [
    {
     "name": "stdout",
     "output_type": "stream",
     "text": [
      "0 0.6064939631930607\n",
      "1 0.6084217506631299\n",
      "2 0.6084685397704788\n",
      "3 0.6109770808202654\n",
      "4 0.6121323529411764\n",
      "5 0.6063089195068891\n",
      "6 0.6258897776473178\n",
      "7 0.6141441897461853\n",
      "8 0.595246617510201\n",
      "9 0.6178890876565296\n",
      "100 0.5974335331181805\n"
     ]
    }
   ],
   "source": [
    "eval_consts_on_day(1)"
   ]
  },
  {
   "cell_type": "code",
   "execution_count": 4,
   "metadata": {},
   "outputs": [
    {
     "name": "stdout",
     "output_type": "stream",
     "text": [
      "0 0.5943593314763231\n",
      "1 0.6115349149132369\n",
      "2 0.6189396309039724\n",
      "3 0.6269731800766284\n",
      "4 0.6208142793922407\n",
      "5 0.6211152744104034\n",
      "6 0.6096389050669775\n",
      "7 0.6084181844256417\n",
      "8 0.6143050509368098\n",
      "9 0.6242060943409692\n",
      "100 0.6096511449208547\n"
     ]
    }
   ],
   "source": [
    "eval_consts_on_day(2)"
   ]
  },
  {
   "cell_type": "code",
   "execution_count": 5,
   "metadata": {},
   "outputs": [
    {
     "name": "stdout",
     "output_type": "stream",
     "text": [
      "0 0.5925493401845149\n",
      "1 0.6183554817275747\n",
      "2 0.6140811455847255\n",
      "3 0.6199245283018869\n",
      "4 0.6231809115756816\n",
      "5 0.6159362549800796\n",
      "6 0.6116539732720218\n",
      "7 0.6195840554592721\n",
      "8 0.6160265931112526\n",
      "9 0.6140902772697342\n",
      "100 0.6036731229261517\n"
     ]
    }
   ],
   "source": [
    "eval_consts_on_day(3)"
   ]
  },
  {
   "cell_type": "code",
   "execution_count": 6,
   "metadata": {},
   "outputs": [
    {
     "name": "stdout",
     "output_type": "stream",
     "text": [
      "0 0.5949041608228145\n",
      "1 0.6043529610258138\n",
      "2 0.6211604095563139\n",
      "3 0.6057116885084463\n",
      "4 0.624639716207228\n",
      "5 0.6108780451902553\n",
      "6 0.6125588928150765\n",
      "7 0.6047798028508614\n",
      "8 0.6019208017259379\n",
      "9 0.6181005908632365\n",
      "100 0.5963337935266143\n"
     ]
    }
   ],
   "source": [
    "eval_consts_on_day(6)"
   ]
  },
  {
   "cell_type": "code",
   "execution_count": 7,
   "metadata": {},
   "outputs": [
    {
     "name": "stdout",
     "output_type": "stream",
     "text": [
      "0 0.5970641452168329\n",
      "1 0.6106876605341737\n",
      "2 0.6156704617330806\n",
      "3 0.6158627878328439\n",
      "4 0.6201822004204623\n",
      "5 0.6135455258883433\n",
      "6 0.6149093228834406\n",
      "7 0.6116933457756086\n",
      "8 0.6068761722758963\n",
      "9 0.6186008823264608\n",
      "100 0.6017683805862568\n"
     ]
    }
   ],
   "source": [
    "eval_consts_on_file(\"../../../data/train_pool.csv\")"
   ]
  },
  {
   "cell_type": "code",
   "execution_count": null,
   "metadata": {},
   "outputs": [],
   "source": []
  }
 ],
 "metadata": {
  "kernelspec": {
   "display_name": "Python 3",
   "language": "python",
   "name": "python3"
  },
  "language_info": {
   "codemirror_mode": {
    "name": "ipython",
    "version": 3
   },
   "file_extension": ".py",
   "mimetype": "text/x-python",
   "name": "python",
   "nbconvert_exporter": "python",
   "pygments_lexer": "ipython3",
   "version": "3.6.5"
  }
 },
 "nbformat": 4,
 "nbformat_minor": 2
}
