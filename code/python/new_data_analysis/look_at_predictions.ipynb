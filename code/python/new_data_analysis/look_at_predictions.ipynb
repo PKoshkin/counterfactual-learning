{
 "cells": [
  {
   "cell_type": "code",
   "execution_count": 1,
   "metadata": {},
   "outputs": [],
   "source": [
    "import numpy as np\n",
    "import os\n",
    "import sys\n",
    "sys.path.append(\"../utils\")\n",
    "from metric import calculate_metric\n",
    "from json_tools import get_from_pool\n",
    "from pool_iterator import pool_iterator\n",
    "\n",
    "from matplotlib import pyplot as plt\n",
    "%matplotlib inline"
   ]
  },
  {
   "cell_type": "code",
   "execution_count": 2,
   "metadata": {},
   "outputs": [],
   "source": [
    "def eval_on_day(day, positions):\n",
    "    data_folder = \"../../../data/new_days_data_best_features//\"\n",
    "    json_filename = os.path.join(data_folder, \"day_{}.json\".format(day))\n",
    "    pool_positions = get_from_pool(pool_iterator(json_filename), \"pos\", int)\n",
    "    pool_probs = get_from_pool(pool_iterator(json_filename), \"p\")\n",
    "    pool_targets = get_from_pool(pool_iterator(json_filename), \"target\", int)\n",
    "    return calculate_metric(\n",
    "        positions,\n",
    "        pool_positions,\n",
    "        pool_targets,\n",
    "        pool_probs\n",
    "    )"
   ]
  },
  {
   "cell_type": "code",
   "execution_count": 15,
   "metadata": {},
   "outputs": [
    {
     "ename": "FileNotFoundError",
     "evalue": "[Errno 2] No such file or directory: 'res/train_3_test_6.npy'",
     "output_type": "error",
     "traceback": [
      "\u001b[0;31m---------------------------------------------------------------------------\u001b[0m",
      "\u001b[0;31mFileNotFoundError\u001b[0m                         Traceback (most recent call last)",
      "\u001b[0;32m<ipython-input-15-ddb2b24b3baa>\u001b[0m in \u001b[0;36m<module>\u001b[0;34m()\u001b[0m\n\u001b[0;32m----> 1\u001b[0;31m \u001b[0mx\u001b[0m \u001b[0;34m=\u001b[0m \u001b[0mnp\u001b[0m\u001b[0;34m.\u001b[0m\u001b[0mload\u001b[0m\u001b[0;34m(\u001b[0m\u001b[0;34m\"res/train_3_test_6.npy\"\u001b[0m\u001b[0;34m)\u001b[0m\u001b[0;34m\u001b[0m\u001b[0m\n\u001b[0m",
      "\u001b[0;32m/usr/lib/python3.6/site-packages/numpy/lib/npyio.py\u001b[0m in \u001b[0;36mload\u001b[0;34m(file, mmap_mode, allow_pickle, fix_imports, encoding)\u001b[0m\n\u001b[1;32m    370\u001b[0m     \u001b[0mown_fid\u001b[0m \u001b[0;34m=\u001b[0m \u001b[0;32mFalse\u001b[0m\u001b[0;34m\u001b[0m\u001b[0m\n\u001b[1;32m    371\u001b[0m     \u001b[0;32mif\u001b[0m \u001b[0misinstance\u001b[0m\u001b[0;34m(\u001b[0m\u001b[0mfile\u001b[0m\u001b[0;34m,\u001b[0m \u001b[0mbasestring\u001b[0m\u001b[0;34m)\u001b[0m\u001b[0;34m:\u001b[0m\u001b[0;34m\u001b[0m\u001b[0m\n\u001b[0;32m--> 372\u001b[0;31m         \u001b[0mfid\u001b[0m \u001b[0;34m=\u001b[0m \u001b[0mopen\u001b[0m\u001b[0;34m(\u001b[0m\u001b[0mfile\u001b[0m\u001b[0;34m,\u001b[0m \u001b[0;34m\"rb\"\u001b[0m\u001b[0;34m)\u001b[0m\u001b[0;34m\u001b[0m\u001b[0m\n\u001b[0m\u001b[1;32m    373\u001b[0m         \u001b[0mown_fid\u001b[0m \u001b[0;34m=\u001b[0m \u001b[0;32mTrue\u001b[0m\u001b[0;34m\u001b[0m\u001b[0m\n\u001b[1;32m    374\u001b[0m     \u001b[0;32melif\u001b[0m \u001b[0mis_pathlib_path\u001b[0m\u001b[0;34m(\u001b[0m\u001b[0mfile\u001b[0m\u001b[0;34m)\u001b[0m\u001b[0;34m:\u001b[0m\u001b[0;34m\u001b[0m\u001b[0m\n",
      "\u001b[0;31mFileNotFoundError\u001b[0m: [Errno 2] No such file or directory: 'res/train_3_test_6.npy'"
     ]
    }
   ],
   "source": [
    "x = np.load(\"res/train_3_test_6.npy\")"
   ]
  },
  {
   "cell_type": "code",
   "execution_count": null,
   "metadata": {},
   "outputs": [],
   "source": [
    "def get_positions(scores):\n",
    "    "
   ]
  },
  {
   "cell_type": "code",
   "execution_count": 4,
   "metadata": {},
   "outputs": [
    {
     "data": {
      "text/plain": [
       "array([[0.80860991, 0.81449919, 0.81474932, ..., 0.81365689, 0.81416775,\n",
       "        0.81146317],\n",
       "       [0.79542404, 0.80147687, 0.8012288 , ..., 0.79878172, 0.80063883,\n",
       "        0.79449726],\n",
       "       [0.51033806, 0.51864286, 0.51889299, ..., 0.51931345, 0.51905381,\n",
       "        0.51559963],\n",
       "       ...,\n",
       "       [0.67678093, 0.68261088, 0.682861  , ..., 0.68339279, 0.68340295,\n",
       "        0.68188452],\n",
       "       [0.65341639, 0.65908118, 0.65861657, ..., 0.65999   , 0.65903578,\n",
       "        0.65864688],\n",
       "       [0.74294024, 0.74832096, 0.74857108, ..., 0.74807761, 0.74858847,\n",
       "        0.74639247]])"
      ]
     },
     "execution_count": 4,
     "metadata": {},
     "output_type": "execute_result"
    }
   ],
   "source": [
    "x"
   ]
  },
  {
   "cell_type": "code",
   "execution_count": 5,
   "metadata": {},
   "outputs": [
    {
     "data": {
      "text/plain": [
       "Counter({4: 94707,\n",
       "         5: 10265,\n",
       "         3: 7997,\n",
       "         7: 10477,\n",
       "         2: 1780,\n",
       "         10: 1449,\n",
       "         9: 7599,\n",
       "         1: 1811,\n",
       "         8: 3320,\n",
       "         0: 2893})"
      ]
     },
     "execution_count": 5,
     "metadata": {},
     "output_type": "execute_result"
    }
   ],
   "source": [
    "from collections import Counter\n",
    "Counter(np.argmax(x, axis=1))"
   ]
  },
  {
   "cell_type": "code",
   "execution_count": 14,
   "metadata": {},
   "outputs": [
    {
     "data": {
      "text/plain": [
       "0.6250772076889952"
      ]
     },
     "execution_count": 14,
     "metadata": {},
     "output_type": "execute_result"
    }
   ],
   "source": [
    "eval_on_day(6, np.argmax(x, axis=1))"
   ]
  },
  {
   "cell_type": "code",
   "execution_count": 7,
   "metadata": {},
   "outputs": [],
   "source": [
    "res = []\n",
    "for i in range(len(x[0])):\n",
    "    indices = list(range(max(i - 1, 0), min(i + 2, len(x[0]))))\n",
    "    average = 0\n",
    "    counter = 0\n",
    "    for ind in indices:\n",
    "        average += x[0][ind]\n",
    "        counter += 1\n",
    "    average /= counter\n",
    "    res.append(average)"
   ]
  },
  {
   "cell_type": "code",
   "execution_count": 10,
   "metadata": {},
   "outputs": [
    {
     "data": {
      "text/plain": [
       "[0.8115545483536365,\n",
       " 0.8126194719961659,\n",
       " 0.81494756799519,\n",
       " 0.8154902566941372,\n",
       " 0.8155279102910434,\n",
       " 0.8152839392462262,\n",
       " 0.8145161026385686,\n",
       " 0.8141143056425809,\n",
       " 0.8138827942793379,\n",
       " 0.8130959361660887,\n",
       " 0.8128154597071426]"
      ]
     },
     "execution_count": 10,
     "metadata": {},
     "output_type": "execute_result"
    }
   ],
   "source": [
    "res"
   ]
  },
  {
   "cell_type": "code",
   "execution_count": 13,
   "metadata": {},
   "outputs": [
    {
     "data": {
      "text/plain": [
       "[<matplotlib.lines.Line2D at 0x7f64e5e49710>]"
      ]
     },
     "execution_count": 13,
     "metadata": {},
     "output_type": "execute_result"
    },
    {
     "data": {
      "image/png": "[encoded data removed]",
      "text/plain": [
       "<Figure size 432x288 with 1 Axes>"
      ]
     },
     "metadata": {},
     "output_type": "display_data"
    }
   ],
   "source": [
    "plt.plot(x[7])"
   ]
  },
  {
   "cell_type": "code",
   "execution_count": null,
   "metadata": {},
   "outputs": [],
   "source": []
  }
 ],
 "metadata": {
  "kernelspec": {
   "display_name": "Python 3",
   "language": "python",
   "name": "python3"
  },
  "language_info": {
   "codemirror_mode": {
    "name": "ipython",
    "version": 3
   },
   "file_extension": ".py",
   "mimetype": "text/x-python",
   "name": "python",
   "nbconvert_exporter": "python",
   "pygments_lexer": "ipython3",
   "version": "3.6.5"
  }
 },
 "nbformat": 4,
 "nbformat_minor": 2
}
