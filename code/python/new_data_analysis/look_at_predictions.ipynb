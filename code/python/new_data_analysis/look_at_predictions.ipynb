{
 "cells": [
  {
   "cell_type": "code",
   "execution_count": 2,
   "metadata": {},
   "outputs": [],
   "source": [
    "import numpy as np\n",
    "import os\n",
    "import sys\n",
    "sys.path.append(\"../utils\")\n",
    "from metric import calculate_metric\n",
    "from json_tools import get_from_pool\n",
    "from pool_iterator import pool_iterator\n",
    "\n",
    "from matplotlib import pyplot as plt\n",
    "%matplotlib inline"
   ]
  },
  {
   "cell_type": "code",
   "execution_count": 3,
   "metadata": {},
   "outputs": [],
   "source": [
    "def eval_on_day(day, positions):\n",
    "    data_folder = \"../../../data/new_days_data_best_features//\"\n",
    "    json_filename = os.path.join(data_folder, \"day_{}.json\".format(day))\n",
    "    pool_positions = get_from_pool(pool_iterator(json_filename), \"pos\", int)\n",
    "    pool_probs = get_from_pool(pool_iterator(json_filename), \"p\")\n",
    "    pool_targets = get_from_pool(pool_iterator(json_filename), \"target\", int)\n",
    "    return calculate_metric(\n",
    "        positions,\n",
    "        pool_positions,\n",
    "        pool_targets,\n",
    "        pool_probs\n",
    "    )"
   ]
  },
  {
   "cell_type": "code",
   "execution_count": 4,
   "metadata": {},
   "outputs": [],
   "source": [
    "x = np.load(\"res/train_3_test_6.npy\")"
   ]
  },
  {
   "cell_type": "code",
   "execution_count": null,
   "metadata": {},
   "outputs": [],
   "source": [
    "def get_positions(scores):\n",
    "    "
   ]
  },
  {
   "cell_type": "code",
   "execution_count": 7,
   "metadata": {},
   "outputs": [
    {
     "data": {
      "text/plain": [
       "array([[0.80860991, 0.81449919, 0.81474932, ..., 0.81365689, 0.81416775,\n",
       "        0.81146317],\n",
       "       [0.79542404, 0.80147687, 0.8012288 , ..., 0.79878172, 0.80063883,\n",
       "        0.79449726],\n",
       "       [0.51033806, 0.51864286, 0.51889299, ..., 0.51931345, 0.51905381,\n",
       "        0.51559963],\n",
       "       ...,\n",
       "       [0.67678093, 0.68261088, 0.682861  , ..., 0.68339279, 0.68340295,\n",
       "        0.68188452],\n",
       "       [0.65341639, 0.65908118, 0.65861657, ..., 0.65999   , 0.65903578,\n",
       "        0.65864688],\n",
       "       [0.74294024, 0.74832096, 0.74857108, ..., 0.74807761, 0.74858847,\n",
       "        0.74639247]])"
      ]
     },
     "execution_count": 7,
     "metadata": {},
     "output_type": "execute_result"
    }
   ],
   "source": [
    "x"
   ]
  },
  {
   "cell_type": "code",
   "execution_count": 19,
   "metadata": {},
   "outputs": [
    {
     "data": {
      "text/plain": [
       "Counter({4: 94707,\n",
       "         5: 10265,\n",
       "         3: 7997,\n",
       "         7: 10477,\n",
       "         2: 1780,\n",
       "         10: 1449,\n",
       "         9: 7599,\n",
       "         1: 1811,\n",
       "         8: 3320,\n",
       "         0: 2893})"
      ]
     },
     "execution_count": 19,
     "metadata": {},
     "output_type": "execute_result"
    }
   ],
   "source": [
    "from collections import Counter\n",
    "Counter(np.argmax(x, axis=1))"
   ]
  },
  {
   "cell_type": "code",
   "execution_count": 6,
   "metadata": {},
   "outputs": [
    {
     "data": {
      "text/plain": [
       "0.6250772076889952"
      ]
     },
     "execution_count": 6,
     "metadata": {},
     "output_type": "execute_result"
    }
   ],
   "source": [
    "eval_on_day(6, np.argmax(x, axis=1))"
   ]
  },
  {
   "cell_type": "code",
   "execution_count": 9,
   "metadata": {},
   "outputs": [],
   "source": [
    "res = []\n",
    "for i in range(len(x[0])):\n",
    "    indices = list(range(max(i - 1, 0), min(i + 2, len(x[0]))))\n",
    "    average = 0\n",
    "    counter = 0\n",
    "    for ind in indices:\n",
    "        average += x[0][ind]\n",
    "        counter += 1\n",
    "    average /= counter\n",
    "    res.append(average)"
   ]
  },
  {
   "cell_type": "code",
   "execution_count": 10,
   "metadata": {},
   "outputs": [
    {
     "data": {
      "text/plain": [
       "[0.8115545483536365,\n",
       " 0.8126194719961659,\n",
       " 0.81494756799519,\n",
       " 0.8154902566941372,\n",
       " 0.8155279102910434,\n",
       " 0.8152839392462262,\n",
       " 0.8145161026385686,\n",
       " 0.8141143056425809,\n",
       " 0.8138827942793379,\n",
       " 0.8130959361660887,\n",
       " 0.8128154597071426]"
      ]
     },
     "execution_count": 10,
     "metadata": {},
     "output_type": "execute_result"
    }
   ],
   "source": [
    "res"
   ]
  },
  {
   "cell_type": "code",
   "execution_count": 21,
   "metadata": {},
   "outputs": [
    {
     "data": {
      "text/plain": [
       "[<matplotlib.lines.Line2D at 0x7fcee5d1e3c8>]"
      ]
     },
     "execution_count": 21,
     "metadata": {},
     "output_type": "execute_result"
    },
    {
     "data": {
      "image/png": "[encoded data removed]",
      "text/plain": [
       "<Figure size 432x288 with 1 Axes>"
      ]
     },
     "metadata": {},
     "output_type": "display_data"
    }
   ],
   "source": [
    "plt.plot(x[90])"
   ]
  },
  {
   "cell_type": "code",
   "execution_count": null,
   "metadata": {},
   "outputs": [],
   "source": []
  }
 ],
 "metadata": {
  "kernelspec": {
   "display_name": "Python 3",
   "language": "python",
   "name": "python3"
  },
  "language_info": {
   "codemirror_mode": {
    "name": "ipython",
    "version": 3
   },
   "file_extension": ".py",
   "mimetype": "text/x-python",
   "name": "python",
   "nbconvert_exporter": "python",
   "pygments_lexer": "ipython3",
   "version": "3.6.5"
  }
 },
 "nbformat": 4,
 "nbformat_minor": 2
}
