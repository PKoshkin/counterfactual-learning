{
 "cells": [
  {
   "cell_type": "code",
   "execution_count": 15,
   "metadata": {},
   "outputs": [],
   "source": [
    "import numpy as np\n",
    "import sys\n",
    "sys.path.append(\"../utils\")\n",
    "from json_tools import get_from_pool\n",
    "from pool_iterator import pool_iterator\n",
    "from catboost import CatBoostClassifier\n",
    "from collections import Counter\n",
    "from metric import calculate_metric"
   ]
  },
  {
   "cell_type": "code",
   "execution_count": 2,
   "metadata": {},
   "outputs": [],
   "source": [
    "predictions_train = np.load(\"predictions/single_pos_3.npy\")\n",
    "predictions_test = np.load(\"predictions/single_pos_6.npy\")"
   ]
  },
  {
   "cell_type": "code",
   "execution_count": 19,
   "metadata": {},
   "outputs": [],
   "source": [
    "targets_train = get_from_pool(\n",
    "    pool_iterator(\"../../../data/new_days_data_best_features/day_3.json\"),\n",
    "    \"target\",\n",
    "    int\n",
    ")\n",
    "targets_test = get_from_pool(\n",
    "    pool_iterator(\"../../../data/new_days_data_best_features/day_6.json\"),\n",
    "    \"target\",\n",
    "    int\n",
    ")\n",
    "probas_test = get_from_pool(\n",
    "    pool_iterator(\"../../../data/new_days_data_best_features/day_6.json\"),\n",
    "    \"p\",\n",
    "    float\n",
    ")\n",
    "positions_train = get_from_pool(\n",
    "    pool_iterator(\"../../../data/new_days_data_best_features/day_3.json\"),\n",
    "    \"pos\",\n",
    "    int\n",
    ")\n",
    "positions_test = get_from_pool(\n",
    "    pool_iterator(\"../../../data/new_days_data_best_features/day_6.json\"),\n",
    "    \"pos\",\n",
    "    int\n",
    ")"
   ]
  },
  {
   "cell_type": "code",
   "execution_count": 4,
   "metadata": {},
   "outputs": [],
   "source": [
    "model = CatBoostClassifier()"
   ]
  },
  {
   "cell_type": "code",
   "execution_count": 55,
   "metadata": {},
   "outputs": [],
   "source": [
    "mask = positions_train == np.argmax(predictions_train, axis=1)\n",
    "train_x = np.concatenate([np.reshape(positions_train, [-1, 1]), predictions_train], axis=1)[mask]\n",
    "train_y = (targets_train > 0).astype(int)[mask]"
   ]
  },
  {
   "cell_type": "code",
   "execution_count": 56,
   "metadata": {},
   "outputs": [
    {
     "data": {
      "text/plain": [
       "((13123, 12), (13123,))"
      ]
     },
     "execution_count": 56,
     "metadata": {},
     "output_type": "execute_result"
    }
   ],
   "source": [
    "np.shape(train_x), np.shape(train_y)"
   ]
  },
  {
   "cell_type": "code",
   "execution_count": 7,
   "metadata": {
    "scrolled": true
   },
   "outputs": [
    {
     "name": "stdout",
     "output_type": "stream",
     "text": [
      "0:\tlearn: 0.6899614\ttotal: 61.7ms\tremaining: 1m 1s\n",
      "1:\tlearn: 0.6868388\ttotal: 75.2ms\tremaining: 37.5s\n",
      "2:\tlearn: 0.6839427\ttotal: 85.3ms\tremaining: 28.4s\n",
      "3:\tlearn: 0.6813094\ttotal: 93.2ms\tremaining: 23.2s\n",
      "4:\tlearn: 0.6787037\ttotal: 102ms\tremaining: 20.4s\n",
      "5:\tlearn: 0.6762603\ttotal: 112ms\tremaining: 18.6s\n",
      "6:\tlearn: 0.6739955\ttotal: 121ms\tremaining: 17.1s\n",
      "7:\tlearn: 0.6719006\ttotal: 128ms\tremaining: 15.9s\n",
      "8:\tlearn: 0.6699191\ttotal: 136ms\tremaining: 15s\n",
      "9:\tlearn: 0.6680789\ttotal: 145ms\tremaining: 14.4s\n",
      "10:\tlearn: 0.6662814\ttotal: 154ms\tremaining: 13.9s\n",
      "11:\tlearn: 0.6645984\ttotal: 162ms\tremaining: 13.3s\n",
      "12:\tlearn: 0.6630426\ttotal: 170ms\tremaining: 12.9s\n",
      "13:\tlearn: 0.6615426\ttotal: 179ms\tremaining: 12.6s\n",
      "14:\tlearn: 0.6602235\ttotal: 188ms\tremaining: 12.3s\n",
      "15:\tlearn: 0.6588835\ttotal: 196ms\tremaining: 12s\n",
      "16:\tlearn: 0.6576245\ttotal: 204ms\tremaining: 11.8s\n",
      "17:\tlearn: 0.6564761\ttotal: 211ms\tremaining: 11.5s\n",
      "18:\tlearn: 0.6553843\ttotal: 219ms\tremaining: 11.3s\n",
      "19:\tlearn: 0.6544112\ttotal: 228ms\tremaining: 11.2s\n",
      "20:\tlearn: 0.6534272\ttotal: 237ms\tremaining: 11s\n",
      "21:\tlearn: 0.6525724\ttotal: 245ms\tremaining: 10.9s\n",
      "22:\tlearn: 0.6517574\ttotal: 252ms\tremaining: 10.7s\n",
      "23:\tlearn: 0.6510569\ttotal: 264ms\tremaining: 10.7s\n",
      "24:\tlearn: 0.6502495\ttotal: 274ms\tremaining: 10.7s\n",
      "25:\tlearn: 0.6495315\ttotal: 286ms\tremaining: 10.7s\n",
      "26:\tlearn: 0.6488238\ttotal: 294ms\tremaining: 10.6s\n",
      "27:\tlearn: 0.6482086\ttotal: 305ms\tremaining: 10.6s\n",
      "28:\tlearn: 0.6476246\ttotal: 315ms\tremaining: 10.6s\n",
      "29:\tlearn: 0.6470561\ttotal: 323ms\tremaining: 10.4s\n",
      "30:\tlearn: 0.6466137\ttotal: 328ms\tremaining: 10.2s\n",
      "31:\tlearn: 0.6461490\ttotal: 336ms\tremaining: 10.2s\n",
      "32:\tlearn: 0.6456806\ttotal: 344ms\tremaining: 10.1s\n",
      "33:\tlearn: 0.6452711\ttotal: 353ms\tremaining: 10s\n",
      "34:\tlearn: 0.6448752\ttotal: 361ms\tremaining: 9.95s\n",
      "35:\tlearn: 0.6444763\ttotal: 369ms\tremaining: 9.89s\n",
      "36:\tlearn: 0.6440681\ttotal: 377ms\tremaining: 9.81s\n",
      "37:\tlearn: 0.6436871\ttotal: 385ms\tremaining: 9.75s\n",
      "38:\tlearn: 0.6433376\ttotal: 393ms\tremaining: 9.68s\n",
      "39:\tlearn: 0.6430186\ttotal: 401ms\tremaining: 9.61s\n",
      "40:\tlearn: 0.6426718\ttotal: 409ms\tremaining: 9.55s\n",
      "41:\tlearn: 0.6424027\ttotal: 418ms\tremaining: 9.52s\n",
      "42:\tlearn: 0.6421526\ttotal: 425ms\tremaining: 9.46s\n",
      "43:\tlearn: 0.6419185\ttotal: 433ms\tremaining: 9.41s\n",
      "44:\tlearn: 0.6416666\ttotal: 441ms\tremaining: 9.36s\n",
      "45:\tlearn: 0.6414506\ttotal: 450ms\tremaining: 9.32s\n",
      "46:\tlearn: 0.6412423\ttotal: 458ms\tremaining: 9.28s\n",
      "47:\tlearn: 0.6410309\ttotal: 468ms\tremaining: 9.28s\n",
      "48:\tlearn: 0.6408662\ttotal: 478ms\tremaining: 9.27s\n",
      "49:\tlearn: 0.6406765\ttotal: 489ms\tremaining: 9.28s\n",
      "50:\tlearn: 0.6404862\ttotal: 498ms\tremaining: 9.27s\n",
      "51:\tlearn: 0.6403318\ttotal: 506ms\tremaining: 9.23s\n",
      "52:\tlearn: 0.6401649\ttotal: 517ms\tremaining: 9.24s\n",
      "53:\tlearn: 0.6399830\ttotal: 525ms\tremaining: 9.2s\n",
      "54:\tlearn: 0.6398018\ttotal: 533ms\tremaining: 9.16s\n",
      "55:\tlearn: 0.6396677\ttotal: 541ms\tremaining: 9.12s\n",
      "56:\tlearn: 0.6395312\ttotal: 550ms\tremaining: 9.09s\n",
      "57:\tlearn: 0.6394228\ttotal: 558ms\tremaining: 9.05s\n",
      "58:\tlearn: 0.6393057\ttotal: 565ms\tremaining: 9.02s\n",
      "59:\tlearn: 0.6391832\ttotal: 573ms\tremaining: 8.98s\n",
      "60:\tlearn: 0.6391079\ttotal: 582ms\tremaining: 8.96s\n",
      "61:\tlearn: 0.6390097\ttotal: 590ms\tremaining: 8.92s\n",
      "62:\tlearn: 0.6389087\ttotal: 597ms\tremaining: 8.88s\n",
      "63:\tlearn: 0.6388521\ttotal: 602ms\tremaining: 8.81s\n",
      "64:\tlearn: 0.6387714\ttotal: 611ms\tremaining: 8.78s\n",
      "65:\tlearn: 0.6386752\ttotal: 618ms\tremaining: 8.75s\n",
      "66:\tlearn: 0.6385956\ttotal: 626ms\tremaining: 8.72s\n",
      "67:\tlearn: 0.6385158\ttotal: 635ms\tremaining: 8.7s\n",
      "68:\tlearn: 0.6384394\ttotal: 643ms\tremaining: 8.67s\n",
      "69:\tlearn: 0.6383812\ttotal: 650ms\tremaining: 8.64s\n",
      "70:\tlearn: 0.6383163\ttotal: 658ms\tremaining: 8.61s\n",
      "71:\tlearn: 0.6382530\ttotal: 669ms\tremaining: 8.62s\n",
      "72:\tlearn: 0.6382005\ttotal: 679ms\tremaining: 8.62s\n",
      "73:\tlearn: 0.6381429\ttotal: 687ms\tremaining: 8.6s\n",
      "74:\tlearn: 0.6380978\ttotal: 694ms\tremaining: 8.56s\n",
      "75:\tlearn: 0.6380627\ttotal: 702ms\tremaining: 8.53s\n",
      "76:\tlearn: 0.6380211\ttotal: 713ms\tremaining: 8.55s\n",
      "77:\tlearn: 0.6379744\ttotal: 721ms\tremaining: 8.52s\n",
      "78:\tlearn: 0.6379381\ttotal: 728ms\tremaining: 8.49s\n",
      "79:\tlearn: 0.6378716\ttotal: 736ms\tremaining: 8.47s\n",
      "80:\tlearn: 0.6378200\ttotal: 745ms\tremaining: 8.45s\n",
      "81:\tlearn: 0.6377904\ttotal: 753ms\tremaining: 8.43s\n",
      "82:\tlearn: 0.6377470\ttotal: 761ms\tremaining: 8.4s\n",
      "83:\tlearn: 0.6377325\ttotal: 766ms\tremaining: 8.35s\n",
      "84:\tlearn: 0.6377003\ttotal: 774ms\tremaining: 8.33s\n",
      "85:\tlearn: 0.6376315\ttotal: 781ms\tremaining: 8.3s\n",
      "86:\tlearn: 0.6376059\ttotal: 789ms\tremaining: 8.28s\n",
      "87:\tlearn: 0.6375587\ttotal: 797ms\tremaining: 8.26s\n",
      "88:\tlearn: 0.6375217\ttotal: 807ms\tremaining: 8.26s\n",
      "89:\tlearn: 0.6374922\ttotal: 816ms\tremaining: 8.25s\n",
      "90:\tlearn: 0.6374424\ttotal: 825ms\tremaining: 8.24s\n",
      "91:\tlearn: 0.6374235\ttotal: 831ms\tremaining: 8.2s\n",
      "92:\tlearn: 0.6373919\ttotal: 842ms\tremaining: 8.21s\n",
      "93:\tlearn: 0.6373710\ttotal: 851ms\tremaining: 8.2s\n",
      "94:\tlearn: 0.6373355\ttotal: 859ms\tremaining: 8.18s\n",
      "95:\tlearn: 0.6373036\ttotal: 870ms\tremaining: 8.19s\n",
      "96:\tlearn: 0.6372834\ttotal: 879ms\tremaining: 8.18s\n",
      "97:\tlearn: 0.6372570\ttotal: 891ms\tremaining: 8.2s\n",
      "98:\tlearn: 0.6372381\ttotal: 899ms\tremaining: 8.18s\n",
      "99:\tlearn: 0.6372190\ttotal: 906ms\tremaining: 8.15s\n",
      "100:\tlearn: 0.6371871\ttotal: 916ms\tremaining: 8.15s\n",
      "101:\tlearn: 0.6371668\ttotal: 927ms\tremaining: 8.16s\n",
      "102:\tlearn: 0.6371340\ttotal: 935ms\tremaining: 8.14s\n",
      "103:\tlearn: 0.6371094\ttotal: 943ms\tremaining: 8.12s\n",
      "104:\tlearn: 0.6370880\ttotal: 954ms\tremaining: 8.13s\n",
      "105:\tlearn: 0.6370612\ttotal: 963ms\tremaining: 8.12s\n",
      "106:\tlearn: 0.6370432\ttotal: 976ms\tremaining: 8.14s\n",
      "107:\tlearn: 0.6370308\ttotal: 987ms\tremaining: 8.15s\n",
      "108:\tlearn: 0.6370172\ttotal: 995ms\tremaining: 8.14s\n",
      "109:\tlearn: 0.6369882\ttotal: 1s\tremaining: 8.13s\n",
      "110:\tlearn: 0.6369693\ttotal: 1.01s\tremaining: 8.11s\n",
      "111:\tlearn: 0.6369540\ttotal: 1.02s\tremaining: 8.1s\n",
      "112:\tlearn: 0.6369287\ttotal: 1.03s\tremaining: 8.08s\n",
      "113:\tlearn: 0.6369177\ttotal: 1.04s\tremaining: 8.08s\n",
      "114:\tlearn: 0.6369082\ttotal: 1.05s\tremaining: 8.07s\n",
      "115:\tlearn: 0.6368934\ttotal: 1.06s\tremaining: 8.06s\n",
      "116:\tlearn: 0.6368666\ttotal: 1.07s\tremaining: 8.07s\n",
      "117:\tlearn: 0.6368609\ttotal: 1.08s\tremaining: 8.05s\n",
      "118:\tlearn: 0.6368371\ttotal: 1.09s\tremaining: 8.09s\n",
      "119:\tlearn: 0.6368068\ttotal: 1.11s\tremaining: 8.13s\n",
      "120:\tlearn: 0.6367804\ttotal: 1.12s\tremaining: 8.14s\n",
      "121:\tlearn: 0.6367649\ttotal: 1.13s\tremaining: 8.13s\n",
      "122:\tlearn: 0.6367546\ttotal: 1.14s\tremaining: 8.12s\n",
      "123:\tlearn: 0.6367441\ttotal: 1.15s\tremaining: 8.11s\n",
      "124:\tlearn: 0.6367403\ttotal: 1.16s\tremaining: 8.12s\n",
      "125:\tlearn: 0.6367235\ttotal: 1.17s\tremaining: 8.1s\n",
      "126:\tlearn: 0.6367123\ttotal: 1.18s\tremaining: 8.08s\n",
      "127:\tlearn: 0.6367047\ttotal: 1.18s\tremaining: 8.07s\n",
      "128:\tlearn: 0.6366732\ttotal: 1.19s\tremaining: 8.05s\n",
      "129:\tlearn: 0.6366694\ttotal: 1.2s\tremaining: 8.02s\n",
      "130:\tlearn: 0.6366567\ttotal: 1.21s\tremaining: 8.01s\n",
      "131:\tlearn: 0.6366517\ttotal: 1.22s\tremaining: 8.01s\n",
      "132:\tlearn: 0.6366338\ttotal: 1.23s\tremaining: 7.99s\n",
      "133:\tlearn: 0.6366029\ttotal: 1.24s\tremaining: 7.98s\n",
      "134:\tlearn: 0.6365684\ttotal: 1.25s\tremaining: 8s\n",
      "135:\tlearn: 0.6365182\ttotal: 1.26s\tremaining: 8.03s\n",
      "136:\tlearn: 0.6364629\ttotal: 1.28s\tremaining: 8.04s\n",
      "137:\tlearn: 0.6364288\ttotal: 1.29s\tremaining: 8.05s\n",
      "138:\tlearn: 0.6364167\ttotal: 1.3s\tremaining: 8.05s\n",
      "139:\tlearn: 0.6364015\ttotal: 1.31s\tremaining: 8.06s\n",
      "140:\tlearn: 0.6363947\ttotal: 1.32s\tremaining: 8.05s\n",
      "141:\tlearn: 0.6363805\ttotal: 1.33s\tremaining: 8.06s\n",
      "142:\tlearn: 0.6363459\ttotal: 1.35s\tremaining: 8.07s\n",
      "143:\tlearn: 0.6363290\ttotal: 1.36s\tremaining: 8.07s\n",
      "144:\tlearn: 0.6363154\ttotal: 1.37s\tremaining: 8.08s\n",
      "145:\tlearn: 0.6362937\ttotal: 1.38s\tremaining: 8.08s\n",
      "146:\tlearn: 0.6362680\ttotal: 1.39s\tremaining: 8.07s\n",
      "147:\tlearn: 0.6362520\ttotal: 1.4s\tremaining: 8.08s\n",
      "148:\tlearn: 0.6362482\ttotal: 1.41s\tremaining: 8.06s\n",
      "149:\tlearn: 0.6362388\ttotal: 1.42s\tremaining: 8.06s\n",
      "150:\tlearn: 0.6362255\ttotal: 1.44s\tremaining: 8.09s\n",
      "151:\tlearn: 0.6362140\ttotal: 1.45s\tremaining: 8.1s\n",
      "152:\tlearn: 0.6362016\ttotal: 1.46s\tremaining: 8.08s\n",
      "153:\tlearn: 0.6361915\ttotal: 1.47s\tremaining: 8.07s\n",
      "154:\tlearn: 0.6361767\ttotal: 1.48s\tremaining: 8.07s\n",
      "155:\tlearn: 0.6361643\ttotal: 1.49s\tremaining: 8.05s\n",
      "156:\tlearn: 0.6361530\ttotal: 1.5s\tremaining: 8.08s\n",
      "157:\tlearn: 0.6361418\ttotal: 1.51s\tremaining: 8.07s\n",
      "158:\tlearn: 0.6361238\ttotal: 1.52s\tremaining: 8.06s\n",
      "159:\tlearn: 0.6360996\ttotal: 1.53s\tremaining: 8.05s\n",
      "160:\tlearn: 0.6360931\ttotal: 1.54s\tremaining: 8.05s\n",
      "161:\tlearn: 0.6360889\ttotal: 1.55s\tremaining: 8.03s\n",
      "162:\tlearn: 0.6360592\ttotal: 1.56s\tremaining: 8.02s\n",
      "163:\tlearn: 0.6360548\ttotal: 1.57s\tremaining: 8s\n",
      "164:\tlearn: 0.6360541\ttotal: 1.58s\tremaining: 8s\n",
      "165:\tlearn: 0.6360253\ttotal: 1.59s\tremaining: 7.98s\n",
      "166:\tlearn: 0.6360144\ttotal: 1.6s\tremaining: 7.98s\n",
      "167:\tlearn: 0.6359984\ttotal: 1.61s\tremaining: 7.97s\n",
      "168:\tlearn: 0.6359827\ttotal: 1.62s\tremaining: 7.96s\n",
      "169:\tlearn: 0.6359750\ttotal: 1.63s\tremaining: 7.95s\n",
      "170:\tlearn: 0.6359728\ttotal: 1.64s\tremaining: 7.94s\n",
      "171:\tlearn: 0.6359584\ttotal: 1.65s\tremaining: 7.93s\n",
      "172:\tlearn: 0.6359461\ttotal: 1.66s\tremaining: 7.91s\n",
      "173:\tlearn: 0.6359451\ttotal: 1.66s\tremaining: 7.9s\n",
      "174:\tlearn: 0.6359334\ttotal: 1.67s\tremaining: 7.88s\n"
     ]
    },
    {
     "name": "stdout",
     "output_type": "stream",
     "text": [
      "175:\tlearn: 0.6359206\ttotal: 1.68s\tremaining: 7.88s\n",
      "176:\tlearn: 0.6358491\ttotal: 1.7s\tremaining: 7.9s\n",
      "177:\tlearn: 0.6358426\ttotal: 1.71s\tremaining: 7.89s\n",
      "178:\tlearn: 0.6358320\ttotal: 1.72s\tremaining: 7.87s\n",
      "179:\tlearn: 0.6358294\ttotal: 1.72s\tremaining: 7.85s\n",
      "180:\tlearn: 0.6358081\ttotal: 1.73s\tremaining: 7.84s\n",
      "181:\tlearn: 0.6358022\ttotal: 1.74s\tremaining: 7.83s\n",
      "182:\tlearn: 0.6357910\ttotal: 1.75s\tremaining: 7.81s\n",
      "183:\tlearn: 0.6357910\ttotal: 1.76s\tremaining: 7.79s\n",
      "184:\tlearn: 0.6357705\ttotal: 1.77s\tremaining: 7.78s\n",
      "185:\tlearn: 0.6357503\ttotal: 1.77s\tremaining: 7.77s\n",
      "186:\tlearn: 0.6357418\ttotal: 1.78s\tremaining: 7.76s\n",
      "187:\tlearn: 0.6357417\ttotal: 1.79s\tremaining: 7.74s\n",
      "188:\tlearn: 0.6357351\ttotal: 1.8s\tremaining: 7.73s\n",
      "189:\tlearn: 0.6357262\ttotal: 1.81s\tremaining: 7.73s\n",
      "190:\tlearn: 0.6357239\ttotal: 1.82s\tremaining: 7.72s\n",
      "191:\tlearn: 0.6357103\ttotal: 1.83s\tremaining: 7.71s\n",
      "192:\tlearn: 0.6356894\ttotal: 1.84s\tremaining: 7.7s\n",
      "193:\tlearn: 0.6356835\ttotal: 1.85s\tremaining: 7.68s\n",
      "194:\tlearn: 0.6356722\ttotal: 1.85s\tremaining: 7.66s\n",
      "195:\tlearn: 0.6356528\ttotal: 1.86s\tremaining: 7.64s\n",
      "196:\tlearn: 0.6356463\ttotal: 1.87s\tremaining: 7.63s\n",
      "197:\tlearn: 0.6356302\ttotal: 1.88s\tremaining: 7.61s\n",
      "198:\tlearn: 0.6356140\ttotal: 1.89s\tremaining: 7.62s\n",
      "199:\tlearn: 0.6356123\ttotal: 1.9s\tremaining: 7.6s\n",
      "200:\tlearn: 0.6356111\ttotal: 1.91s\tremaining: 7.59s\n",
      "201:\tlearn: 0.6356067\ttotal: 1.92s\tremaining: 7.57s\n",
      "202:\tlearn: 0.6355888\ttotal: 1.93s\tremaining: 7.56s\n",
      "203:\tlearn: 0.6355782\ttotal: 1.93s\tremaining: 7.54s\n",
      "204:\tlearn: 0.6355639\ttotal: 1.94s\tremaining: 7.52s\n",
      "205:\tlearn: 0.6355492\ttotal: 1.95s\tremaining: 7.51s\n",
      "206:\tlearn: 0.6355399\ttotal: 1.96s\tremaining: 7.49s\n",
      "207:\tlearn: 0.6355359\ttotal: 1.96s\tremaining: 7.48s\n",
      "208:\tlearn: 0.6355254\ttotal: 1.97s\tremaining: 7.46s\n",
      "209:\tlearn: 0.6355132\ttotal: 1.98s\tremaining: 7.44s\n",
      "210:\tlearn: 0.6355087\ttotal: 1.99s\tremaining: 7.43s\n",
      "211:\tlearn: 0.6354838\ttotal: 1.99s\tremaining: 7.41s\n",
      "212:\tlearn: 0.6354814\ttotal: 2s\tremaining: 7.4s\n",
      "213:\tlearn: 0.6354694\ttotal: 2.01s\tremaining: 7.38s\n",
      "214:\tlearn: 0.6354657\ttotal: 2.02s\tremaining: 7.36s\n",
      "215:\tlearn: 0.6354486\ttotal: 2.02s\tremaining: 7.35s\n",
      "216:\tlearn: 0.6354426\ttotal: 2.03s\tremaining: 7.33s\n",
      "217:\tlearn: 0.6354343\ttotal: 2.04s\tremaining: 7.32s\n",
      "218:\tlearn: 0.6354233\ttotal: 2.05s\tremaining: 7.3s\n",
      "219:\tlearn: 0.6354136\ttotal: 2.05s\tremaining: 7.29s\n",
      "220:\tlearn: 0.6354046\ttotal: 2.06s\tremaining: 7.27s\n",
      "221:\tlearn: 0.6354011\ttotal: 2.07s\tremaining: 7.25s\n",
      "222:\tlearn: 0.6353997\ttotal: 2.08s\tremaining: 7.24s\n",
      "223:\tlearn: 0.6353956\ttotal: 2.09s\tremaining: 7.23s\n",
      "224:\tlearn: 0.6353710\ttotal: 2.1s\tremaining: 7.23s\n",
      "225:\tlearn: 0.6353695\ttotal: 2.11s\tremaining: 7.22s\n",
      "226:\tlearn: 0.6353554\ttotal: 2.12s\tremaining: 7.2s\n",
      "227:\tlearn: 0.6353515\ttotal: 2.12s\tremaining: 7.19s\n",
      "228:\tlearn: 0.6353453\ttotal: 2.13s\tremaining: 7.18s\n",
      "229:\tlearn: 0.6353447\ttotal: 2.14s\tremaining: 7.16s\n",
      "230:\tlearn: 0.6353405\ttotal: 2.15s\tremaining: 7.15s\n",
      "231:\tlearn: 0.6353389\ttotal: 2.15s\tremaining: 7.14s\n",
      "232:\tlearn: 0.6353358\ttotal: 2.16s\tremaining: 7.12s\n",
      "233:\tlearn: 0.6353351\ttotal: 2.17s\tremaining: 7.11s\n",
      "234:\tlearn: 0.6353296\ttotal: 2.18s\tremaining: 7.1s\n",
      "235:\tlearn: 0.6353188\ttotal: 2.19s\tremaining: 7.09s\n",
      "236:\tlearn: 0.6353178\ttotal: 2.2s\tremaining: 7.08s\n",
      "237:\tlearn: 0.6353069\ttotal: 2.21s\tremaining: 7.07s\n",
      "238:\tlearn: 0.6352946\ttotal: 2.21s\tremaining: 7.05s\n",
      "239:\tlearn: 0.6352922\ttotal: 2.22s\tremaining: 7.04s\n",
      "240:\tlearn: 0.6352775\ttotal: 2.23s\tremaining: 7.03s\n",
      "241:\tlearn: 0.6352763\ttotal: 2.24s\tremaining: 7.02s\n",
      "242:\tlearn: 0.6352651\ttotal: 2.25s\tremaining: 7s\n",
      "243:\tlearn: 0.6352568\ttotal: 2.25s\tremaining: 6.99s\n",
      "244:\tlearn: 0.6352435\ttotal: 2.27s\tremaining: 6.99s\n",
      "245:\tlearn: 0.6352409\ttotal: 2.27s\tremaining: 6.97s\n",
      "246:\tlearn: 0.6352356\ttotal: 2.28s\tremaining: 6.96s\n",
      "247:\tlearn: 0.6352341\ttotal: 2.29s\tremaining: 6.95s\n",
      "248:\tlearn: 0.6352336\ttotal: 2.3s\tremaining: 6.95s\n",
      "249:\tlearn: 0.6352309\ttotal: 2.31s\tremaining: 6.94s\n",
      "250:\tlearn: 0.6352176\ttotal: 2.32s\tremaining: 6.93s\n",
      "251:\tlearn: 0.6352120\ttotal: 2.33s\tremaining: 6.92s\n",
      "252:\tlearn: 0.6351865\ttotal: 2.34s\tremaining: 6.9s\n",
      "253:\tlearn: 0.6351748\ttotal: 2.35s\tremaining: 6.9s\n",
      "254:\tlearn: 0.6351703\ttotal: 2.36s\tremaining: 6.89s\n",
      "255:\tlearn: 0.6351582\ttotal: 2.37s\tremaining: 6.88s\n",
      "256:\tlearn: 0.6351530\ttotal: 2.37s\tremaining: 6.86s\n",
      "257:\tlearn: 0.6351522\ttotal: 2.38s\tremaining: 6.85s\n",
      "258:\tlearn: 0.6351450\ttotal: 2.39s\tremaining: 6.84s\n",
      "259:\tlearn: 0.6351439\ttotal: 2.4s\tremaining: 6.83s\n",
      "260:\tlearn: 0.6351438\ttotal: 2.4s\tremaining: 6.81s\n",
      "261:\tlearn: 0.6351417\ttotal: 2.42s\tremaining: 6.8s\n",
      "262:\tlearn: 0.6351311\ttotal: 2.42s\tremaining: 6.79s\n",
      "263:\tlearn: 0.6351188\ttotal: 2.43s\tremaining: 6.78s\n",
      "264:\tlearn: 0.6351140\ttotal: 2.44s\tremaining: 6.77s\n",
      "265:\tlearn: 0.6350887\ttotal: 2.45s\tremaining: 6.76s\n",
      "266:\tlearn: 0.6350856\ttotal: 2.46s\tremaining: 6.75s\n",
      "267:\tlearn: 0.6350658\ttotal: 2.47s\tremaining: 6.74s\n",
      "268:\tlearn: 0.6350595\ttotal: 2.48s\tremaining: 6.73s\n",
      "269:\tlearn: 0.6350592\ttotal: 2.48s\tremaining: 6.71s\n",
      "270:\tlearn: 0.6350509\ttotal: 2.49s\tremaining: 6.7s\n",
      "271:\tlearn: 0.6350422\ttotal: 2.5s\tremaining: 6.69s\n",
      "272:\tlearn: 0.6350413\ttotal: 2.51s\tremaining: 6.69s\n",
      "273:\tlearn: 0.6350397\ttotal: 2.52s\tremaining: 6.68s\n",
      "274:\tlearn: 0.6350367\ttotal: 2.53s\tremaining: 6.67s\n",
      "275:\tlearn: 0.6350308\ttotal: 2.54s\tremaining: 6.66s\n",
      "276:\tlearn: 0.6350207\ttotal: 2.55s\tremaining: 6.65s\n",
      "277:\tlearn: 0.6349917\ttotal: 2.56s\tremaining: 6.64s\n",
      "278:\tlearn: 0.6349917\ttotal: 2.56s\tremaining: 6.62s\n",
      "279:\tlearn: 0.6349880\ttotal: 2.57s\tremaining: 6.61s\n",
      "280:\tlearn: 0.6349855\ttotal: 2.58s\tremaining: 6.61s\n",
      "281:\tlearn: 0.6349854\ttotal: 2.59s\tremaining: 6.59s\n",
      "282:\tlearn: 0.6349653\ttotal: 2.6s\tremaining: 6.58s\n",
      "283:\tlearn: 0.6349556\ttotal: 2.6s\tremaining: 6.57s\n",
      "284:\tlearn: 0.6349505\ttotal: 2.61s\tremaining: 6.56s\n",
      "285:\tlearn: 0.6349381\ttotal: 2.62s\tremaining: 6.54s\n",
      "286:\tlearn: 0.6349366\ttotal: 2.63s\tremaining: 6.53s\n",
      "287:\tlearn: 0.6349350\ttotal: 2.64s\tremaining: 6.52s\n",
      "288:\tlearn: 0.6349255\ttotal: 2.65s\tremaining: 6.51s\n",
      "289:\tlearn: 0.6349211\ttotal: 2.65s\tremaining: 6.5s\n",
      "290:\tlearn: 0.6349088\ttotal: 2.66s\tremaining: 6.48s\n",
      "291:\tlearn: 0.6349086\ttotal: 2.67s\tremaining: 6.47s\n",
      "292:\tlearn: 0.6348993\ttotal: 2.68s\tremaining: 6.46s\n",
      "293:\tlearn: 0.6348990\ttotal: 2.68s\tremaining: 6.45s\n",
      "294:\tlearn: 0.6348976\ttotal: 2.69s\tremaining: 6.44s\n",
      "295:\tlearn: 0.6348900\ttotal: 2.7s\tremaining: 6.43s\n",
      "296:\tlearn: 0.6348830\ttotal: 2.71s\tremaining: 6.41s\n",
      "297:\tlearn: 0.6348752\ttotal: 2.72s\tremaining: 6.41s\n",
      "298:\tlearn: 0.6348601\ttotal: 2.73s\tremaining: 6.4s\n",
      "299:\tlearn: 0.6348429\ttotal: 2.74s\tremaining: 6.39s\n",
      "300:\tlearn: 0.6348417\ttotal: 2.75s\tremaining: 6.38s\n",
      "301:\tlearn: 0.6348165\ttotal: 2.75s\tremaining: 6.37s\n",
      "302:\tlearn: 0.6348028\ttotal: 2.76s\tremaining: 6.36s\n",
      "303:\tlearn: 0.6348003\ttotal: 2.77s\tremaining: 6.35s\n",
      "304:\tlearn: 0.6347978\ttotal: 2.78s\tremaining: 6.33s\n",
      "305:\tlearn: 0.6347975\ttotal: 2.79s\tremaining: 6.32s\n",
      "306:\tlearn: 0.6347891\ttotal: 2.8s\tremaining: 6.31s\n",
      "307:\tlearn: 0.6347869\ttotal: 2.81s\tremaining: 6.3s\n",
      "308:\tlearn: 0.6347853\ttotal: 2.81s\tremaining: 6.29s\n",
      "309:\tlearn: 0.6347819\ttotal: 2.82s\tremaining: 6.29s\n",
      "310:\tlearn: 0.6347777\ttotal: 2.83s\tremaining: 6.28s\n",
      "311:\tlearn: 0.6347770\ttotal: 2.84s\tremaining: 6.27s\n",
      "312:\tlearn: 0.6347590\ttotal: 2.85s\tremaining: 6.25s\n",
      "313:\tlearn: 0.6347582\ttotal: 2.86s\tremaining: 6.25s\n",
      "314:\tlearn: 0.6347576\ttotal: 2.87s\tremaining: 6.24s\n",
      "315:\tlearn: 0.6347460\ttotal: 2.88s\tremaining: 6.23s\n",
      "316:\tlearn: 0.6347456\ttotal: 2.89s\tremaining: 6.22s\n",
      "317:\tlearn: 0.6347368\ttotal: 2.9s\tremaining: 6.21s\n",
      "318:\tlearn: 0.6347364\ttotal: 2.91s\tremaining: 6.2s\n",
      "319:\tlearn: 0.6347282\ttotal: 2.91s\tremaining: 6.19s\n",
      "320:\tlearn: 0.6347257\ttotal: 2.92s\tremaining: 6.19s\n",
      "321:\tlearn: 0.6347212\ttotal: 2.93s\tremaining: 6.18s\n",
      "322:\tlearn: 0.6347018\ttotal: 2.94s\tremaining: 6.17s\n",
      "323:\tlearn: 0.6346946\ttotal: 2.96s\tremaining: 6.17s\n",
      "324:\tlearn: 0.6346946\ttotal: 2.96s\tremaining: 6.15s\n",
      "325:\tlearn: 0.6346833\ttotal: 2.97s\tremaining: 6.15s\n",
      "326:\tlearn: 0.6346721\ttotal: 2.98s\tremaining: 6.13s\n",
      "327:\tlearn: 0.6346660\ttotal: 2.99s\tremaining: 6.13s\n",
      "328:\tlearn: 0.6346656\ttotal: 3s\tremaining: 6.12s\n",
      "329:\tlearn: 0.6346555\ttotal: 3.01s\tremaining: 6.11s\n",
      "330:\tlearn: 0.6346537\ttotal: 3.02s\tremaining: 6.1s\n",
      "331:\tlearn: 0.6346520\ttotal: 3.03s\tremaining: 6.09s\n",
      "332:\tlearn: 0.6346494\ttotal: 3.04s\tremaining: 6.08s\n",
      "333:\tlearn: 0.6346486\ttotal: 3.04s\tremaining: 6.07s\n",
      "334:\tlearn: 0.6346211\ttotal: 3.05s\tremaining: 6.06s\n",
      "335:\tlearn: 0.6345979\ttotal: 3.06s\tremaining: 6.05s\n",
      "336:\tlearn: 0.6345955\ttotal: 3.07s\tremaining: 6.04s\n",
      "337:\tlearn: 0.6345929\ttotal: 3.08s\tremaining: 6.03s\n",
      "338:\tlearn: 0.6345785\ttotal: 3.09s\tremaining: 6.02s\n",
      "339:\tlearn: 0.6345547\ttotal: 3.1s\tremaining: 6.02s\n",
      "340:\tlearn: 0.6345528\ttotal: 3.11s\tremaining: 6s\n",
      "341:\tlearn: 0.6345514\ttotal: 3.12s\tremaining: 6s\n"
     ]
    },
    {
     "name": "stdout",
     "output_type": "stream",
     "text": [
      "342:\tlearn: 0.6345480\ttotal: 3.13s\tremaining: 5.99s\n",
      "343:\tlearn: 0.6345456\ttotal: 3.14s\tremaining: 5.98s\n",
      "344:\tlearn: 0.6345409\ttotal: 3.15s\tremaining: 5.97s\n",
      "345:\tlearn: 0.6345390\ttotal: 3.15s\tremaining: 5.96s\n",
      "346:\tlearn: 0.6345288\ttotal: 3.17s\tremaining: 5.96s\n",
      "347:\tlearn: 0.6345241\ttotal: 3.17s\tremaining: 5.95s\n",
      "348:\tlearn: 0.6345134\ttotal: 3.18s\tremaining: 5.94s\n",
      "349:\tlearn: 0.6344882\ttotal: 3.19s\tremaining: 5.93s\n",
      "350:\tlearn: 0.6344743\ttotal: 3.2s\tremaining: 5.92s\n",
      "351:\tlearn: 0.6344644\ttotal: 3.21s\tremaining: 5.91s\n",
      "352:\tlearn: 0.6344630\ttotal: 3.22s\tremaining: 5.89s\n",
      "353:\tlearn: 0.6344411\ttotal: 3.23s\tremaining: 5.89s\n",
      "354:\tlearn: 0.6344411\ttotal: 3.24s\tremaining: 5.88s\n",
      "355:\tlearn: 0.6344269\ttotal: 3.25s\tremaining: 5.88s\n",
      "356:\tlearn: 0.6344260\ttotal: 3.26s\tremaining: 5.88s\n",
      "357:\tlearn: 0.6344245\ttotal: 3.27s\tremaining: 5.87s\n",
      "358:\tlearn: 0.6344197\ttotal: 3.28s\tremaining: 5.86s\n",
      "359:\tlearn: 0.6344097\ttotal: 3.29s\tremaining: 5.85s\n",
      "360:\tlearn: 0.6344088\ttotal: 3.3s\tremaining: 5.85s\n",
      "361:\tlearn: 0.6344076\ttotal: 3.32s\tremaining: 5.85s\n",
      "362:\tlearn: 0.6343991\ttotal: 3.33s\tremaining: 5.85s\n",
      "363:\tlearn: 0.6343880\ttotal: 3.34s\tremaining: 5.84s\n",
      "364:\tlearn: 0.6343877\ttotal: 3.35s\tremaining: 5.84s\n",
      "365:\tlearn: 0.6343877\ttotal: 3.36s\tremaining: 5.83s\n",
      "366:\tlearn: 0.6343876\ttotal: 3.37s\tremaining: 5.82s\n",
      "367:\tlearn: 0.6343617\ttotal: 3.38s\tremaining: 5.8s\n",
      "368:\tlearn: 0.6343603\ttotal: 3.39s\tremaining: 5.8s\n",
      "369:\tlearn: 0.6343434\ttotal: 3.4s\tremaining: 5.8s\n",
      "370:\tlearn: 0.6343350\ttotal: 3.41s\tremaining: 5.78s\n",
      "371:\tlearn: 0.6343317\ttotal: 3.42s\tremaining: 5.77s\n",
      "372:\tlearn: 0.6343280\ttotal: 3.43s\tremaining: 5.76s\n",
      "373:\tlearn: 0.6343148\ttotal: 3.44s\tremaining: 5.75s\n",
      "374:\tlearn: 0.6342770\ttotal: 3.44s\tremaining: 5.74s\n",
      "375:\tlearn: 0.6342687\ttotal: 3.45s\tremaining: 5.73s\n",
      "376:\tlearn: 0.6342600\ttotal: 3.46s\tremaining: 5.72s\n",
      "377:\tlearn: 0.6342598\ttotal: 3.47s\tremaining: 5.71s\n",
      "378:\tlearn: 0.6342524\ttotal: 3.48s\tremaining: 5.7s\n",
      "379:\tlearn: 0.6342522\ttotal: 3.49s\tremaining: 5.69s\n",
      "380:\tlearn: 0.6342375\ttotal: 3.49s\tremaining: 5.68s\n",
      "381:\tlearn: 0.6342303\ttotal: 3.5s\tremaining: 5.67s\n",
      "382:\tlearn: 0.6342166\ttotal: 3.51s\tremaining: 5.65s\n",
      "383:\tlearn: 0.6342148\ttotal: 3.52s\tremaining: 5.64s\n",
      "384:\tlearn: 0.6342069\ttotal: 3.53s\tremaining: 5.63s\n",
      "385:\tlearn: 0.6341708\ttotal: 3.54s\tremaining: 5.63s\n",
      "386:\tlearn: 0.6341643\ttotal: 3.55s\tremaining: 5.62s\n",
      "387:\tlearn: 0.6341593\ttotal: 3.56s\tremaining: 5.61s\n",
      "388:\tlearn: 0.6341490\ttotal: 3.57s\tremaining: 5.6s\n",
      "389:\tlearn: 0.6341486\ttotal: 3.57s\tremaining: 5.59s\n",
      "390:\tlearn: 0.6341475\ttotal: 3.58s\tremaining: 5.58s\n",
      "391:\tlearn: 0.6341247\ttotal: 3.59s\tremaining: 5.57s\n",
      "392:\tlearn: 0.6341242\ttotal: 3.6s\tremaining: 5.56s\n",
      "393:\tlearn: 0.6341231\ttotal: 3.61s\tremaining: 5.55s\n",
      "394:\tlearn: 0.6341182\ttotal: 3.61s\tremaining: 5.54s\n",
      "395:\tlearn: 0.6341175\ttotal: 3.62s\tremaining: 5.53s\n",
      "396:\tlearn: 0.6341118\ttotal: 3.63s\tremaining: 5.52s\n",
      "397:\tlearn: 0.6341034\ttotal: 3.64s\tremaining: 5.5s\n",
      "398:\tlearn: 0.6341032\ttotal: 3.65s\tremaining: 5.49s\n",
      "399:\tlearn: 0.6340933\ttotal: 3.65s\tremaining: 5.48s\n",
      "400:\tlearn: 0.6340932\ttotal: 3.66s\tremaining: 5.47s\n",
      "401:\tlearn: 0.6340891\ttotal: 3.67s\tremaining: 5.46s\n",
      "402:\tlearn: 0.6340844\ttotal: 3.68s\tremaining: 5.45s\n",
      "403:\tlearn: 0.6340844\ttotal: 3.68s\tremaining: 5.43s\n",
      "404:\tlearn: 0.6340824\ttotal: 3.69s\tremaining: 5.42s\n",
      "405:\tlearn: 0.6340791\ttotal: 3.7s\tremaining: 5.41s\n",
      "406:\tlearn: 0.6340623\ttotal: 3.71s\tremaining: 5.4s\n",
      "407:\tlearn: 0.6340612\ttotal: 3.71s\tremaining: 5.39s\n",
      "408:\tlearn: 0.6340521\ttotal: 3.73s\tremaining: 5.38s\n",
      "409:\tlearn: 0.6340314\ttotal: 3.73s\tremaining: 5.37s\n",
      "410:\tlearn: 0.6340309\ttotal: 3.75s\tremaining: 5.37s\n",
      "411:\tlearn: 0.6340079\ttotal: 3.75s\tremaining: 5.36s\n",
      "412:\tlearn: 0.6340055\ttotal: 3.76s\tremaining: 5.35s\n",
      "413:\tlearn: 0.6339924\ttotal: 3.77s\tremaining: 5.34s\n",
      "414:\tlearn: 0.6339833\ttotal: 3.78s\tremaining: 5.33s\n",
      "415:\tlearn: 0.6339742\ttotal: 3.79s\tremaining: 5.33s\n",
      "416:\tlearn: 0.6339630\ttotal: 3.8s\tremaining: 5.31s\n",
      "417:\tlearn: 0.6339526\ttotal: 3.81s\tremaining: 5.31s\n",
      "418:\tlearn: 0.6339525\ttotal: 3.82s\tremaining: 5.3s\n",
      "419:\tlearn: 0.6339161\ttotal: 3.83s\tremaining: 5.29s\n",
      "420:\tlearn: 0.6339159\ttotal: 3.84s\tremaining: 5.28s\n",
      "421:\tlearn: 0.6339030\ttotal: 3.85s\tremaining: 5.27s\n",
      "422:\tlearn: 0.6339015\ttotal: 3.85s\tremaining: 5.26s\n",
      "423:\tlearn: 0.6338716\ttotal: 3.86s\tremaining: 5.25s\n",
      "424:\tlearn: 0.6338519\ttotal: 3.87s\tremaining: 5.24s\n",
      "425:\tlearn: 0.6338488\ttotal: 3.88s\tremaining: 5.23s\n",
      "426:\tlearn: 0.6338192\ttotal: 3.89s\tremaining: 5.22s\n",
      "427:\tlearn: 0.6338065\ttotal: 3.9s\tremaining: 5.21s\n",
      "428:\tlearn: 0.6338031\ttotal: 3.91s\tremaining: 5.2s\n",
      "429:\tlearn: 0.6337924\ttotal: 3.92s\tremaining: 5.19s\n",
      "430:\tlearn: 0.6337755\ttotal: 3.92s\tremaining: 5.18s\n",
      "431:\tlearn: 0.6337752\ttotal: 3.93s\tremaining: 5.17s\n",
      "432:\tlearn: 0.6337713\ttotal: 3.95s\tremaining: 5.17s\n",
      "433:\tlearn: 0.6337699\ttotal: 3.96s\tremaining: 5.16s\n",
      "434:\tlearn: 0.6337652\ttotal: 3.96s\tremaining: 5.15s\n",
      "435:\tlearn: 0.6337646\ttotal: 3.98s\tremaining: 5.14s\n",
      "436:\tlearn: 0.6337347\ttotal: 3.98s\tremaining: 5.13s\n",
      "437:\tlearn: 0.6336880\ttotal: 3.99s\tremaining: 5.13s\n",
      "438:\tlearn: 0.6336869\ttotal: 4s\tremaining: 5.12s\n",
      "439:\tlearn: 0.6336549\ttotal: 4.01s\tremaining: 5.11s\n",
      "440:\tlearn: 0.6336432\ttotal: 4.02s\tremaining: 5.1s\n",
      "441:\tlearn: 0.6336361\ttotal: 4.03s\tremaining: 5.09s\n",
      "442:\tlearn: 0.6336238\ttotal: 4.04s\tremaining: 5.08s\n",
      "443:\tlearn: 0.6335990\ttotal: 4.05s\tremaining: 5.07s\n",
      "444:\tlearn: 0.6335899\ttotal: 4.06s\tremaining: 5.06s\n",
      "445:\tlearn: 0.6335899\ttotal: 4.07s\tremaining: 5.05s\n",
      "446:\tlearn: 0.6335818\ttotal: 4.08s\tremaining: 5.04s\n",
      "447:\tlearn: 0.6335504\ttotal: 4.08s\tremaining: 5.03s\n",
      "448:\tlearn: 0.6335288\ttotal: 4.09s\tremaining: 5.02s\n",
      "449:\tlearn: 0.6335278\ttotal: 4.1s\tremaining: 5.01s\n",
      "450:\tlearn: 0.6335277\ttotal: 4.11s\tremaining: 5s\n",
      "451:\tlearn: 0.6335256\ttotal: 4.12s\tremaining: 4.99s\n",
      "452:\tlearn: 0.6335131\ttotal: 4.13s\tremaining: 4.98s\n",
      "453:\tlearn: 0.6335123\ttotal: 4.13s\tremaining: 4.97s\n",
      "454:\tlearn: 0.6335095\ttotal: 4.14s\tremaining: 4.96s\n",
      "455:\tlearn: 0.6335013\ttotal: 4.15s\tremaining: 4.95s\n",
      "456:\tlearn: 0.6334859\ttotal: 4.16s\tremaining: 4.94s\n",
      "457:\tlearn: 0.6334856\ttotal: 4.17s\tremaining: 4.93s\n",
      "458:\tlearn: 0.6334568\ttotal: 4.18s\tremaining: 4.92s\n",
      "459:\tlearn: 0.6334455\ttotal: 4.18s\tremaining: 4.91s\n",
      "460:\tlearn: 0.6334405\ttotal: 4.19s\tremaining: 4.9s\n",
      "461:\tlearn: 0.6334262\ttotal: 4.2s\tremaining: 4.89s\n",
      "462:\tlearn: 0.6333928\ttotal: 4.21s\tremaining: 4.88s\n",
      "463:\tlearn: 0.6333770\ttotal: 4.22s\tremaining: 4.87s\n",
      "464:\tlearn: 0.6333695\ttotal: 4.23s\tremaining: 4.86s\n",
      "465:\tlearn: 0.6333667\ttotal: 4.24s\tremaining: 4.85s\n",
      "466:\tlearn: 0.6333666\ttotal: 4.24s\tremaining: 4.84s\n",
      "467:\tlearn: 0.6333660\ttotal: 4.25s\tremaining: 4.83s\n",
      "468:\tlearn: 0.6333500\ttotal: 4.26s\tremaining: 4.82s\n",
      "469:\tlearn: 0.6333494\ttotal: 4.26s\tremaining: 4.81s\n",
      "470:\tlearn: 0.6333492\ttotal: 4.27s\tremaining: 4.8s\n",
      "471:\tlearn: 0.6333436\ttotal: 4.28s\tremaining: 4.79s\n",
      "472:\tlearn: 0.6333432\ttotal: 4.29s\tremaining: 4.78s\n",
      "473:\tlearn: 0.6333108\ttotal: 4.3s\tremaining: 4.78s\n",
      "474:\tlearn: 0.6333023\ttotal: 4.31s\tremaining: 4.76s\n",
      "475:\tlearn: 0.6333020\ttotal: 4.32s\tremaining: 4.75s\n",
      "476:\tlearn: 0.6333009\ttotal: 4.33s\tremaining: 4.74s\n",
      "477:\tlearn: 0.6333006\ttotal: 4.34s\tremaining: 4.74s\n",
      "478:\tlearn: 0.6332856\ttotal: 4.34s\tremaining: 4.72s\n",
      "479:\tlearn: 0.6332831\ttotal: 4.35s\tremaining: 4.72s\n",
      "480:\tlearn: 0.6332815\ttotal: 4.37s\tremaining: 4.71s\n",
      "481:\tlearn: 0.6332762\ttotal: 4.38s\tremaining: 4.7s\n",
      "482:\tlearn: 0.6332674\ttotal: 4.38s\tremaining: 4.69s\n",
      "483:\tlearn: 0.6332620\ttotal: 4.39s\tremaining: 4.68s\n",
      "484:\tlearn: 0.6332618\ttotal: 4.4s\tremaining: 4.67s\n",
      "485:\tlearn: 0.6332556\ttotal: 4.41s\tremaining: 4.66s\n",
      "486:\tlearn: 0.6332532\ttotal: 4.42s\tremaining: 4.65s\n",
      "487:\tlearn: 0.6332514\ttotal: 4.42s\tremaining: 4.64s\n",
      "488:\tlearn: 0.6332433\ttotal: 4.43s\tremaining: 4.63s\n",
      "489:\tlearn: 0.6332385\ttotal: 4.44s\tremaining: 4.62s\n",
      "490:\tlearn: 0.6332307\ttotal: 4.45s\tremaining: 4.61s\n",
      "491:\tlearn: 0.6332231\ttotal: 4.46s\tremaining: 4.6s\n",
      "492:\tlearn: 0.6332072\ttotal: 4.47s\tremaining: 4.59s\n",
      "493:\tlearn: 0.6331836\ttotal: 4.47s\tremaining: 4.58s\n",
      "494:\tlearn: 0.6331425\ttotal: 4.48s\tremaining: 4.57s\n",
      "495:\tlearn: 0.6331368\ttotal: 4.49s\tremaining: 4.56s\n",
      "496:\tlearn: 0.6331090\ttotal: 4.5s\tremaining: 4.55s\n",
      "497:\tlearn: 0.6331024\ttotal: 4.51s\tremaining: 4.54s\n",
      "498:\tlearn: 0.6331024\ttotal: 4.51s\tremaining: 4.53s\n",
      "499:\tlearn: 0.6330843\ttotal: 4.52s\tremaining: 4.52s\n",
      "500:\tlearn: 0.6330485\ttotal: 4.53s\tremaining: 4.51s\n",
      "501:\tlearn: 0.6330472\ttotal: 4.54s\tremaining: 4.5s\n",
      "502:\tlearn: 0.6330464\ttotal: 4.54s\tremaining: 4.49s\n",
      "503:\tlearn: 0.6330260\ttotal: 4.55s\tremaining: 4.48s\n"
     ]
    },
    {
     "name": "stdout",
     "output_type": "stream",
     "text": [
      "504:\tlearn: 0.6329951\ttotal: 4.57s\tremaining: 4.48s\n",
      "505:\tlearn: 0.6329909\ttotal: 4.58s\tremaining: 4.47s\n",
      "506:\tlearn: 0.6329869\ttotal: 4.58s\tremaining: 4.46s\n",
      "507:\tlearn: 0.6329845\ttotal: 4.59s\tremaining: 4.45s\n",
      "508:\tlearn: 0.6329714\ttotal: 4.6s\tremaining: 4.44s\n",
      "509:\tlearn: 0.6329572\ttotal: 4.61s\tremaining: 4.43s\n",
      "510:\tlearn: 0.6329544\ttotal: 4.62s\tremaining: 4.42s\n",
      "511:\tlearn: 0.6329508\ttotal: 4.63s\tremaining: 4.41s\n",
      "512:\tlearn: 0.6329367\ttotal: 4.63s\tremaining: 4.4s\n",
      "513:\tlearn: 0.6329327\ttotal: 4.65s\tremaining: 4.39s\n",
      "514:\tlearn: 0.6329293\ttotal: 4.65s\tremaining: 4.38s\n",
      "515:\tlearn: 0.6329038\ttotal: 4.67s\tremaining: 4.38s\n",
      "516:\tlearn: 0.6328965\ttotal: 4.67s\tremaining: 4.37s\n",
      "517:\tlearn: 0.6328963\ttotal: 4.68s\tremaining: 4.36s\n",
      "518:\tlearn: 0.6328900\ttotal: 4.69s\tremaining: 4.35s\n",
      "519:\tlearn: 0.6328653\ttotal: 4.7s\tremaining: 4.34s\n",
      "520:\tlearn: 0.6328378\ttotal: 4.71s\tremaining: 4.33s\n",
      "521:\tlearn: 0.6328375\ttotal: 4.72s\tremaining: 4.32s\n",
      "522:\tlearn: 0.6328310\ttotal: 4.73s\tremaining: 4.31s\n",
      "523:\tlearn: 0.6328143\ttotal: 4.74s\tremaining: 4.3s\n",
      "524:\tlearn: 0.6328050\ttotal: 4.75s\tremaining: 4.29s\n",
      "525:\tlearn: 0.6328031\ttotal: 4.76s\tremaining: 4.29s\n",
      "526:\tlearn: 0.6327936\ttotal: 4.76s\tremaining: 4.28s\n",
      "527:\tlearn: 0.6327913\ttotal: 4.78s\tremaining: 4.27s\n",
      "528:\tlearn: 0.6327839\ttotal: 4.79s\tremaining: 4.26s\n",
      "529:\tlearn: 0.6327640\ttotal: 4.8s\tremaining: 4.26s\n",
      "530:\tlearn: 0.6327535\ttotal: 4.81s\tremaining: 4.25s\n",
      "531:\tlearn: 0.6327526\ttotal: 4.82s\tremaining: 4.24s\n",
      "532:\tlearn: 0.6327474\ttotal: 4.83s\tremaining: 4.23s\n",
      "533:\tlearn: 0.6327464\ttotal: 4.84s\tremaining: 4.22s\n",
      "534:\tlearn: 0.6327454\ttotal: 4.84s\tremaining: 4.21s\n",
      "535:\tlearn: 0.6327452\ttotal: 4.86s\tremaining: 4.2s\n",
      "536:\tlearn: 0.6327279\ttotal: 4.86s\tremaining: 4.19s\n",
      "537:\tlearn: 0.6327274\ttotal: 4.87s\tremaining: 4.18s\n",
      "538:\tlearn: 0.6327216\ttotal: 4.88s\tremaining: 4.17s\n",
      "539:\tlearn: 0.6327111\ttotal: 4.89s\tremaining: 4.17s\n",
      "540:\tlearn: 0.6327097\ttotal: 4.9s\tremaining: 4.16s\n",
      "541:\tlearn: 0.6326997\ttotal: 4.91s\tremaining: 4.15s\n",
      "542:\tlearn: 0.6326991\ttotal: 4.91s\tremaining: 4.14s\n",
      "543:\tlearn: 0.6326854\ttotal: 4.92s\tremaining: 4.13s\n",
      "544:\tlearn: 0.6326712\ttotal: 4.93s\tremaining: 4.12s\n",
      "545:\tlearn: 0.6326711\ttotal: 4.94s\tremaining: 4.11s\n",
      "546:\tlearn: 0.6326641\ttotal: 4.95s\tremaining: 4.1s\n",
      "547:\tlearn: 0.6326486\ttotal: 4.96s\tremaining: 4.09s\n",
      "548:\tlearn: 0.6326391\ttotal: 4.97s\tremaining: 4.08s\n",
      "549:\tlearn: 0.6326163\ttotal: 4.98s\tremaining: 4.07s\n",
      "550:\tlearn: 0.6325790\ttotal: 4.99s\tremaining: 4.07s\n",
      "551:\tlearn: 0.6325610\ttotal: 5s\tremaining: 4.06s\n",
      "552:\tlearn: 0.6325609\ttotal: 5s\tremaining: 4.05s\n",
      "553:\tlearn: 0.6325607\ttotal: 5.01s\tremaining: 4.04s\n",
      "554:\tlearn: 0.6325600\ttotal: 5.02s\tremaining: 4.03s\n",
      "555:\tlearn: 0.6325470\ttotal: 5.03s\tremaining: 4.02s\n",
      "556:\tlearn: 0.6325462\ttotal: 5.04s\tremaining: 4.01s\n",
      "557:\tlearn: 0.6325421\ttotal: 5.05s\tremaining: 4s\n",
      "558:\tlearn: 0.6325350\ttotal: 5.06s\tremaining: 3.99s\n",
      "559:\tlearn: 0.6325100\ttotal: 5.07s\tremaining: 3.98s\n",
      "560:\tlearn: 0.6325031\ttotal: 5.07s\tremaining: 3.97s\n",
      "561:\tlearn: 0.6325030\ttotal: 5.08s\tremaining: 3.96s\n",
      "562:\tlearn: 0.6324878\ttotal: 5.09s\tremaining: 3.95s\n",
      "563:\tlearn: 0.6324874\ttotal: 5.1s\tremaining: 3.94s\n",
      "564:\tlearn: 0.6324871\ttotal: 5.11s\tremaining: 3.93s\n",
      "565:\tlearn: 0.6324628\ttotal: 5.12s\tremaining: 3.92s\n",
      "566:\tlearn: 0.6324624\ttotal: 5.12s\tremaining: 3.91s\n",
      "567:\tlearn: 0.6324553\ttotal: 5.13s\tremaining: 3.9s\n",
      "568:\tlearn: 0.6324525\ttotal: 5.14s\tremaining: 3.89s\n",
      "569:\tlearn: 0.6324511\ttotal: 5.15s\tremaining: 3.89s\n",
      "570:\tlearn: 0.6324421\ttotal: 5.16s\tremaining: 3.88s\n",
      "571:\tlearn: 0.6324415\ttotal: 5.17s\tremaining: 3.87s\n",
      "572:\tlearn: 0.6324295\ttotal: 5.19s\tremaining: 3.87s\n",
      "573:\tlearn: 0.6324182\ttotal: 5.21s\tremaining: 3.87s\n",
      "574:\tlearn: 0.6324145\ttotal: 5.22s\tremaining: 3.86s\n",
      "575:\tlearn: 0.6324113\ttotal: 5.23s\tremaining: 3.85s\n",
      "576:\tlearn: 0.6324081\ttotal: 5.24s\tremaining: 3.84s\n",
      "577:\tlearn: 0.6323944\ttotal: 5.25s\tremaining: 3.83s\n",
      "578:\tlearn: 0.6323722\ttotal: 5.26s\tremaining: 3.83s\n",
      "579:\tlearn: 0.6323708\ttotal: 5.27s\tremaining: 3.82s\n",
      "580:\tlearn: 0.6323594\ttotal: 5.29s\tremaining: 3.82s\n",
      "581:\tlearn: 0.6323582\ttotal: 5.31s\tremaining: 3.81s\n",
      "582:\tlearn: 0.6323494\ttotal: 5.32s\tremaining: 3.8s\n",
      "583:\tlearn: 0.6323448\ttotal: 5.33s\tremaining: 3.79s\n",
      "584:\tlearn: 0.6323447\ttotal: 5.34s\tremaining: 3.79s\n",
      "585:\tlearn: 0.6323231\ttotal: 5.35s\tremaining: 3.78s\n",
      "586:\tlearn: 0.6323211\ttotal: 5.36s\tremaining: 3.77s\n",
      "587:\tlearn: 0.6323058\ttotal: 5.37s\tremaining: 3.76s\n",
      "588:\tlearn: 0.6323050\ttotal: 5.38s\tremaining: 3.76s\n",
      "589:\tlearn: 0.6323033\ttotal: 5.39s\tremaining: 3.75s\n",
      "590:\tlearn: 0.6323032\ttotal: 5.4s\tremaining: 3.74s\n",
      "591:\tlearn: 0.6322956\ttotal: 5.41s\tremaining: 3.73s\n",
      "592:\tlearn: 0.6322955\ttotal: 5.42s\tremaining: 3.72s\n",
      "593:\tlearn: 0.6322951\ttotal: 5.42s\tremaining: 3.71s\n",
      "594:\tlearn: 0.6322944\ttotal: 5.43s\tremaining: 3.7s\n",
      "595:\tlearn: 0.6322893\ttotal: 5.45s\tremaining: 3.69s\n",
      "596:\tlearn: 0.6322667\ttotal: 5.45s\tremaining: 3.68s\n",
      "597:\tlearn: 0.6322649\ttotal: 5.46s\tremaining: 3.67s\n",
      "598:\tlearn: 0.6322636\ttotal: 5.47s\tremaining: 3.66s\n",
      "599:\tlearn: 0.6322372\ttotal: 5.48s\tremaining: 3.65s\n",
      "600:\tlearn: 0.6322196\ttotal: 5.49s\tremaining: 3.64s\n",
      "601:\tlearn: 0.6322190\ttotal: 5.5s\tremaining: 3.63s\n",
      "602:\tlearn: 0.6321989\ttotal: 5.51s\tremaining: 3.63s\n",
      "603:\tlearn: 0.6321888\ttotal: 5.52s\tremaining: 3.62s\n",
      "604:\tlearn: 0.6321727\ttotal: 5.53s\tremaining: 3.61s\n",
      "605:\tlearn: 0.6321712\ttotal: 5.53s\tremaining: 3.6s\n",
      "606:\tlearn: 0.6321696\ttotal: 5.54s\tremaining: 3.59s\n",
      "607:\tlearn: 0.6321580\ttotal: 5.55s\tremaining: 3.58s\n",
      "608:\tlearn: 0.6321495\ttotal: 5.56s\tremaining: 3.57s\n",
      "609:\tlearn: 0.6321471\ttotal: 5.57s\tremaining: 3.56s\n",
      "610:\tlearn: 0.6321468\ttotal: 5.58s\tremaining: 3.56s\n",
      "611:\tlearn: 0.6321468\ttotal: 5.59s\tremaining: 3.54s\n",
      "612:\tlearn: 0.6321467\ttotal: 5.6s\tremaining: 3.53s\n",
      "613:\tlearn: 0.6321442\ttotal: 5.61s\tremaining: 3.52s\n",
      "614:\tlearn: 0.6321338\ttotal: 5.62s\tremaining: 3.52s\n",
      "615:\tlearn: 0.6321095\ttotal: 5.62s\tremaining: 3.5s\n",
      "616:\tlearn: 0.6321050\ttotal: 5.63s\tremaining: 3.5s\n",
      "617:\tlearn: 0.6321045\ttotal: 5.64s\tremaining: 3.48s\n",
      "618:\tlearn: 0.6321012\ttotal: 5.65s\tremaining: 3.48s\n",
      "619:\tlearn: 0.6320986\ttotal: 5.65s\tremaining: 3.46s\n",
      "620:\tlearn: 0.6320977\ttotal: 5.66s\tremaining: 3.46s\n",
      "621:\tlearn: 0.6320934\ttotal: 5.67s\tremaining: 3.45s\n",
      "622:\tlearn: 0.6320781\ttotal: 5.68s\tremaining: 3.44s\n",
      "623:\tlearn: 0.6320768\ttotal: 5.69s\tremaining: 3.43s\n",
      "624:\tlearn: 0.6320631\ttotal: 5.69s\tremaining: 3.42s\n",
      "625:\tlearn: 0.6320092\ttotal: 5.7s\tremaining: 3.41s\n",
      "626:\tlearn: 0.6319954\ttotal: 5.71s\tremaining: 3.4s\n",
      "627:\tlearn: 0.6319880\ttotal: 5.72s\tremaining: 3.39s\n",
      "628:\tlearn: 0.6319849\ttotal: 5.72s\tremaining: 3.38s\n",
      "629:\tlearn: 0.6319848\ttotal: 5.73s\tremaining: 3.37s\n",
      "630:\tlearn: 0.6319755\ttotal: 5.74s\tremaining: 3.36s\n",
      "631:\tlearn: 0.6319631\ttotal: 5.75s\tremaining: 3.35s\n",
      "632:\tlearn: 0.6319622\ttotal: 5.76s\tremaining: 3.34s\n",
      "633:\tlearn: 0.6319510\ttotal: 5.76s\tremaining: 3.33s\n",
      "634:\tlearn: 0.6319506\ttotal: 5.77s\tremaining: 3.32s\n",
      "635:\tlearn: 0.6319500\ttotal: 5.78s\tremaining: 3.31s\n",
      "636:\tlearn: 0.6319497\ttotal: 5.79s\tremaining: 3.3s\n",
      "637:\tlearn: 0.6319362\ttotal: 5.8s\tremaining: 3.29s\n",
      "638:\tlearn: 0.6319352\ttotal: 5.81s\tremaining: 3.28s\n",
      "639:\tlearn: 0.6319283\ttotal: 5.82s\tremaining: 3.27s\n",
      "640:\tlearn: 0.6319078\ttotal: 5.83s\tremaining: 3.26s\n",
      "641:\tlearn: 0.6319057\ttotal: 5.83s\tremaining: 3.25s\n",
      "642:\tlearn: 0.6318895\ttotal: 5.84s\tremaining: 3.24s\n",
      "643:\tlearn: 0.6318842\ttotal: 5.85s\tremaining: 3.23s\n",
      "644:\tlearn: 0.6318806\ttotal: 5.86s\tremaining: 3.22s\n",
      "645:\tlearn: 0.6318802\ttotal: 5.87s\tremaining: 3.21s\n",
      "646:\tlearn: 0.6318799\ttotal: 5.87s\tremaining: 3.21s\n",
      "647:\tlearn: 0.6318794\ttotal: 5.88s\tremaining: 3.19s\n",
      "648:\tlearn: 0.6318752\ttotal: 5.89s\tremaining: 3.19s\n",
      "649:\tlearn: 0.6318751\ttotal: 5.9s\tremaining: 3.17s\n",
      "650:\tlearn: 0.6318748\ttotal: 5.91s\tremaining: 3.17s\n",
      "651:\tlearn: 0.6318745\ttotal: 5.91s\tremaining: 3.16s\n",
      "652:\tlearn: 0.6318637\ttotal: 5.92s\tremaining: 3.15s\n",
      "653:\tlearn: 0.6318594\ttotal: 5.93s\tremaining: 3.14s\n",
      "654:\tlearn: 0.6318589\ttotal: 5.93s\tremaining: 3.13s\n",
      "655:\tlearn: 0.6318585\ttotal: 5.94s\tremaining: 3.12s\n",
      "656:\tlearn: 0.6318583\ttotal: 5.95s\tremaining: 3.11s\n",
      "657:\tlearn: 0.6318576\ttotal: 5.96s\tremaining: 3.1s\n",
      "658:\tlearn: 0.6318575\ttotal: 5.97s\tremaining: 3.09s\n",
      "659:\tlearn: 0.6318342\ttotal: 5.98s\tremaining: 3.08s\n",
      "660:\tlearn: 0.6318319\ttotal: 5.99s\tremaining: 3.07s\n",
      "661:\tlearn: 0.6318274\ttotal: 6s\tremaining: 3.06s\n",
      "662:\tlearn: 0.6318244\ttotal: 6.01s\tremaining: 3.05s\n",
      "663:\tlearn: 0.6318156\ttotal: 6.02s\tremaining: 3.05s\n",
      "664:\tlearn: 0.6318115\ttotal: 6.03s\tremaining: 3.04s\n",
      "665:\tlearn: 0.6317943\ttotal: 6.04s\tremaining: 3.03s\n",
      "666:\tlearn: 0.6317908\ttotal: 6.05s\tremaining: 3.02s\n",
      "667:\tlearn: 0.6317859\ttotal: 6.06s\tremaining: 3.01s\n",
      "668:\tlearn: 0.6317817\ttotal: 6.06s\tremaining: 3s\n",
      "669:\tlearn: 0.6317611\ttotal: 6.07s\tremaining: 2.99s\n",
      "670:\tlearn: 0.6317559\ttotal: 6.08s\tremaining: 2.98s\n",
      "671:\tlearn: 0.6317487\ttotal: 6.09s\tremaining: 2.97s\n",
      "672:\tlearn: 0.6317482\ttotal: 6.09s\tremaining: 2.96s\n",
      "673:\tlearn: 0.6317406\ttotal: 6.1s\tremaining: 2.95s\n",
      "674:\tlearn: 0.6317341\ttotal: 6.11s\tremaining: 2.94s\n",
      "675:\tlearn: 0.6317333\ttotal: 6.12s\tremaining: 2.93s\n",
      "676:\tlearn: 0.6317332\ttotal: 6.13s\tremaining: 2.92s\n",
      "677:\tlearn: 0.6317270\ttotal: 6.13s\tremaining: 2.91s\n",
      "678:\tlearn: 0.6317261\ttotal: 6.14s\tremaining: 2.9s\n",
      "679:\tlearn: 0.6317125\ttotal: 6.15s\tremaining: 2.9s\n",
      "680:\tlearn: 0.6316869\ttotal: 6.16s\tremaining: 2.89s\n",
      "681:\tlearn: 0.6316374\ttotal: 6.17s\tremaining: 2.88s\n"
     ]
    },
    {
     "name": "stdout",
     "output_type": "stream",
     "text": [
      "682:\tlearn: 0.6316372\ttotal: 6.18s\tremaining: 2.87s\n",
      "683:\tlearn: 0.6316354\ttotal: 6.2s\tremaining: 2.86s\n",
      "684:\tlearn: 0.6316327\ttotal: 6.2s\tremaining: 2.85s\n",
      "685:\tlearn: 0.6316276\ttotal: 6.21s\tremaining: 2.84s\n",
      "686:\tlearn: 0.6316265\ttotal: 6.22s\tremaining: 2.83s\n",
      "687:\tlearn: 0.6316233\ttotal: 6.23s\tremaining: 2.83s\n",
      "688:\tlearn: 0.6316227\ttotal: 6.24s\tremaining: 2.81s\n",
      "689:\tlearn: 0.6316165\ttotal: 6.25s\tremaining: 2.81s\n",
      "690:\tlearn: 0.6316137\ttotal: 6.25s\tremaining: 2.8s\n",
      "691:\tlearn: 0.6316104\ttotal: 6.26s\tremaining: 2.79s\n",
      "692:\tlearn: 0.6316054\ttotal: 6.27s\tremaining: 2.78s\n",
      "693:\tlearn: 0.6315886\ttotal: 6.28s\tremaining: 2.77s\n",
      "694:\tlearn: 0.6315877\ttotal: 6.29s\tremaining: 2.76s\n",
      "695:\tlearn: 0.6315815\ttotal: 6.3s\tremaining: 2.75s\n",
      "696:\tlearn: 0.6315812\ttotal: 6.3s\tremaining: 2.74s\n",
      "697:\tlearn: 0.6315809\ttotal: 6.31s\tremaining: 2.73s\n",
      "698:\tlearn: 0.6315755\ttotal: 6.32s\tremaining: 2.72s\n",
      "699:\tlearn: 0.6315500\ttotal: 6.33s\tremaining: 2.71s\n",
      "700:\tlearn: 0.6315222\ttotal: 6.34s\tremaining: 2.7s\n",
      "701:\tlearn: 0.6315198\ttotal: 6.35s\tremaining: 2.69s\n",
      "702:\tlearn: 0.6315152\ttotal: 6.36s\tremaining: 2.69s\n",
      "703:\tlearn: 0.6315098\ttotal: 6.36s\tremaining: 2.67s\n",
      "704:\tlearn: 0.6315052\ttotal: 6.37s\tremaining: 2.67s\n",
      "705:\tlearn: 0.6315026\ttotal: 6.38s\tremaining: 2.66s\n",
      "706:\tlearn: 0.6314951\ttotal: 6.39s\tremaining: 2.65s\n",
      "707:\tlearn: 0.6314669\ttotal: 6.4s\tremaining: 2.64s\n",
      "708:\tlearn: 0.6314668\ttotal: 6.41s\tremaining: 2.63s\n",
      "709:\tlearn: 0.6314655\ttotal: 6.42s\tremaining: 2.62s\n",
      "710:\tlearn: 0.6314596\ttotal: 6.43s\tremaining: 2.61s\n",
      "711:\tlearn: 0.6314562\ttotal: 6.44s\tremaining: 2.6s\n",
      "712:\tlearn: 0.6314556\ttotal: 6.45s\tremaining: 2.59s\n",
      "713:\tlearn: 0.6314553\ttotal: 6.46s\tremaining: 2.58s\n",
      "714:\tlearn: 0.6314536\ttotal: 6.46s\tremaining: 2.58s\n",
      "715:\tlearn: 0.6314520\ttotal: 6.47s\tremaining: 2.57s\n",
      "716:\tlearn: 0.6314515\ttotal: 6.48s\tremaining: 2.56s\n",
      "717:\tlearn: 0.6314478\ttotal: 6.49s\tremaining: 2.55s\n",
      "718:\tlearn: 0.6314469\ttotal: 6.5s\tremaining: 2.54s\n",
      "719:\tlearn: 0.6314468\ttotal: 6.51s\tremaining: 2.53s\n",
      "720:\tlearn: 0.6314309\ttotal: 6.52s\tremaining: 2.52s\n",
      "721:\tlearn: 0.6314173\ttotal: 6.53s\tremaining: 2.51s\n",
      "722:\tlearn: 0.6314162\ttotal: 6.54s\tremaining: 2.5s\n",
      "723:\tlearn: 0.6314100\ttotal: 6.55s\tremaining: 2.5s\n",
      "724:\tlearn: 0.6314082\ttotal: 6.55s\tremaining: 2.49s\n",
      "725:\tlearn: 0.6314059\ttotal: 6.56s\tremaining: 2.48s\n",
      "726:\tlearn: 0.6314054\ttotal: 6.57s\tremaining: 2.47s\n",
      "727:\tlearn: 0.6313998\ttotal: 6.58s\tremaining: 2.46s\n",
      "728:\tlearn: 0.6313976\ttotal: 6.6s\tremaining: 2.45s\n",
      "729:\tlearn: 0.6313959\ttotal: 6.61s\tremaining: 2.44s\n",
      "730:\tlearn: 0.6313955\ttotal: 6.62s\tremaining: 2.43s\n",
      "731:\tlearn: 0.6313706\ttotal: 6.63s\tremaining: 2.42s\n",
      "732:\tlearn: 0.6313698\ttotal: 6.63s\tremaining: 2.42s\n",
      "733:\tlearn: 0.6313677\ttotal: 6.64s\tremaining: 2.41s\n",
      "734:\tlearn: 0.6313670\ttotal: 6.65s\tremaining: 2.4s\n",
      "735:\tlearn: 0.6313615\ttotal: 6.66s\tremaining: 2.39s\n",
      "736:\tlearn: 0.6313613\ttotal: 6.67s\tremaining: 2.38s\n",
      "737:\tlearn: 0.6313592\ttotal: 6.68s\tremaining: 2.37s\n",
      "738:\tlearn: 0.6313448\ttotal: 6.69s\tremaining: 2.36s\n",
      "739:\tlearn: 0.6313444\ttotal: 6.7s\tremaining: 2.35s\n",
      "740:\tlearn: 0.6313361\ttotal: 6.71s\tremaining: 2.34s\n",
      "741:\tlearn: 0.6313281\ttotal: 6.72s\tremaining: 2.33s\n",
      "742:\tlearn: 0.6313169\ttotal: 6.72s\tremaining: 2.33s\n",
      "743:\tlearn: 0.6313166\ttotal: 6.73s\tremaining: 2.32s\n",
      "744:\tlearn: 0.6313161\ttotal: 6.74s\tremaining: 2.31s\n",
      "745:\tlearn: 0.6313110\ttotal: 6.75s\tremaining: 2.3s\n",
      "746:\tlearn: 0.6313058\ttotal: 6.76s\tremaining: 2.29s\n",
      "747:\tlearn: 0.6312922\ttotal: 6.77s\tremaining: 2.28s\n",
      "748:\tlearn: 0.6312900\ttotal: 6.78s\tremaining: 2.27s\n",
      "749:\tlearn: 0.6312897\ttotal: 6.79s\tremaining: 2.26s\n",
      "750:\tlearn: 0.6312720\ttotal: 6.8s\tremaining: 2.25s\n",
      "751:\tlearn: 0.6312718\ttotal: 6.81s\tremaining: 2.25s\n",
      "752:\tlearn: 0.6312649\ttotal: 6.82s\tremaining: 2.24s\n",
      "753:\tlearn: 0.6312552\ttotal: 6.83s\tremaining: 2.23s\n",
      "754:\tlearn: 0.6312440\ttotal: 6.83s\tremaining: 2.22s\n",
      "755:\tlearn: 0.6312436\ttotal: 6.84s\tremaining: 2.21s\n",
      "756:\tlearn: 0.6312224\ttotal: 6.85s\tremaining: 2.2s\n",
      "757:\tlearn: 0.6312210\ttotal: 6.86s\tremaining: 2.19s\n",
      "758:\tlearn: 0.6312140\ttotal: 6.87s\tremaining: 2.18s\n",
      "759:\tlearn: 0.6312085\ttotal: 6.88s\tremaining: 2.17s\n",
      "760:\tlearn: 0.6312012\ttotal: 6.88s\tremaining: 2.16s\n",
      "761:\tlearn: 0.6311808\ttotal: 6.89s\tremaining: 2.15s\n",
      "762:\tlearn: 0.6311801\ttotal: 6.9s\tremaining: 2.14s\n",
      "763:\tlearn: 0.6311659\ttotal: 6.91s\tremaining: 2.13s\n",
      "764:\tlearn: 0.6311655\ttotal: 6.92s\tremaining: 2.12s\n",
      "765:\tlearn: 0.6311655\ttotal: 6.92s\tremaining: 2.12s\n",
      "766:\tlearn: 0.6311554\ttotal: 6.93s\tremaining: 2.11s\n",
      "767:\tlearn: 0.6311370\ttotal: 6.94s\tremaining: 2.1s\n",
      "768:\tlearn: 0.6311253\ttotal: 6.95s\tremaining: 2.09s\n",
      "769:\tlearn: 0.6311231\ttotal: 6.96s\tremaining: 2.08s\n",
      "770:\tlearn: 0.6311115\ttotal: 6.97s\tremaining: 2.07s\n",
      "771:\tlearn: 0.6311029\ttotal: 6.98s\tremaining: 2.06s\n",
      "772:\tlearn: 0.6311010\ttotal: 6.99s\tremaining: 2.05s\n",
      "773:\tlearn: 0.6310918\ttotal: 6.99s\tremaining: 2.04s\n",
      "774:\tlearn: 0.6310786\ttotal: 7s\tremaining: 2.03s\n",
      "775:\tlearn: 0.6310779\ttotal: 7.01s\tremaining: 2.02s\n",
      "776:\tlearn: 0.6310728\ttotal: 7.02s\tremaining: 2.02s\n",
      "777:\tlearn: 0.6310723\ttotal: 7.03s\tremaining: 2.01s\n",
      "778:\tlearn: 0.6310637\ttotal: 7.04s\tremaining: 2s\n",
      "779:\tlearn: 0.6310359\ttotal: 7.05s\tremaining: 1.99s\n",
      "780:\tlearn: 0.6310359\ttotal: 7.06s\tremaining: 1.98s\n",
      "781:\tlearn: 0.6310242\ttotal: 7.07s\tremaining: 1.97s\n",
      "782:\tlearn: 0.6310241\ttotal: 7.08s\tremaining: 1.96s\n",
      "783:\tlearn: 0.6310088\ttotal: 7.09s\tremaining: 1.95s\n",
      "784:\tlearn: 0.6309936\ttotal: 7.1s\tremaining: 1.94s\n",
      "785:\tlearn: 0.6309930\ttotal: 7.11s\tremaining: 1.93s\n",
      "786:\tlearn: 0.6309930\ttotal: 7.11s\tremaining: 1.93s\n",
      "787:\tlearn: 0.6309925\ttotal: 7.12s\tremaining: 1.92s\n",
      "788:\tlearn: 0.6309788\ttotal: 7.14s\tremaining: 1.91s\n",
      "789:\tlearn: 0.6309783\ttotal: 7.15s\tremaining: 1.9s\n",
      "790:\tlearn: 0.6309685\ttotal: 7.16s\tremaining: 1.89s\n",
      "791:\tlearn: 0.6309615\ttotal: 7.17s\tremaining: 1.88s\n",
      "792:\tlearn: 0.6309572\ttotal: 7.19s\tremaining: 1.88s\n",
      "793:\tlearn: 0.6309568\ttotal: 7.2s\tremaining: 1.87s\n",
      "794:\tlearn: 0.6309522\ttotal: 7.21s\tremaining: 1.86s\n",
      "795:\tlearn: 0.6309457\ttotal: 7.22s\tremaining: 1.85s\n",
      "796:\tlearn: 0.6309407\ttotal: 7.24s\tremaining: 1.84s\n",
      "797:\tlearn: 0.6309406\ttotal: 7.25s\tremaining: 1.83s\n",
      "798:\tlearn: 0.6309302\ttotal: 7.26s\tremaining: 1.83s\n",
      "799:\tlearn: 0.6309300\ttotal: 7.28s\tremaining: 1.82s\n",
      "800:\tlearn: 0.6309295\ttotal: 7.29s\tremaining: 1.81s\n",
      "801:\tlearn: 0.6309293\ttotal: 7.3s\tremaining: 1.8s\n",
      "802:\tlearn: 0.6309140\ttotal: 7.32s\tremaining: 1.79s\n",
      "803:\tlearn: 0.6309061\ttotal: 7.33s\tremaining: 1.79s\n",
      "804:\tlearn: 0.6309058\ttotal: 7.34s\tremaining: 1.78s\n",
      "805:\tlearn: 0.6309058\ttotal: 7.35s\tremaining: 1.77s\n",
      "806:\tlearn: 0.6309055\ttotal: 7.37s\tremaining: 1.76s\n",
      "807:\tlearn: 0.6308962\ttotal: 7.37s\tremaining: 1.75s\n",
      "808:\tlearn: 0.6308801\ttotal: 7.38s\tremaining: 1.74s\n",
      "809:\tlearn: 0.6308798\ttotal: 7.39s\tremaining: 1.73s\n",
      "810:\tlearn: 0.6308701\ttotal: 7.41s\tremaining: 1.73s\n",
      "811:\tlearn: 0.6308686\ttotal: 7.42s\tremaining: 1.72s\n",
      "812:\tlearn: 0.6308682\ttotal: 7.42s\tremaining: 1.71s\n",
      "813:\tlearn: 0.6308408\ttotal: 7.44s\tremaining: 1.7s\n",
      "814:\tlearn: 0.6308402\ttotal: 7.45s\tremaining: 1.69s\n",
      "815:\tlearn: 0.6308371\ttotal: 7.46s\tremaining: 1.68s\n",
      "816:\tlearn: 0.6308325\ttotal: 7.47s\tremaining: 1.67s\n",
      "817:\tlearn: 0.6308324\ttotal: 7.48s\tremaining: 1.66s\n",
      "818:\tlearn: 0.6308293\ttotal: 7.49s\tremaining: 1.65s\n",
      "819:\tlearn: 0.6308293\ttotal: 7.49s\tremaining: 1.65s\n",
      "820:\tlearn: 0.6308293\ttotal: 7.5s\tremaining: 1.64s\n",
      "821:\tlearn: 0.6308167\ttotal: 7.51s\tremaining: 1.63s\n",
      "822:\tlearn: 0.6308163\ttotal: 7.52s\tremaining: 1.62s\n",
      "823:\tlearn: 0.6308109\ttotal: 7.53s\tremaining: 1.61s\n",
      "824:\tlearn: 0.6308030\ttotal: 7.54s\tremaining: 1.6s\n",
      "825:\tlearn: 0.6307943\ttotal: 7.55s\tremaining: 1.59s\n",
      "826:\tlearn: 0.6307940\ttotal: 7.56s\tremaining: 1.58s\n",
      "827:\tlearn: 0.6307927\ttotal: 7.57s\tremaining: 1.57s\n",
      "828:\tlearn: 0.6307797\ttotal: 7.58s\tremaining: 1.56s\n",
      "829:\tlearn: 0.6307789\ttotal: 7.58s\tremaining: 1.55s\n",
      "830:\tlearn: 0.6307785\ttotal: 7.59s\tremaining: 1.54s\n",
      "831:\tlearn: 0.6307732\ttotal: 7.6s\tremaining: 1.53s\n",
      "832:\tlearn: 0.6307692\ttotal: 7.62s\tremaining: 1.53s\n",
      "833:\tlearn: 0.6307676\ttotal: 7.63s\tremaining: 1.52s\n",
      "834:\tlearn: 0.6307625\ttotal: 7.64s\tremaining: 1.51s\n",
      "835:\tlearn: 0.6307625\ttotal: 7.64s\tremaining: 1.5s\n",
      "836:\tlearn: 0.6307508\ttotal: 7.66s\tremaining: 1.49s\n",
      "837:\tlearn: 0.6307041\ttotal: 7.67s\tremaining: 1.48s\n",
      "838:\tlearn: 0.6306818\ttotal: 7.68s\tremaining: 1.47s\n",
      "839:\tlearn: 0.6306802\ttotal: 7.69s\tremaining: 1.47s\n",
      "840:\tlearn: 0.6306778\ttotal: 7.7s\tremaining: 1.46s\n",
      "841:\tlearn: 0.6306740\ttotal: 7.71s\tremaining: 1.45s\n",
      "842:\tlearn: 0.6306676\ttotal: 7.72s\tremaining: 1.44s\n",
      "843:\tlearn: 0.6306674\ttotal: 7.73s\tremaining: 1.43s\n",
      "844:\tlearn: 0.6306637\ttotal: 7.74s\tremaining: 1.42s\n",
      "845:\tlearn: 0.6306613\ttotal: 7.75s\tremaining: 1.41s\n",
      "846:\tlearn: 0.6306531\ttotal: 7.76s\tremaining: 1.4s\n",
      "847:\tlearn: 0.6306500\ttotal: 7.77s\tremaining: 1.39s\n",
      "848:\tlearn: 0.6306436\ttotal: 7.78s\tremaining: 1.38s\n",
      "849:\tlearn: 0.6306366\ttotal: 7.79s\tremaining: 1.37s\n",
      "850:\tlearn: 0.6306348\ttotal: 7.79s\tremaining: 1.36s\n",
      "851:\tlearn: 0.6306344\ttotal: 7.8s\tremaining: 1.35s\n"
     ]
    },
    {
     "name": "stdout",
     "output_type": "stream",
     "text": [
      "852:\tlearn: 0.6306343\ttotal: 7.82s\tremaining: 1.35s\n",
      "853:\tlearn: 0.6306246\ttotal: 7.83s\tremaining: 1.34s\n",
      "854:\tlearn: 0.6306242\ttotal: 7.84s\tremaining: 1.33s\n",
      "855:\tlearn: 0.6306242\ttotal: 7.85s\tremaining: 1.32s\n",
      "856:\tlearn: 0.6306241\ttotal: 7.86s\tremaining: 1.31s\n",
      "857:\tlearn: 0.6306239\ttotal: 7.87s\tremaining: 1.3s\n",
      "858:\tlearn: 0.6306237\ttotal: 7.88s\tremaining: 1.29s\n",
      "859:\tlearn: 0.6306235\ttotal: 7.88s\tremaining: 1.28s\n",
      "860:\tlearn: 0.6306173\ttotal: 7.89s\tremaining: 1.27s\n",
      "861:\tlearn: 0.6306160\ttotal: 7.9s\tremaining: 1.26s\n",
      "862:\tlearn: 0.6306073\ttotal: 7.91s\tremaining: 1.25s\n",
      "863:\tlearn: 0.6306071\ttotal: 7.92s\tremaining: 1.25s\n",
      "864:\tlearn: 0.6305777\ttotal: 7.93s\tremaining: 1.24s\n",
      "865:\tlearn: 0.6305775\ttotal: 7.93s\tremaining: 1.23s\n",
      "866:\tlearn: 0.6305775\ttotal: 7.94s\tremaining: 1.22s\n",
      "867:\tlearn: 0.6305772\ttotal: 7.95s\tremaining: 1.21s\n",
      "868:\tlearn: 0.6305771\ttotal: 7.95s\tremaining: 1.2s\n",
      "869:\tlearn: 0.6305719\ttotal: 7.96s\tremaining: 1.19s\n",
      "870:\tlearn: 0.6305670\ttotal: 7.97s\tremaining: 1.18s\n",
      "871:\tlearn: 0.6305483\ttotal: 7.98s\tremaining: 1.17s\n",
      "872:\tlearn: 0.6305427\ttotal: 7.99s\tremaining: 1.16s\n",
      "873:\tlearn: 0.6305226\ttotal: 7.99s\tremaining: 1.15s\n",
      "874:\tlearn: 0.6305097\ttotal: 8s\tremaining: 1.14s\n",
      "875:\tlearn: 0.6305068\ttotal: 8.01s\tremaining: 1.13s\n",
      "876:\tlearn: 0.6305068\ttotal: 8.02s\tremaining: 1.12s\n",
      "877:\tlearn: 0.6305021\ttotal: 8.03s\tremaining: 1.11s\n",
      "878:\tlearn: 0.6304951\ttotal: 8.04s\tremaining: 1.11s\n",
      "879:\tlearn: 0.6304652\ttotal: 8.04s\tremaining: 1.1s\n",
      "880:\tlearn: 0.6304401\ttotal: 8.05s\tremaining: 1.09s\n",
      "881:\tlearn: 0.6304397\ttotal: 8.06s\tremaining: 1.08s\n",
      "882:\tlearn: 0.6304275\ttotal: 8.07s\tremaining: 1.07s\n",
      "883:\tlearn: 0.6304126\ttotal: 8.08s\tremaining: 1.06s\n",
      "884:\tlearn: 0.6304076\ttotal: 8.09s\tremaining: 1.05s\n",
      "885:\tlearn: 0.6304072\ttotal: 8.09s\tremaining: 1.04s\n",
      "886:\tlearn: 0.6304068\ttotal: 8.1s\tremaining: 1.03s\n",
      "887:\tlearn: 0.6304065\ttotal: 8.11s\tremaining: 1.02s\n",
      "888:\tlearn: 0.6303931\ttotal: 8.12s\tremaining: 1.01s\n",
      "889:\tlearn: 0.6303927\ttotal: 8.13s\tremaining: 1s\n",
      "890:\tlearn: 0.6303922\ttotal: 8.14s\tremaining: 996ms\n",
      "891:\tlearn: 0.6303866\ttotal: 8.15s\tremaining: 987ms\n",
      "892:\tlearn: 0.6303775\ttotal: 8.16s\tremaining: 977ms\n",
      "893:\tlearn: 0.6303775\ttotal: 8.16s\tremaining: 968ms\n",
      "894:\tlearn: 0.6303761\ttotal: 8.17s\tremaining: 959ms\n",
      "895:\tlearn: 0.6303759\ttotal: 8.18s\tremaining: 950ms\n",
      "896:\tlearn: 0.6303683\ttotal: 8.19s\tremaining: 941ms\n",
      "897:\tlearn: 0.6303523\ttotal: 8.2s\tremaining: 932ms\n",
      "898:\tlearn: 0.6303482\ttotal: 8.21s\tremaining: 922ms\n",
      "899:\tlearn: 0.6303444\ttotal: 8.22s\tremaining: 914ms\n",
      "900:\tlearn: 0.6303393\ttotal: 8.23s\tremaining: 904ms\n",
      "901:\tlearn: 0.6303393\ttotal: 8.23s\tremaining: 895ms\n",
      "902:\tlearn: 0.6303350\ttotal: 8.24s\tremaining: 886ms\n",
      "903:\tlearn: 0.6303342\ttotal: 8.25s\tremaining: 876ms\n",
      "904:\tlearn: 0.6303334\ttotal: 8.26s\tremaining: 867ms\n",
      "905:\tlearn: 0.6303292\ttotal: 8.27s\tremaining: 858ms\n",
      "906:\tlearn: 0.6303290\ttotal: 8.28s\tremaining: 849ms\n",
      "907:\tlearn: 0.6303288\ttotal: 8.29s\tremaining: 840ms\n",
      "908:\tlearn: 0.6303129\ttotal: 8.29s\tremaining: 830ms\n",
      "909:\tlearn: 0.6303122\ttotal: 8.3s\tremaining: 821ms\n",
      "910:\tlearn: 0.6303046\ttotal: 8.31s\tremaining: 812ms\n",
      "911:\tlearn: 0.6302998\ttotal: 8.32s\tremaining: 803ms\n",
      "912:\tlearn: 0.6302997\ttotal: 8.33s\tremaining: 794ms\n",
      "913:\tlearn: 0.6302988\ttotal: 8.34s\tremaining: 785ms\n",
      "914:\tlearn: 0.6302986\ttotal: 8.35s\tremaining: 776ms\n",
      "915:\tlearn: 0.6302960\ttotal: 8.36s\tremaining: 766ms\n",
      "916:\tlearn: 0.6302956\ttotal: 8.37s\tremaining: 757ms\n",
      "917:\tlearn: 0.6302824\ttotal: 8.37s\tremaining: 748ms\n",
      "918:\tlearn: 0.6302729\ttotal: 8.38s\tremaining: 739ms\n",
      "919:\tlearn: 0.6302718\ttotal: 8.39s\tremaining: 729ms\n",
      "920:\tlearn: 0.6302683\ttotal: 8.4s\tremaining: 720ms\n",
      "921:\tlearn: 0.6302588\ttotal: 8.4s\tremaining: 711ms\n",
      "922:\tlearn: 0.6302585\ttotal: 8.41s\tremaining: 702ms\n",
      "923:\tlearn: 0.6302581\ttotal: 8.42s\tremaining: 693ms\n",
      "924:\tlearn: 0.6302579\ttotal: 8.44s\tremaining: 684ms\n",
      "925:\tlearn: 0.6302577\ttotal: 8.44s\tremaining: 675ms\n",
      "926:\tlearn: 0.6302577\ttotal: 8.45s\tremaining: 666ms\n",
      "927:\tlearn: 0.6302482\ttotal: 8.46s\tremaining: 656ms\n",
      "928:\tlearn: 0.6302481\ttotal: 8.47s\tremaining: 647ms\n",
      "929:\tlearn: 0.6302436\ttotal: 8.47s\tremaining: 638ms\n",
      "930:\tlearn: 0.6302361\ttotal: 8.48s\tremaining: 629ms\n",
      "931:\tlearn: 0.6302164\ttotal: 8.49s\tremaining: 619ms\n",
      "932:\tlearn: 0.6302159\ttotal: 8.5s\tremaining: 610ms\n",
      "933:\tlearn: 0.6302159\ttotal: 8.51s\tremaining: 601ms\n",
      "934:\tlearn: 0.6302157\ttotal: 8.52s\tremaining: 592ms\n",
      "935:\tlearn: 0.6302103\ttotal: 8.52s\tremaining: 583ms\n",
      "936:\tlearn: 0.6302099\ttotal: 8.53s\tremaining: 574ms\n",
      "937:\tlearn: 0.6302093\ttotal: 8.54s\tremaining: 565ms\n",
      "938:\tlearn: 0.6302070\ttotal: 8.55s\tremaining: 555ms\n",
      "939:\tlearn: 0.6301846\ttotal: 8.56s\tremaining: 546ms\n",
      "940:\tlearn: 0.6301776\ttotal: 8.57s\tremaining: 537ms\n",
      "941:\tlearn: 0.6301728\ttotal: 8.57s\tremaining: 528ms\n",
      "942:\tlearn: 0.6301723\ttotal: 8.58s\tremaining: 519ms\n",
      "943:\tlearn: 0.6301695\ttotal: 8.59s\tremaining: 510ms\n",
      "944:\tlearn: 0.6301692\ttotal: 8.6s\tremaining: 500ms\n",
      "945:\tlearn: 0.6301691\ttotal: 8.61s\tremaining: 491ms\n",
      "946:\tlearn: 0.6301688\ttotal: 8.62s\tremaining: 482ms\n",
      "947:\tlearn: 0.6301677\ttotal: 8.62s\tremaining: 473ms\n",
      "948:\tlearn: 0.6301535\ttotal: 8.64s\tremaining: 464ms\n",
      "949:\tlearn: 0.6301528\ttotal: 8.65s\tremaining: 455ms\n",
      "950:\tlearn: 0.6301526\ttotal: 8.66s\tremaining: 446ms\n",
      "951:\tlearn: 0.6301525\ttotal: 8.67s\tremaining: 437ms\n",
      "952:\tlearn: 0.6301522\ttotal: 8.67s\tremaining: 428ms\n",
      "953:\tlearn: 0.6301521\ttotal: 8.69s\tremaining: 419ms\n",
      "954:\tlearn: 0.6301450\ttotal: 8.69s\tremaining: 410ms\n",
      "955:\tlearn: 0.6301441\ttotal: 8.7s\tremaining: 400ms\n",
      "956:\tlearn: 0.6301438\ttotal: 8.71s\tremaining: 391ms\n",
      "957:\tlearn: 0.6301435\ttotal: 8.72s\tremaining: 382ms\n",
      "958:\tlearn: 0.6301174\ttotal: 8.72s\tremaining: 373ms\n",
      "959:\tlearn: 0.6301087\ttotal: 8.73s\tremaining: 364ms\n",
      "960:\tlearn: 0.6301081\ttotal: 8.74s\tremaining: 355ms\n",
      "961:\tlearn: 0.6301078\ttotal: 8.75s\tremaining: 346ms\n",
      "962:\tlearn: 0.6301034\ttotal: 8.76s\tremaining: 336ms\n",
      "963:\tlearn: 0.6300849\ttotal: 8.76s\tremaining: 327ms\n",
      "964:\tlearn: 0.6300515\ttotal: 8.77s\tremaining: 318ms\n",
      "965:\tlearn: 0.6300470\ttotal: 8.78s\tremaining: 309ms\n",
      "966:\tlearn: 0.6300285\ttotal: 8.79s\tremaining: 300ms\n",
      "967:\tlearn: 0.6300283\ttotal: 8.8s\tremaining: 291ms\n",
      "968:\tlearn: 0.6300280\ttotal: 8.8s\tremaining: 282ms\n",
      "969:\tlearn: 0.6300272\ttotal: 8.81s\tremaining: 273ms\n",
      "970:\tlearn: 0.6300247\ttotal: 8.82s\tremaining: 263ms\n",
      "971:\tlearn: 0.6300225\ttotal: 8.83s\tremaining: 254ms\n",
      "972:\tlearn: 0.6300175\ttotal: 8.84s\tremaining: 245ms\n",
      "973:\tlearn: 0.6300173\ttotal: 8.85s\tremaining: 236ms\n",
      "974:\tlearn: 0.6300170\ttotal: 8.86s\tremaining: 227ms\n",
      "975:\tlearn: 0.6300168\ttotal: 8.87s\tremaining: 218ms\n",
      "976:\tlearn: 0.6300097\ttotal: 8.88s\tremaining: 209ms\n",
      "977:\tlearn: 0.6299983\ttotal: 8.89s\tremaining: 200ms\n",
      "978:\tlearn: 0.6299982\ttotal: 8.89s\tremaining: 191ms\n",
      "979:\tlearn: 0.6299981\ttotal: 8.9s\tremaining: 182ms\n",
      "980:\tlearn: 0.6299896\ttotal: 8.91s\tremaining: 173ms\n",
      "981:\tlearn: 0.6299878\ttotal: 8.92s\tremaining: 164ms\n",
      "982:\tlearn: 0.6299778\ttotal: 8.93s\tremaining: 154ms\n",
      "983:\tlearn: 0.6299765\ttotal: 8.94s\tremaining: 145ms\n",
      "984:\tlearn: 0.6299758\ttotal: 8.95s\tremaining: 136ms\n",
      "985:\tlearn: 0.6299752\ttotal: 8.95s\tremaining: 127ms\n",
      "986:\tlearn: 0.6299746\ttotal: 8.96s\tremaining: 118ms\n",
      "987:\tlearn: 0.6299710\ttotal: 8.97s\tremaining: 109ms\n",
      "988:\tlearn: 0.6299668\ttotal: 8.98s\tremaining: 99.9ms\n",
      "989:\tlearn: 0.6299536\ttotal: 8.98s\tremaining: 90.8ms\n",
      "990:\tlearn: 0.6299533\ttotal: 8.99s\tremaining: 81.7ms\n",
      "991:\tlearn: 0.6299298\ttotal: 9s\tremaining: 72.6ms\n",
      "992:\tlearn: 0.6299294\ttotal: 9.01s\tremaining: 63.5ms\n",
      "993:\tlearn: 0.6299291\ttotal: 9.02s\tremaining: 54.4ms\n",
      "994:\tlearn: 0.6299119\ttotal: 9.03s\tremaining: 45.4ms\n",
      "995:\tlearn: 0.6299106\ttotal: 9.04s\tremaining: 36.3ms\n",
      "996:\tlearn: 0.6298943\ttotal: 9.05s\tremaining: 27.2ms\n",
      "997:\tlearn: 0.6298943\ttotal: 9.05s\tremaining: 18.1ms\n",
      "998:\tlearn: 0.6298917\ttotal: 9.06s\tremaining: 9.07ms\n",
      "999:\tlearn: 0.6298916\ttotal: 9.07s\tremaining: 0us\n"
     ]
    },
    {
     "data": {
      "text/plain": [
       "<catboost.core.CatBoostClassifier at 0x7f3901094cc0>"
      ]
     },
     "execution_count": 7,
     "metadata": {},
     "output_type": "execute_result"
    }
   ],
   "source": [
    "model.fit(train_x, train_y)"
   ]
  },
  {
   "cell_type": "code",
   "execution_count": 8,
   "metadata": {},
   "outputs": [],
   "source": [
    "train_x = np.concatenate([\n",
    "    np.reshape(np.argmax(predictions_test, axis=1), [-1, 1]),\n",
    "    predictions_test\n",
    "], axis=1)"
   ]
  },
  {
   "cell_type": "code",
   "execution_count": 9,
   "metadata": {},
   "outputs": [
    {
     "data": {
      "text/plain": [
       "(142298, 12)"
      ]
     },
     "execution_count": 9,
     "metadata": {},
     "output_type": "execute_result"
    }
   ],
   "source": [
    "np.shape(train_x)"
   ]
  },
  {
   "cell_type": "code",
   "execution_count": 10,
   "metadata": {},
   "outputs": [],
   "source": [
    "good_or_not = model.predict(train_x)"
   ]
  },
  {
   "cell_type": "code",
   "execution_count": null,
   "metadata": {},
   "outputs": [],
   "source": []
  },
  {
   "cell_type": "code",
   "execution_count": null,
   "metadata": {},
   "outputs": [],
   "source": []
  },
  {
   "cell_type": "code",
   "execution_count": null,
   "metadata": {},
   "outputs": [],
   "source": []
  },
  {
   "cell_type": "code",
   "execution_count": null,
   "metadata": {},
   "outputs": [],
   "source": []
  },
  {
   "cell_type": "code",
   "execution_count": 12,
   "metadata": {},
   "outputs": [
    {
     "data": {
      "text/plain": [
       "Counter({1.0: 81199, 0.0: 61099})"
      ]
     },
     "execution_count": 12,
     "metadata": {},
     "output_type": "execute_result"
    }
   ],
   "source": [
    "Counter(good_or_not)"
   ]
  },
  {
   "cell_type": "code",
   "execution_count": 99,
   "metadata": {},
   "outputs": [
    {
     "name": "stdout",
     "output_type": "stream",
     "text": [
      " 0.6154031368205778 Counter({4: 90548, 3: 26658, 0: 9885, 1: 8760, 2: 6447})\n"
     ]
    }
   ],
   "source": [
    "answer = np.argmax(predictions_test, axis=1)\n",
    "metric = calculate_metric(\n",
    "    answer, positions_test, targets_test, probas_test\n",
    ")\n",
    "print('', metric, Counter(answer))"
   ]
  },
  {
   "cell_type": "code",
   "execution_count": 100,
   "metadata": {},
   "outputs": [
    {
     "name": "stdout",
     "output_type": "stream",
     "text": [
      " 0.6158219781832751 Counter({4: 113037, 3: 16882, 0: 6679, 1: 2939, 2: 2761})\n"
     ]
    }
   ],
   "source": [
    "answer = np.argmax(predictions_test, axis=1)\n",
    "answer[good_or_not == 0] = 4\n",
    "metric = calculate_metric(\n",
    "    answer, positions_test, targets_test, probas_test\n",
    ")\n",
    "print('', metric, Counter(answer))"
   ]
  },
  {
   "cell_type": "code",
   "execution_count": 101,
   "metadata": {},
   "outputs": [
    {
     "name": "stdout",
     "output_type": "stream",
     "text": [
      " 0.6241945859456727 Counter({4: 119809, 3: 9776, 1: 5821, 2: 3686, 0: 3206})\n"
     ]
    }
   ],
   "source": [
    "answer = np.argmax(predictions_test, axis=1)\n",
    "answer[good_or_not == 1] = 4\n",
    "metric = calculate_metric(\n",
    "    answer, positions_test, targets_test, probas_test\n",
    ")\n",
    "print('', metric, Counter(answer))"
   ]
  },
  {
   "cell_type": "code",
   "execution_count": 102,
   "metadata": {},
   "outputs": [
    {
     "name": "stdout",
     "output_type": "stream",
     "text": [
      " 0.624639716207228\n"
     ]
    }
   ],
   "source": [
    "answer = np.argmax(predictions_test, axis=1)\n",
    "answer[good_or_not == 0] = 4\n",
    "metric = calculate_metric(\n",
    "    [4] * len(positions_test), positions_test, targets_test, probas_test\n",
    ")\n",
    "print('', metric)"
   ]
  },
  {
   "cell_type": "code",
   "execution_count": null,
   "metadata": {},
   "outputs": [],
   "source": []
  },
  {
   "cell_type": "code",
   "execution_count": null,
   "metadata": {},
   "outputs": [],
   "source": []
  },
  {
   "cell_type": "code",
   "execution_count": null,
   "metadata": {},
   "outputs": [],
   "source": []
  },
  {
   "cell_type": "code",
   "execution_count": 112,
   "metadata": {},
   "outputs": [
    {
     "data": {
      "text/plain": [
       "array([1, 0, 1, ..., 1, 0, 1])"
      ]
     },
     "execution_count": 112,
     "metadata": {},
     "output_type": "execute_result"
    }
   ],
   "source": [
    "train_y"
   ]
  },
  {
   "cell_type": "code",
   "execution_count": 115,
   "metadata": {},
   "outputs": [
    {
     "data": {
      "text/plain": [
       "array([1, 0, 1, ..., 1, 0, 1])"
      ]
     },
     "execution_count": 115,
     "metadata": {},
     "output_type": "execute_result"
    }
   ],
   "source": [
    "targets_train[np.argmax(predictions_train, axis=1) == positions_train]"
   ]
  },
  {
   "cell_type": "code",
   "execution_count": 135,
   "metadata": {},
   "outputs": [
    {
     "data": {
      "text/plain": [
       "(array([3.        , 1.26969532, 1.27190446, 1.27224093, 1.27240333,\n",
       "        1.27071802, 1.27071802, 1.27071802, 1.27071802, 1.27071802,\n",
       "        1.27071802, 1.27071802]), 1)"
      ]
     },
     "execution_count": 135,
     "metadata": {},
     "output_type": "execute_result"
    }
   ],
   "source": [
    "train_x[9], train_y[9]"
   ]
  },
  {
   "cell_type": "code",
   "execution_count": 127,
   "metadata": {},
   "outputs": [
    {
     "data": {
      "text/plain": [
       "array([[0.76559818, 0.23440182]])"
      ]
     },
     "execution_count": 127,
     "metadata": {},
     "output_type": "execute_result"
    }
   ],
   "source": [
    "model.predict_proba(train_x[6:7])"
   ]
  },
  {
   "cell_type": "code",
   "execution_count": 128,
   "metadata": {},
   "outputs": [],
   "source": [
    "from matplotlib import pyplot as plt\n",
    "%matplotlib inline"
   ]
  },
  {
   "cell_type": "code",
   "execution_count": 137,
   "metadata": {},
   "outputs": [
    {
     "name": "stdout",
     "output_type": "stream",
     "text": [
      " 1.0\n"
     ]
    },
    {
     "data": {
      "image/png": "[encoded data removed]",
      "text/plain": [
       "<Figure size 432x288 with 1 Axes>"
      ]
     },
     "metadata": {},
     "output_type": "display_data"
    },
    {
     "name": "stdout",
     "output_type": "stream",
     "text": [
      " 0.0\n"
     ]
    },
    {
     "data": {
      "image/png": "[encoded data removed]",
      "text/plain": [
       "<Figure size 432x288 with 1 Axes>"
      ]
     },
     "metadata": {},
     "output_type": "display_data"
    },
    {
     "name": "stdout",
     "output_type": "stream",
     "text": [
      " 0.0\n"
     ]
    },
    {
     "data": {
      "image/png": "[encoded data removed]",
      "text/plain": [
       "<Figure size 432x288 with 1 Axes>"
      ]
     },
     "metadata": {},
     "output_type": "display_data"
    },
    {
     "name": "stdout",
     "output_type": "stream",
     "text": [
      " 0.0\n"
     ]
    },
    {
     "data": {
      "image/png": "[encoded data removed]",
      "text/plain": [
       "<Figure size 432x288 with 1 Axes>"
      ]
     },
     "metadata": {},
     "output_type": "display_data"
    },
    {
     "name": "stdout",
     "output_type": "stream",
     "text": [
      " 1.0\n"
     ]
    },
    {
     "data": {
      "image/png": "[encoded data removed]",
      "text/plain": [
       "<Figure size 432x288 with 1 Axes>"
      ]
     },
     "metadata": {},
     "output_type": "display_data"
    },
    {
     "name": "stdout",
     "output_type": "stream",
     "text": [
      " 1.0\n"
     ]
    },
    {
     "data": {
      "image/png": "[encoded data removed]",
      "text/plain": [
       "<Figure size 432x288 with 1 Axes>"
      ]
     },
     "metadata": {},
     "output_type": "display_data"
    },
    {
     "name": "stdout",
     "output_type": "stream",
     "text": [
      " 0.0\n"
     ]
    },
    {
     "data": {
      "image/png": "[encoded data removed]",
      "text/plain": [
       "<Figure size 432x288 with 1 Axes>"
      ]
     },
     "metadata": {},
     "output_type": "display_data"
    },
    {
     "name": "stdout",
     "output_type": "stream",
     "text": [
      " 1.0\n"
     ]
    },
    {
     "data": {
      "image/png": "[encoded data removed]",
      "text/plain": [
       "<Figure size 432x288 with 1 Axes>"
      ]
     },
     "metadata": {},
     "output_type": "display_data"
    },
    {
     "name": "stdout",
     "output_type": "stream",
     "text": [
      " 0.0\n"
     ]
    },
    {
     "data": {
      "image/png": "[encoded data removed]",
      "text/plain": [
       "<Figure size 432x288 with 1 Axes>"
      ]
     },
     "metadata": {},
     "output_type": "display_data"
    },
    {
     "name": "stdout",
     "output_type": "stream",
     "text": [
      " 1.0\n"
     ]
    },
    {
     "data": {
      "image/png": "[encoded data removed]",
      "text/plain": [
       "<Figure size 432x288 with 1 Axes>"
      ]
     },
     "metadata": {},
     "output_type": "display_data"
    }
   ],
   "source": [
    "for i in range(10):\n",
    "    print('',model.predict([train_x[i]])[0])\n",
    "    plt.plot(train_x[i, 1:])\n",
    "    plt.show()"
   ]
  },
  {
   "cell_type": "code",
   "execution_count": null,
   "metadata": {},
   "outputs": [],
   "source": []
  },
  {
   "cell_type": "code",
   "execution_count": 66,
   "metadata": {},
   "outputs": [
    {
     "data": {
      "text/plain": [
       "81199"
      ]
     },
     "execution_count": 66,
     "metadata": {},
     "output_type": "execute_result"
    }
   ],
   "source": [
    "len(answer[good_or_not == 1])"
   ]
  },
  {
   "cell_type": "code",
   "execution_count": 67,
   "metadata": {},
   "outputs": [
    {
     "data": {
      "text/plain": [
       "61099"
      ]
     },
     "execution_count": 67,
     "metadata": {},
     "output_type": "execute_result"
    }
   ],
   "source": [
    "len(answer[good_or_not != 1])"
   ]
  },
  {
   "cell_type": "code",
   "execution_count": 68,
   "metadata": {},
   "outputs": [
    {
     "data": {
      "text/plain": [
       "Counter({4: 38610, 2: 3686, 1: 5821, 3: 9776, 0: 3206})"
      ]
     },
     "execution_count": 68,
     "metadata": {},
     "output_type": "execute_result"
    }
   ],
   "source": [
    "Counter(np.argmax(predictions_test, axis=1)[good_or_not == 0])"
   ]
  },
  {
   "cell_type": "code",
   "execution_count": 69,
   "metadata": {},
   "outputs": [
    {
     "data": {
      "text/plain": [
       "Counter({4: 51938, 0: 6679, 3: 16882, 2: 2761, 1: 2939})"
      ]
     },
     "execution_count": 69,
     "metadata": {},
     "output_type": "execute_result"
    }
   ],
   "source": [
    "Counter(np.argmax(predictions_test, axis=1)[good_or_not == 1])"
   ]
  },
  {
   "cell_type": "code",
   "execution_count": null,
   "metadata": {},
   "outputs": [],
   "source": []
  },
  {
   "cell_type": "code",
   "execution_count": null,
   "metadata": {},
   "outputs": [],
   "source": []
  },
  {
   "cell_type": "code",
   "execution_count": 70,
   "metadata": {},
   "outputs": [
    {
     "data": {
      "text/plain": [
       "Counter({4.0: 8663, 2.0: 572, 1.0: 803, 3.0: 2469, 0.0: 616})"
      ]
     },
     "execution_count": 70,
     "metadata": {},
     "output_type": "execute_result"
    }
   ],
   "source": [
    "Counter(train_x[:,0])"
   ]
  },
  {
   "cell_type": "code",
   "execution_count": 71,
   "metadata": {},
   "outputs": [
    {
     "data": {
      "text/plain": [
       "Counter({1: 6611, 0: 6512})"
      ]
     },
     "execution_count": 71,
     "metadata": {},
     "output_type": "execute_result"
    }
   ],
   "source": [
    "Counter(train_y)"
   ]
  },
  {
   "cell_type": "code",
   "execution_count": 72,
   "metadata": {},
   "outputs": [
    {
     "data": {
      "text/plain": [
       "Counter({1: 4353, 0: 4310})"
      ]
     },
     "execution_count": 72,
     "metadata": {},
     "output_type": "execute_result"
    }
   ],
   "source": [
    "Counter(train_y[train_x[:,0] == 4])"
   ]
  },
  {
   "cell_type": "code",
   "execution_count": 73,
   "metadata": {},
   "outputs": [
    {
     "data": {
      "text/plain": [
       "(13123, 13123)"
      ]
     },
     "execution_count": 73,
     "metadata": {},
     "output_type": "execute_result"
    }
   ],
   "source": [
    "len(train_x), len(train_y)"
   ]
  },
  {
   "cell_type": "code",
   "execution_count": null,
   "metadata": {},
   "outputs": [],
   "source": []
  },
  {
   "cell_type": "code",
   "execution_count": 150,
   "metadata": {},
   "outputs": [],
   "source": [
    "def softmax(array):\n",
    "    return np.exp(array) / np.sum(np.exp(array))\n",
    "\n",
    "def normalize(array):\n",
    "    return array / np.mean(array)"
   ]
  },
  {
   "cell_type": "code",
   "execution_count": 146,
   "metadata": {},
   "outputs": [
    {
     "data": {
      "text/plain": [
       "array([0.6224368 , 0.62355796, 0.62446281, 0.62452617, 0.62458084,\n",
       "       0.62458084, 0.62458084, 0.62458084, 0.62458084, 0.62458084,\n",
       "       0.62458084])"
      ]
     },
     "execution_count": 146,
     "metadata": {},
     "output_type": "execute_result"
    }
   ],
   "source": [
    "train_x[0,1:]"
   ]
  },
  {
   "cell_type": "code",
   "execution_count": 148,
   "metadata": {},
   "outputs": [
    {
     "data": {
      "text/plain": [
       "[<matplotlib.lines.Line2D at 0x7f38dba6e5f8>]"
      ]
     },
     "execution_count": 148,
     "metadata": {},
     "output_type": "execute_result"
    },
    {
     "data": {
      "image/png": "[encoded data removed]",
      "text/plain": [
       "<Figure size 432x288 with 1 Axes>"
      ]
     },
     "metadata": {},
     "output_type": "display_data"
    }
   ],
   "source": [
    "plt.plot(softmax(train_x[0, 1:]))"
   ]
  },
  {
   "cell_type": "code",
   "execution_count": 149,
   "metadata": {},
   "outputs": [
    {
     "data": {
      "text/plain": [
       "[<matplotlib.lines.Line2D at 0x7f38dba48b00>]"
      ]
     },
     "execution_count": 149,
     "metadata": {},
     "output_type": "execute_result"
    },
    {
     "data": {
      "image/png": "[encoded data removed]",
      "text/plain": [
       "<Figure size 432x288 with 1 Axes>"
      ]
     },
     "metadata": {},
     "output_type": "display_data"
    }
   ],
   "source": [
    "plt.plot(train_x[0,1:])"
   ]
  },
  {
   "cell_type": "code",
   "execution_count": 152,
   "metadata": {},
   "outputs": [
    {
     "data": {
      "text/plain": [
       "[<matplotlib.lines.Line2D at 0x7f38db9b9080>]"
      ]
     },
     "execution_count": 152,
     "metadata": {},
     "output_type": "execute_result"
    },
    {
     "data": {
      "image/png": "[encoded data removed]",
      "text/plain": [
       "<Figure size 432x288 with 1 Axes>"
      ]
     },
     "metadata": {},
     "output_type": "display_data"
    }
   ],
   "source": [
    "plt.plot(normalize(train_x[0,1:]))"
   ]
  },
  {
   "cell_type": "code",
   "execution_count": 153,
   "metadata": {},
   "outputs": [
    {
     "data": {
      "text/plain": [
       "array([0.99705189, 0.99884782, 1.00029726, 1.00039875, 1.00048632,\n",
       "       1.00048632, 1.00048632, 1.00048632, 1.00048632, 1.00048632,\n",
       "       1.00048632])"
      ]
     },
     "execution_count": 153,
     "metadata": {},
     "output_type": "execute_result"
    }
   ],
   "source": [
    "normalize(train_x[0,1:])"
   ]
  },
  {
   "cell_type": "code",
   "execution_count": null,
   "metadata": {},
   "outputs": [],
   "source": []
  }
 ],
 "metadata": {
  "kernelspec": {
   "display_name": "Python 3",
   "language": "python",
   "name": "python3"
  },
  "language_info": {
   "codemirror_mode": {
    "name": "ipython",
    "version": 3
   },
   "file_extension": ".py",
   "mimetype": "text/x-python",
   "name": "python",
   "nbconvert_exporter": "python",
   "pygments_lexer": "ipython3",
   "version": "3.6.5"
  }
 },
 "nbformat": 4,
 "nbformat_minor": 2
}
