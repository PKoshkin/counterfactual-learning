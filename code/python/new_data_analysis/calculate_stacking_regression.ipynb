{
 "cells": [
  {
   "cell_type": "code",
   "execution_count": 1,
   "metadata": {},
   "outputs": [],
   "source": [
    "import numpy as np\n",
    "import shutil\n",
    "import os\n",
    "\n",
    "import sys\n",
    "sys.path.append(\"../utils/\")\n",
    "sys.path.append(\"../calculating_predictions\")\n",
    "sys.path.append(\"../evaluation/\")\n",
    "from calculate_predictions import calculate_predictions\n",
    "from evaluate import evaluate\n",
    "from run_evaluation import *\n",
    "from argparse import Namespace\n",
    "from catboost import CatBoostRegressor, CatBoostClassifier\n",
    "\n",
    "%reload_ext autoreload\n",
    "%autoreload 2"
   ]
  },
  {
   "cell_type": "code",
   "execution_count": 2,
   "metadata": {},
   "outputs": [],
   "source": [
    "def clear(folder):\n",
    "    if os.path.exists(folder):\n",
    "        shutil.rmtree(folder)\n",
    "    os.mkdir(folder)\n",
    "\n",
    "args = Namespace()\n",
    "args.verbose = True\n",
    "args.first_feature = 0\n",
    "args.last_feature = -1\n",
    "args.data_folder = \"../../../data/new_days_data_best_features/\"\n",
    "out_folder = \"regression_predictions\"\n",
    "args.type = \"regression\"\n",
    "args.need_position_feature = True\n",
    "args.labels_to_substruct = None\n",
    "args.metric_folder = \"metrics\"\n",
    "\n",
    "def get_regression_stacking_metric(i):\n",
    "    args.model_constructor = lambda verbose: CatBoostRegressor(verbose=False)\n",
    "    args.additional_features = {\n",
    "        day: [\n",
    "            os.path.join(\"features_models_with_double_pos\", str(i), filename)\n",
    "            for filename in os.listdir(os.path.join(\"features_models_with_double_pos\", str(i)))\n",
    "        ]\n",
    "        for day in [3, 6]\n",
    "    }\n",
    "    args.validation_day = None\n",
    "    args.train_days = [3]\n",
    "    args.test_days = [6]\n",
    "    \n",
    "    args.out_folder = os.path.join(out_folder, str(i))\n",
    "\n",
    "    clear(args.out_folder)\n",
    "    clear(args.metric_folder)\n",
    "    \n",
    "    calculate_predictions(args)\n",
    "    evaluate(\n",
    "        args.out_folder,\n",
    "        args.data_folder,\n",
    "        args.metric_folder,\n",
    "        argmax_positions,\n",
    "        verbose=args.verbose\n",
    "    )\n",
    "    \n",
    "    with open(\"metrics/metrics.txt\") as handler:\n",
    "        metric = float(next(handler).strip().split()[0])\n",
    "        return metric"
   ]
  },
  {
   "cell_type": "code",
   "execution_count": 3,
   "metadata": {},
   "outputs": [],
   "source": [
    "clear(\"regression_predictions\")"
   ]
  },
  {
   "cell_type": "code",
   "execution_count": 4,
   "metadata": {
    "scrolled": true
   },
   "outputs": [
    {
     "name": "stdout",
     "output_type": "stream",
     "text": [
      "\"2018-06-21 19:45:46.706814\": preprocesing started\n",
      "\"2018-06-21 19:45:51.966597\":     base features shape: (142298, 129)\n",
      "\"2018-06-21 19:46:01.428115\":     28 features added\n",
      "\"2018-06-21 19:46:01.428337\":     base features are not included\n",
      "\"2018-06-21 19:46:01.428477\":     result shape: (142298, 28)\n",
      "\"2018-06-21 19:46:01.432698\": train features shape: (142298, 28)\n",
      "\"2018-06-21 19:46:04.762054\": preprocesing finished\n",
      "\"2018-06-21 19:46:04.762149\": start training on days [3]\n",
      "\"2018-06-21 19:46:04.762175\": using fit without validation\n",
      "\"2018-06-21 19:46:33.029647\": built 1000 trees\n",
      "\"2018-06-21 19:46:53.807271\":     base features shape: (1565278, 129)\n",
      "\"2018-06-21 19:47:50.387774\":     28 features added\n",
      "\"2018-06-21 19:47:50.387877\":     base features are not included\n",
      "\"2018-06-21 19:47:50.388041\":     result shape: (1565278, 28)\n",
      "\"2018-06-21 19:47:50.446373\": days to predict: [6]\n",
      "\"2018-06-21 19:47:50.446529\": features shape: (1565278, 28)\n",
      "\"2018-06-21 19:47:50.446614\": start predicting on day 6\n",
      "\"2018-06-21 19:47:55.161517\": predictions shape: (142298, 11)\n",
      "\"2018-06-21 19:47:55.161579\": saveing results to regression_predictions/0/train_3_test_6\n",
      "\"2018-06-21 19:47:55.170945\": results saved\n",
      "\"2018-06-21 19:47:55.171458\": predictions_filenames: ['regression_predictions/0/train_3_test_6.npy']\n",
      "\"2018-06-21 19:47:55.171508\": will evaluate days: [6]\n",
      "\"2018-06-21 19:47:55.171786\": predict on file \"regression_predictions/0/train_3_test_6.npy\"\n",
      "\"2018-06-21 19:48:04.674207\": calculating metric\n",
      "\"2018-06-21 19:48:04.676186\": preprocesing started\n",
      "\"2018-06-21 19:48:09.481845\":     base features shape: (142298, 129)\n",
      "\"2018-06-21 19:48:16.725540\":     28 features added\n",
      "\"2018-06-21 19:48:16.725628\":     base features are not included\n",
      "\"2018-06-21 19:48:16.725654\":     result shape: (142298, 28)\n",
      "\"2018-06-21 19:48:16.728656\": train features shape: (142298, 28)\n",
      "\"2018-06-21 19:48:19.776924\": preprocesing finished\n",
      "\"2018-06-21 19:48:19.777008\": start training on days [3]\n",
      "\"2018-06-21 19:48:19.777172\": using fit without validation\n",
      "\"2018-06-21 19:48:46.559229\": built 1000 trees\n",
      "\"2018-06-21 19:49:04.949625\":     base features shape: (1565278, 129)\n",
      "\"2018-06-21 19:49:49.061501\":     28 features added\n",
      "\"2018-06-21 19:49:49.061590\":     base features are not included\n",
      "\"2018-06-21 19:49:49.061724\":     result shape: (1565278, 28)\n",
      "\"2018-06-21 19:49:49.125101\": days to predict: [6]\n",
      "\"2018-06-21 19:49:49.125254\": features shape: (1565278, 28)\n",
      "\"2018-06-21 19:49:49.125355\": start predicting on day 6\n",
      "\"2018-06-21 19:49:53.544814\": predictions shape: (142298, 11)\n",
      "\"2018-06-21 19:49:53.545022\": saveing results to regression_predictions/1/train_3_test_6\n",
      "\"2018-06-21 19:49:53.552928\": results saved\n",
      "\"2018-06-21 19:49:53.553329\": predictions_filenames: ['regression_predictions/1/train_3_test_6.npy']\n",
      "\"2018-06-21 19:49:53.553434\": will evaluate days: [6]\n",
      "\"2018-06-21 19:49:53.553572\": predict on file \"regression_predictions/1/train_3_test_6.npy\"\n",
      "\"2018-06-21 19:50:02.522912\": calculating metric\n",
      "\"2018-06-21 19:50:02.524751\": preprocesing started\n",
      "\"2018-06-21 19:50:07.249477\":     base features shape: (142298, 129)\n",
      "\"2018-06-21 19:50:13.737957\":     28 features added\n",
      "\"2018-06-21 19:50:13.738061\":     base features are not included\n",
      "\"2018-06-21 19:50:13.738085\":     result shape: (142298, 28)\n",
      "\"2018-06-21 19:50:13.740857\": train features shape: (142298, 28)\n",
      "\"2018-06-21 19:50:16.754127\": preprocesing finished\n",
      "\"2018-06-21 19:50:16.754228\": start training on days [3]\n",
      "\"2018-06-21 19:50:16.754442\": using fit without validation\n",
      "\"2018-06-21 19:50:44.023160\": built 1000 trees\n",
      "\"2018-06-21 19:51:03.320522\":     base features shape: (1565278, 129)\n",
      "\"2018-06-21 19:51:58.333461\":     28 features added\n",
      "\"2018-06-21 19:51:58.333556\":     base features are not included\n",
      "\"2018-06-21 19:51:58.333595\":     result shape: (1565278, 28)\n",
      "\"2018-06-21 19:51:58.395454\": days to predict: [6]\n",
      "\"2018-06-21 19:51:58.395518\": features shape: (1565278, 28)\n",
      "\"2018-06-21 19:51:58.395540\": start predicting on day 6\n",
      "\"2018-06-21 19:52:02.972169\": predictions shape: (142298, 11)\n",
      "\"2018-06-21 19:52:02.972285\": saveing results to regression_predictions/2/train_3_test_6\n",
      "\"2018-06-21 19:52:02.980633\": results saved\n",
      "\"2018-06-21 19:52:02.981137\": predictions_filenames: ['regression_predictions/2/train_3_test_6.npy']\n",
      "\"2018-06-21 19:52:02.981176\": will evaluate days: [6]\n",
      "\"2018-06-21 19:52:02.981330\": predict on file \"regression_predictions/2/train_3_test_6.npy\"\n",
      "\"2018-06-21 19:52:12.121019\": calculating metric\n",
      "CPU times: user 12min 36s, sys: 29.9 s, total: 13min 6s\n",
      "Wall time: 6min 25s\n"
     ]
    }
   ],
   "source": [
    "%%time\n",
    "args.add_base_features = False\n",
    "metrics = [get_regression_stacking_metric(i) for i in range(3)]"
   ]
  },
  {
   "cell_type": "code",
   "execution_count": 5,
   "metadata": {},
   "outputs": [
    {
     "data": {
      "text/plain": [
       "(0.6110096458857548, 0.003096590463097724)"
      ]
     },
     "execution_count": 5,
     "metadata": {},
     "output_type": "execute_result"
    }
   ],
   "source": [
    "np.mean(metrics), np.std(metrics) / np.sqrt(3)"
   ]
  },
  {
   "cell_type": "code",
   "execution_count": 6,
   "metadata": {},
   "outputs": [],
   "source": [
    "x = np.load(\"regression_predictions/0/train_3_test_6.npy\")"
   ]
  },
  {
   "cell_type": "code",
   "execution_count": 7,
   "metadata": {},
   "outputs": [
    {
     "data": {
      "text/plain": [
       "array([[0.7327358 , 0.74666235, 0.76281743, ..., 0.75523406, 0.77205019,\n",
       "        0.7408064 ],\n",
       "       [0.90794847, 0.90400326, 0.87659188, ..., 0.86470297, 0.87037088,\n",
       "        0.83443899],\n",
       "       [0.56054619, 0.57023459, 0.56721917, ..., 0.56735336, 0.58177867,\n",
       "        0.57183671],\n",
       "       ...,\n",
       "       [0.66126011, 0.66018256, 0.65404777, ..., 0.66358035, 0.66192092,\n",
       "        0.69124051],\n",
       "       [0.61031019, 0.62050464, 0.62183348, ..., 0.63932921, 0.6419518 ,\n",
       "        0.64956151],\n",
       "       [0.76533276, 0.78057517, 0.78178022, ..., 0.78897559, 0.81483373,\n",
       "        0.77021311]])"
      ]
     },
     "execution_count": 7,
     "metadata": {},
     "output_type": "execute_result"
    }
   ],
   "source": [
    "x"
   ]
  },
  {
   "cell_type": "code",
   "execution_count": 8,
   "metadata": {},
   "outputs": [
    {
     "data": {
      "text/plain": [
       "Counter({9: 17076,\n",
       "         0: 17393,\n",
       "         4: 19018,\n",
       "         7: 5654,\n",
       "         5: 4940,\n",
       "         10: 42018,\n",
       "         2: 7451,\n",
       "         1: 8778,\n",
       "         3: 6871,\n",
       "         6: 5545,\n",
       "         8: 7554})"
      ]
     },
     "execution_count": 8,
     "metadata": {},
     "output_type": "execute_result"
    }
   ],
   "source": [
    "from collections import Counter\n",
    "Counter(np.argmax(x, axis=1))"
   ]
  },
  {
   "cell_type": "code",
   "execution_count": null,
   "metadata": {},
   "outputs": [],
   "source": []
  },
  {
   "cell_type": "code",
   "execution_count": null,
   "metadata": {},
   "outputs": [],
   "source": []
  },
  {
   "cell_type": "code",
   "execution_count": null,
   "metadata": {},
   "outputs": [],
   "source": []
  },
  {
   "cell_type": "code",
   "execution_count": 9,
   "metadata": {
    "scrolled": true
   },
   "outputs": [
    {
     "name": "stdout",
     "output_type": "stream",
     "text": [
      "\"2018-06-21 19:52:56.880167\": preprocesing started\n",
      "\"2018-06-21 19:53:01.739304\":     base features shape: (142298, 129)\n",
      "\"2018-06-21 19:53:07.674397\":     28 features added\n",
      "\"2018-06-21 19:53:07.674476\":     base features not included\n",
      "\"2018-06-21 19:53:07.674603\":     result shape: (142298, 157)\n",
      "\"2018-06-21 19:53:07.689131\": train features shape: (142298, 157)\n",
      "\"2018-06-21 19:53:10.780403\": preprocesing finished\n",
      "\"2018-06-21 19:53:10.780499\": start training on days [3]\n",
      "\"2018-06-21 19:53:10.780611\": using fit without validation\n",
      "\"2018-06-21 19:54:40.104780\": built 1000 trees\n",
      "\"2018-06-21 19:55:00.701501\":     base features shape: (1565278, 129)\n",
      "\"2018-06-21 19:55:58.923520\":     28 features added\n",
      "\"2018-06-21 19:55:58.923617\":     base features not included\n",
      "\"2018-06-21 19:55:58.923656\":     result shape: (1565278, 157)\n",
      "\"2018-06-21 19:55:58.991771\": days to predict: [6]\n",
      "\"2018-06-21 19:55:58.991845\": features shape: (1565278, 157)\n",
      "\"2018-06-21 19:55:58.991869\": start predicting on day 6\n",
      "\"2018-06-21 19:56:15.769949\": predictions shape: (142298, 11)\n",
      "\"2018-06-21 19:56:15.770047\": saveing results to regression_predictions/0/train_3_test_6\n",
      "\"2018-06-21 19:56:15.778812\": results saved\n",
      "\"2018-06-21 19:56:15.851611\": predictions_filenames: ['regression_predictions/0/train_3_test_6.npy']\n",
      "\"2018-06-21 19:56:15.851678\": will evaluate days: [6]\n",
      "\"2018-06-21 19:56:15.851799\": predict on file \"regression_predictions/0/train_3_test_6.npy\"\n",
      "\"2018-06-21 19:56:26.357162\": calculating metric\n",
      "\"2018-06-21 19:56:26.361091\": preprocesing started\n",
      "\"2018-06-21 19:56:31.729137\":     base features shape: (142298, 129)\n",
      "\"2018-06-21 19:56:38.278443\":     28 features added\n",
      "\"2018-06-21 19:56:38.278549\":     base features not included\n",
      "\"2018-06-21 19:56:38.278693\":     result shape: (142298, 157)\n",
      "\"2018-06-21 19:56:38.296169\": train features shape: (142298, 157)\n",
      "\"2018-06-21 19:56:42.064951\": preprocesing finished\n",
      "\"2018-06-21 19:56:42.065056\": start training on days [3]\n",
      "\"2018-06-21 19:56:42.065076\": using fit without validation\n",
      "\"2018-06-21 19:58:14.835392\": built 1000 trees\n",
      "\"2018-06-21 19:58:36.883280\":     base features shape: (1565278, 129)\n",
      "\"2018-06-21 19:59:24.956221\":     28 features added\n",
      "\"2018-06-21 19:59:24.956351\":     base features not included\n",
      "\"2018-06-21 19:59:24.956390\":     result shape: (1565278, 157)\n",
      "\"2018-06-21 19:59:25.034055\": days to predict: [6]\n",
      "\"2018-06-21 19:59:25.034224\": features shape: (1565278, 157)\n",
      "\"2018-06-21 19:59:25.034247\": start predicting on day 6\n",
      "\"2018-06-21 19:59:41.857927\": predictions shape: (142298, 11)\n",
      "\"2018-06-21 19:59:41.858013\": saveing results to regression_predictions/1/train_3_test_6\n",
      "\"2018-06-21 19:59:41.866532\": results saved\n",
      "\"2018-06-21 19:59:41.926830\": predictions_filenames: ['regression_predictions/1/train_3_test_6.npy']\n",
      "\"2018-06-21 19:59:41.926981\": will evaluate days: [6]\n",
      "\"2018-06-21 19:59:41.927119\": predict on file \"regression_predictions/1/train_3_test_6.npy\"\n",
      "\"2018-06-21 19:59:50.899677\": calculating metric\n",
      "\"2018-06-21 19:59:50.902982\": preprocesing started\n",
      "\"2018-06-21 19:59:55.555093\":     base features shape: (142298, 129)\n",
      "\"2018-06-21 20:00:02.509416\":     28 features added\n",
      "\"2018-06-21 20:00:02.509495\":     base features not included\n",
      "\"2018-06-21 20:00:02.509521\":     result shape: (142298, 157)\n",
      "\"2018-06-21 20:00:02.524604\": train features shape: (142298, 157)\n",
      "\"2018-06-21 20:00:05.898349\": preprocesing finished\n",
      "\"2018-06-21 20:00:05.898490\": start training on days [3]\n",
      "\"2018-06-21 20:00:05.898510\": using fit without validation\n",
      "\"2018-06-21 20:01:41.785663\": built 1000 trees\n",
      "\"2018-06-21 20:02:00.381961\":     base features shape: (1565278, 129)\n",
      "\"2018-06-21 20:02:58.418421\":     28 features added\n",
      "\"2018-06-21 20:02:58.418524\":     base features not included\n",
      "\"2018-06-21 20:02:58.418552\":     result shape: (1565278, 157)\n",
      "\"2018-06-21 20:02:58.495504\": days to predict: [6]\n",
      "\"2018-06-21 20:02:58.495566\": features shape: (1565278, 157)\n",
      "\"2018-06-21 20:02:58.495591\": start predicting on day 6\n",
      "\"2018-06-21 20:03:15.054198\": predictions shape: (142298, 11)\n",
      "\"2018-06-21 20:03:15.054397\": saveing results to regression_predictions/2/train_3_test_6\n",
      "\"2018-06-21 20:03:15.064548\": results saved\n",
      "\"2018-06-21 20:03:15.134154\": predictions_filenames: ['regression_predictions/2/train_3_test_6.npy']\n",
      "\"2018-06-21 20:03:15.134363\": will evaluate days: [6]\n",
      "\"2018-06-21 20:03:15.134574\": predict on file \"regression_predictions/2/train_3_test_6.npy\"\n",
      "\"2018-06-21 20:03:24.540534\": calculating metric\n",
      "CPU times: user 33min 11s, sys: 38.3 s, total: 33min 49s\n",
      "Wall time: 10min 27s\n"
     ]
    }
   ],
   "source": [
    "%%time\n",
    "args.add_base_features = True\n",
    "metrics = [get_regression_stacking_metric(i) for i in range(3)]"
   ]
  },
  {
   "cell_type": "code",
   "execution_count": 10,
   "metadata": {},
   "outputs": [
    {
     "data": {
      "text/plain": [
       "(0.6169320462145124, 0.002248081820030615)"
      ]
     },
     "execution_count": 10,
     "metadata": {},
     "output_type": "execute_result"
    }
   ],
   "source": [
    "np.mean(metrics), np.std(metrics) / np.sqrt(3)"
   ]
  },
  {
   "cell_type": "code",
   "execution_count": 11,
   "metadata": {},
   "outputs": [],
   "source": [
    "x = np.load(\"regression_predictions/0/train_3_test_6.npy\")"
   ]
  },
  {
   "cell_type": "code",
   "execution_count": 12,
   "metadata": {},
   "outputs": [
    {
     "data": {
      "text/plain": [
       "array([[0.75252491, 0.759719  , 0.75052672, ..., 0.74669501, 0.75526107,\n",
       "        0.74543769],\n",
       "       [0.82410894, 0.803911  , 0.80899186, ..., 0.79466424, 0.80096013,\n",
       "        0.79083266],\n",
       "       [0.5481255 , 0.55670771, 0.55041139, ..., 0.55723459, 0.57044716,\n",
       "        0.56498824],\n",
       "       ...,\n",
       "       [0.66695584, 0.67313447, 0.67066288, ..., 0.67483936, 0.67366297,\n",
       "        0.67252227],\n",
       "       [0.60318267, 0.60992946, 0.60949032, ..., 0.61466861, 0.61510167,\n",
       "        0.6107557 ],\n",
       "       [0.76372882, 0.77123028, 0.77096348, ..., 0.77314285, 0.79407453,\n",
       "        0.77207266]])"
      ]
     },
     "execution_count": 12,
     "metadata": {},
     "output_type": "execute_result"
    }
   ],
   "source": [
    "x"
   ]
  },
  {
   "cell_type": "code",
   "execution_count": 13,
   "metadata": {},
   "outputs": [
    {
     "data": {
      "text/plain": [
       "Counter({1: 8825,\n",
       "         0: 7741,\n",
       "         4: 53383,\n",
       "         10: 31330,\n",
       "         5: 3117,\n",
       "         9: 15275,\n",
       "         3: 4717,\n",
       "         2: 4793,\n",
       "         6: 4167,\n",
       "         7: 3992,\n",
       "         8: 4958})"
      ]
     },
     "execution_count": 13,
     "metadata": {},
     "output_type": "execute_result"
    }
   ],
   "source": [
    "from collections import Counter\n",
    "Counter(np.argmax(x, axis=1))"
   ]
  },
  {
   "cell_type": "code",
   "execution_count": null,
   "metadata": {},
   "outputs": [],
   "source": []
  },
  {
   "cell_type": "code",
   "execution_count": null,
   "metadata": {},
   "outputs": [],
   "source": []
  }
 ],
 "metadata": {
  "kernelspec": {
   "display_name": "Python 3",
   "language": "python",
   "name": "python3"
  },
  "language_info": {
   "codemirror_mode": {
    "name": "ipython",
    "version": 3
   },
   "file_extension": ".py",
   "mimetype": "text/x-python",
   "name": "python",
   "nbconvert_exporter": "python",
   "pygments_lexer": "ipython3",
   "version": "3.6.5"
  }
 },
 "nbformat": 4,
 "nbformat_minor": 2
}
