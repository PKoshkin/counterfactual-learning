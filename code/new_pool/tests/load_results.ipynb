{
 "cells": [
  {
   "cell_type": "code",
   "execution_count": 1,
   "metadata": {},
   "outputs": [],
   "source": [
    "import numpy as np"
   ]
  },
  {
   "cell_type": "code",
   "execution_count": 2,
   "metadata": {},
   "outputs": [],
   "source": [
    "x = np.load('res/0-1.txt')"
   ]
  },
  {
   "cell_type": "code",
   "execution_count": 3,
   "metadata": {},
   "outputs": [
    {
     "data": {
      "text/plain": [
       "(2, 10, 7)"
      ]
     },
     "execution_count": 3,
     "metadata": {},
     "output_type": "execute_result"
    }
   ],
   "source": [
    "np.shape(x)"
   ]
  },
  {
   "cell_type": "code",
   "execution_count": 4,
   "metadata": {},
   "outputs": [
    {
     "data": {
      "text/plain": [
       "array([0, 1, 2, 3, 4, 5, 6, 7, 8, 9])"
      ]
     },
     "execution_count": 4,
     "metadata": {},
     "output_type": "execute_result"
    }
   ],
   "source": [
    "np.arange(np.shape(x)[1])"
   ]
  },
  {
   "cell_type": "code",
   "execution_count": 8,
   "metadata": {
    "scrolled": true
   },
   "outputs": [
    {
     "data": {
      "text/plain": [
       "array([[[0.02007608, 0.8795435 , 0.02007608, 0.02007608, 0.02007608,\n",
       "         0.02007608, 0.02007608],\n",
       "        [0.02007608, 0.8795435 , 0.02007608, 0.02007608, 0.02007608,\n",
       "         0.02007608, 0.02007608],\n",
       "        [0.02007608, 0.8795435 , 0.02007608, 0.02007608, 0.02007608,\n",
       "         0.02007608, 0.02007608],\n",
       "        [0.02007608, 0.8795435 , 0.02007608, 0.02007608, 0.02007608,\n",
       "         0.02007608, 0.02007608],\n",
       "        [0.02021818, 0.87852416, 0.02038492, 0.02021818, 0.02021818,\n",
       "         0.02021818, 0.02021818],\n",
       "        [0.02021818, 0.87852416, 0.02038492, 0.02021818, 0.02021818,\n",
       "         0.02021818, 0.02021818],\n",
       "        [0.02021818, 0.87852416, 0.02038492, 0.02021818, 0.02021818,\n",
       "         0.02021818, 0.02021818],\n",
       "        [0.02021818, 0.87852416, 0.02038492, 0.02021818, 0.02021818,\n",
       "         0.02021818, 0.02021818],\n",
       "        [0.02021818, 0.87852416, 0.02038492, 0.02021818, 0.02021818,\n",
       "         0.02021818, 0.02021818],\n",
       "        [0.02021818, 0.87852416, 0.02038492, 0.02021818, 0.02021818,\n",
       "         0.02021818, 0.02021818]],\n",
       "\n",
       "       [[0.02021818, 0.02038492, 0.87852416, 0.02021818, 0.02021818,\n",
       "         0.02021818, 0.02021818],\n",
       "        [0.02021818, 0.02038492, 0.87852416, 0.02021818, 0.02021818,\n",
       "         0.02021818, 0.02021818],\n",
       "        [0.02021818, 0.02038492, 0.87852416, 0.02021818, 0.02021818,\n",
       "         0.02021818, 0.02021818],\n",
       "        [0.02021818, 0.02038492, 0.87852416, 0.02021818, 0.02021818,\n",
       "         0.02021818, 0.02021818],\n",
       "        [0.02007608, 0.02007608, 0.8795435 , 0.02007608, 0.02007608,\n",
       "         0.02007608, 0.02007608],\n",
       "        [0.02007608, 0.02007608, 0.8795435 , 0.02007608, 0.02007608,\n",
       "         0.02007608, 0.02007608],\n",
       "        [0.02007608, 0.02007608, 0.8795435 , 0.02007608, 0.02007608,\n",
       "         0.02007608, 0.02007608],\n",
       "        [0.02007608, 0.02007608, 0.8795435 , 0.02007608, 0.02007608,\n",
       "         0.02007608, 0.02007608],\n",
       "        [0.02007608, 0.02007608, 0.8795435 , 0.02007608, 0.02007608,\n",
       "         0.02007608, 0.02007608],\n",
       "        [0.02007608, 0.02007608, 0.8795435 , 0.02007608, 0.02007608,\n",
       "         0.02007608, 0.02007608]]])"
      ]
     },
     "execution_count": 8,
     "metadata": {},
     "output_type": "execute_result"
    }
   ],
   "source": [
    "x"
   ]
  },
  {
   "cell_type": "code",
   "execution_count": 10,
   "metadata": {},
   "outputs": [],
   "source": [
    "repeated_arange = np.repeat(\n",
    "    [np.repeat([np.arange(np.shape(x)[2])], np.shape(x)[1], axis=0)],\n",
    "    np.shape(x)[0],\n",
    "    axis=0\n",
    ")"
   ]
  },
  {
   "cell_type": "code",
   "execution_count": 16,
   "metadata": {},
   "outputs": [
    {
     "data": {
      "text/plain": [
       "array([[1.28106517, 1.28106517, 1.28106517, 1.28106517, 1.28322132,\n",
       "        1.28322132, 1.28322132, 1.28322132, 1.28322132, 1.28322132],\n",
       "       [2.14136056, 2.14136056, 2.14136056, 2.14136056, 2.14053259,\n",
       "        2.14053259, 2.14053259, 2.14053259, 2.14053259, 2.14053259]])"
      ]
     },
     "execution_count": 16,
     "metadata": {},
     "output_type": "execute_result"
    }
   ],
   "source": [
    "np.sum(repeated_arange * x, axis=-1)"
   ]
  },
  {
   "cell_type": "code",
   "execution_count": 17,
   "metadata": {},
   "outputs": [
    {
     "data": {
      "text/plain": [
       "array([[1., 1., 1., 1., 1., 1., 1., 1., 1., 1.],\n",
       "       [2., 2., 2., 2., 2., 2., 2., 2., 2., 2.]])"
      ]
     },
     "execution_count": 17,
     "metadata": {},
     "output_type": "execute_result"
    }
   ],
   "source": [
    "np.round(np.sum(repeated_arange * x, axis=-1))"
   ]
  },
  {
   "cell_type": "code",
   "execution_count": null,
   "metadata": {},
   "outputs": [],
   "source": []
  }
 ],
 "metadata": {
  "kernelspec": {
   "display_name": "Python 3",
   "language": "python",
   "name": "python3"
  },
  "language_info": {
   "codemirror_mode": {
    "name": "ipython",
    "version": 3
   },
   "file_extension": ".py",
   "mimetype": "text/x-python",
   "name": "python",
   "nbconvert_exporter": "python",
   "pygments_lexer": "ipython3",
   "version": "3.6.5"
  }
 },
 "nbformat": 4,
 "nbformat_minor": 2
}
