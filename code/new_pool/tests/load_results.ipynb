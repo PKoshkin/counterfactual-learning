{
 "cells": [
  {
   "cell_type": "code",
   "execution_count": 1,
   "metadata": {},
   "outputs": [],
   "source": [
    "import numpy as np"
   ]
  },
  {
   "cell_type": "code",
   "execution_count": 2,
   "metadata": {},
   "outputs": [
    {
     "ename": "FileNotFoundError",
     "evalue": "[Errno 2] No such file or directory: 'res/features_from_0_to_100/0-1.txt'",
     "output_type": "error",
     "traceback": [
      "\u001b[0;31m---------------------------------------------------------------------------\u001b[0m",
      "\u001b[0;31mFileNotFoundError\u001b[0m                         Traceback (most recent call last)",
      "\u001b[0;32m<ipython-input-2-77838019126d>\u001b[0m in \u001b[0;36m<module>\u001b[0;34m()\u001b[0m\n\u001b[0;32m----> 1\u001b[0;31m \u001b[0mnp\u001b[0m\u001b[0;34m.\u001b[0m\u001b[0mload\u001b[0m\u001b[0;34m(\u001b[0m\u001b[0;34m'res/features_from_0_to_100/0-1.txt'\u001b[0m\u001b[0;34m)\u001b[0m\u001b[0;34m\u001b[0m\u001b[0m\n\u001b[0m",
      "\u001b[0;32m/usr/lib/python3.6/site-packages/numpy/lib/npyio.py\u001b[0m in \u001b[0;36mload\u001b[0;34m(file, mmap_mode, allow_pickle, fix_imports, encoding)\u001b[0m\n\u001b[1;32m    370\u001b[0m     \u001b[0mown_fid\u001b[0m \u001b[0;34m=\u001b[0m \u001b[0;32mFalse\u001b[0m\u001b[0;34m\u001b[0m\u001b[0m\n\u001b[1;32m    371\u001b[0m     \u001b[0;32mif\u001b[0m \u001b[0misinstance\u001b[0m\u001b[0;34m(\u001b[0m\u001b[0mfile\u001b[0m\u001b[0;34m,\u001b[0m \u001b[0mbasestring\u001b[0m\u001b[0;34m)\u001b[0m\u001b[0;34m:\u001b[0m\u001b[0;34m\u001b[0m\u001b[0m\n\u001b[0;32m--> 372\u001b[0;31m         \u001b[0mfid\u001b[0m \u001b[0;34m=\u001b[0m \u001b[0mopen\u001b[0m\u001b[0;34m(\u001b[0m\u001b[0mfile\u001b[0m\u001b[0;34m,\u001b[0m \u001b[0;34m\"rb\"\u001b[0m\u001b[0;34m)\u001b[0m\u001b[0;34m\u001b[0m\u001b[0m\n\u001b[0m\u001b[1;32m    373\u001b[0m         \u001b[0mown_fid\u001b[0m \u001b[0;34m=\u001b[0m \u001b[0;32mTrue\u001b[0m\u001b[0;34m\u001b[0m\u001b[0m\n\u001b[1;32m    374\u001b[0m     \u001b[0;32melif\u001b[0m \u001b[0mis_pathlib_path\u001b[0m\u001b[0;34m(\u001b[0m\u001b[0mfile\u001b[0m\u001b[0;34m)\u001b[0m\u001b[0;34m:\u001b[0m\u001b[0;34m\u001b[0m\u001b[0m\n",
      "\u001b[0;31mFileNotFoundError\u001b[0m: [Errno 2] No such file or directory: 'res/features_from_0_to_100/0-1.txt'"
     ]
    }
   ],
   "source": [
    "np.load('res/features_from_0_to_100/0-1.txt')"
   ]
  },
  {
   "cell_type": "code",
   "execution_count": 7,
   "metadata": {},
   "outputs": [],
   "source": [
    "x=np.load('res/0_1_2_3_4_5_6_7_8_9_10_11_12-13.txt')"
   ]
  },
  {
   "cell_type": "code",
   "execution_count": 8,
   "metadata": {},
   "outputs": [
    {
     "data": {
      "text/plain": [
       "array([[1.34679183, 1.34726257, 1.34185855, 1.34185855, 1.34185855,\n",
       "        1.34185855, 1.34185855, 1.34185855, 1.34185855, 1.34185855],\n",
       "       [0.99221661, 0.99232358, 0.98691957, 0.98691957, 0.98691957,\n",
       "        0.98691957, 0.98691957, 0.98691957, 0.98691957, 0.98691957],\n",
       "       [1.12664003, 1.12682104, 1.12141702, 1.12141702, 1.12141702,\n",
       "        1.12141702, 1.12141702, 1.12141702, 1.12141702, 1.12141702],\n",
       "       [1.23868916, 1.23915991, 1.23375589, 1.23375589, 1.23375589,\n",
       "        1.23375589, 1.23375589, 1.23375589, 1.23375589, 1.23375589],\n",
       "       [1.14568151, 1.14563843, 1.14023441, 1.14023441, 1.14023441,\n",
       "        1.14023441, 1.14023441, 1.14023441, 1.14023441, 1.14023441],\n",
       "       [1.04833548, 1.04881694, 1.04880305, 1.04880305, 1.04880305,\n",
       "        1.04880305, 1.04880305, 1.04880305, 1.04880305, 1.04880305],\n",
       "       [1.05533678, 1.05529371, 1.04988969, 1.04988969, 1.04988969,\n",
       "        1.04988969, 1.04988969, 1.04988969, 1.04988969, 1.04988969],\n",
       "       [1.06864647, 1.06912793, 1.06372391, 1.06372391, 1.06372391,\n",
       "        1.06372391, 1.06372391, 1.06372391, 1.06372391, 1.06372391],\n",
       "       [1.08513883, 1.08499336, 1.07958934, 1.07958934, 1.07958934,\n",
       "        1.07958934, 1.07958934, 1.07958934, 1.07958934, 1.07958934],\n",
       "       [1.08596151, 1.08597168, 1.08056767, 1.08056767, 1.08056767,\n",
       "        1.08056767, 1.08056767, 1.08056767, 1.08056767, 1.08056767]])"
      ]
     },
     "execution_count": 8,
     "metadata": {},
     "output_type": "execute_result"
    }
   ],
   "source": [
    "x"
   ]
  },
  {
   "cell_type": "code",
   "execution_count": 9,
   "metadata": {},
   "outputs": [
    {
     "data": {
      "text/plain": [
       "(10, 10)"
      ]
     },
     "execution_count": 9,
     "metadata": {},
     "output_type": "execute_result"
    }
   ],
   "source": [
    "np.shape(x)"
   ]
  },
  {
   "cell_type": "code",
   "execution_count": null,
   "metadata": {},
   "outputs": [],
   "source": []
  }
 ],
 "metadata": {
  "kernelspec": {
   "display_name": "Python 3",
   "language": "python",
   "name": "python3"
  },
  "language_info": {
   "codemirror_mode": {
    "name": "ipython",
    "version": 3
   },
   "file_extension": ".py",
   "mimetype": "text/x-python",
   "name": "python",
   "nbconvert_exporter": "python",
   "pygments_lexer": "ipython3",
   "version": "3.6.5"
  }
 },
 "nbformat": 4,
 "nbformat_minor": 2
}
