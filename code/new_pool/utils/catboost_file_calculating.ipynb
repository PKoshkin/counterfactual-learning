{
 "cells": [
  {
   "cell_type": "code",
   "execution_count": 1,
   "metadata": {},
   "outputs": [],
   "source": [
    "from json import loads as json_from_string\n",
    "%load_ext autoreload\n",
    "%autoreload 2"
   ]
  },
  {
   "cell_type": "code",
   "execution_count": 2,
   "metadata": {},
   "outputs": [],
   "source": [
    "json_filename = '../../../sorted_data/pool.json'"
   ]
  },
  {
   "cell_type": "code",
   "execution_count": 3,
   "metadata": {},
   "outputs": [
    {
     "name": "stdout",
     "output_type": "stream",
     "text": [
      "CPU times: user 7min 57s, sys: 10.6 s, total: 8min 7s\n",
      "Wall time: 8min 39s\n"
     ]
    }
   ],
   "source": [
    "%%time\n",
    "positions = list(range(10)) + [100]\n",
    "targets = {pos: [] for pos in positions}\n",
    "probs = {pos: [] for pos in positions}\n",
    "with open(json_filename) as handler:\n",
    "    for i, line in enumerate(handler):\n",
    "        json = json_from_string(line)\n",
    "        target = int(json[\"target\"])\n",
    "        pos = int(json[\"pos\"])\n",
    "        prob = float(json[\"p\"])\n",
    "        targets[pos].append(target)\n",
    "        probs[pos].append(prob)"
   ]
  },
  {
   "cell_type": "code",
   "execution_count": 6,
   "metadata": {},
   "outputs": [],
   "source": [
    "import numpy as np"
   ]
  },
  {
   "cell_type": "code",
   "execution_count": 8,
   "metadata": {},
   "outputs": [],
   "source": [
    "for pos in positions:\n",
    "    targets[pos] = np.array(targets[pos])\n",
    "    probs[pos] = np.array(probs[pos])"
   ]
  },
  {
   "cell_type": "code",
   "execution_count": 9,
   "metadata": {},
   "outputs": [
    {
     "name": "stdout",
     "output_type": "stream",
     "text": [
      "pos: 0, metric: 5.228552172840028\n",
      "pos: 1, metric: 5.225679990706257\n",
      "pos: 2, metric: 10.041379000623559\n",
      "pos: 3, metric: 9.903448595551149\n",
      "pos: 4, metric: 9.72303347655017\n",
      "pos: 5, metric: 7.943957562031259\n",
      "pos: 6, metric: 7.330137600534361\n",
      "pos: 7, metric: 10.023708720120187\n",
      "pos: 8, metric: 8.999130399894653\n",
      "pos: 9, metric: 9.046545984358245\n",
      "pos: 100, metric: 1.1666666666666667\n"
     ]
    }
   ],
   "source": [
    "for pos in positions:\n",
    "    print(\"pos: {}, metric: {}\".format(pos, np.mean(targets[pos] / probs[pos])))"
   ]
  },
  {
   "cell_type": "code",
   "execution_count": 12,
   "metadata": {},
   "outputs": [
    {
     "name": "stdout",
     "output_type": "stream",
     "text": [
      "average target: 1.0104686674105832\n"
     ]
    }
   ],
   "source": [
    "print(\"average target: {}\".format(\n",
    "    np.mean(np.concatenate([targets[pos] for pos in positions], axis=0))\n",
    "))"
   ]
  },
  {
   "cell_type": "code",
   "execution_count": null,
   "metadata": {},
   "outputs": [],
   "source": []
  }
 ],
 "metadata": {
  "kernelspec": {
   "display_name": "Python 3",
   "language": "python",
   "name": "python3"
  },
  "language_info": {
   "codemirror_mode": {
    "name": "ipython",
    "version": 3
   },
   "file_extension": ".py",
   "mimetype": "text/x-python",
   "name": "python",
   "nbconvert_exporter": "python",
   "pygments_lexer": "ipython3",
   "version": "3.6.5"
  }
 },
 "nbformat": 4,
 "nbformat_minor": 2
}
