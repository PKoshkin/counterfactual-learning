{
 "cells": [
  {
   "cell_type": "code",
   "execution_count": 37,
   "metadata": {},
   "outputs": [
    {
     "name": "stdout",
     "output_type": "stream",
     "text": [
      "The autoreload extension is already loaded. To reload it, use:\n",
      "  %reload_ext autoreload\n"
     ]
    }
   ],
   "source": [
    "from json import loads as json_from_string\n",
    "from data import make_catboost_file, check_sorted, get_days, make_catboost_files\n",
    "%load_ext autoreload\n",
    "%autoreload 2"
   ]
  },
  {
   "cell_type": "code",
   "execution_count": 2,
   "metadata": {},
   "outputs": [
    {
     "name": "stdout",
     "output_type": "stream",
     "text": [
      "CPU times: user 2min 39s, sys: 28.5 s, total: 3min 7s\n",
      "Wall time: 5min 10s\n"
     ]
    }
   ],
   "source": [
    "%%time\n",
    "days = get_days('../../../sorted_data/catboost_pool')"
   ]
  },
  {
   "cell_type": "code",
   "execution_count": 3,
   "metadata": {},
   "outputs": [
    {
     "data": {
      "text/plain": [
       "{datetime.date(2018, 4, 3),\n",
       " datetime.date(2018, 4, 4),\n",
       " datetime.date(2018, 4, 5),\n",
       " datetime.date(2018, 4, 6),\n",
       " datetime.date(2018, 4, 7),\n",
       " datetime.date(2018, 4, 8),\n",
       " datetime.date(2018, 4, 9),\n",
       " datetime.date(2018, 4, 10),\n",
       " datetime.date(2018, 4, 11),\n",
       " datetime.date(2018, 4, 12),\n",
       " datetime.date(2018, 4, 13),\n",
       " datetime.date(2018, 4, 14),\n",
       " datetime.date(2018, 4, 15),\n",
       " datetime.date(2018, 4, 16),\n",
       " datetime.date(2018, 4, 17),\n",
       " datetime.date(2018, 4, 18)}"
      ]
     },
     "execution_count": 3,
     "metadata": {},
     "output_type": "execute_result"
    }
   ],
   "source": [
    "days"
   ]
  },
  {
   "cell_type": "code",
   "execution_count": 34,
   "metadata": {},
   "outputs": [
    {
     "data": {
      "text/plain": [
       "datetime.datetime(2018, 4, 3, 0, 1, 30)"
      ]
     },
     "execution_count": 34,
     "metadata": {},
     "output_type": "execute_result"
    }
   ],
   "source": [
    "datetime.fromtimestamp(1522702890)"
   ]
  },
  {
   "cell_type": "code",
   "execution_count": 23,
   "metadata": {},
   "outputs": [],
   "source": [
    "from datetime import datetime"
   ]
  },
  {
   "cell_type": "code",
   "execution_count": 20,
   "metadata": {},
   "outputs": [],
   "source": [
    "day = list(days)[0]\n",
    "ts = datetime(\n",
    "    year=day.year, \n",
    "    month=day.month,\n",
    "    day=day.day,\n",
    ").timestamp()"
   ]
  },
  {
   "cell_type": "code",
   "execution_count": 22,
   "metadata": {},
   "outputs": [
    {
     "data": {
      "text/plain": [
       "1523048400"
      ]
     },
     "execution_count": 22,
     "metadata": {},
     "output_type": "execute_result"
    }
   ],
   "source": [
    "int(ts)"
   ]
  },
  {
   "cell_type": "code",
   "execution_count": 28,
   "metadata": {},
   "outputs": [],
   "source": [
    "filename_by_ts = {\n",
    "    int(datetime(\n",
    "        year=day.year, \n",
    "        month=day.month,\n",
    "        day=day.day,\n",
    "    ).timestamp()): \"day_{}.cbf\".format(i)\n",
    "    for i, day in enumerate(days)\n",
    "}"
   ]
  },
  {
   "cell_type": "code",
   "execution_count": 29,
   "metadata": {},
   "outputs": [
    {
     "data": {
      "text/plain": [
       "{1523048400: 'day_0.cbf',\n",
       " 1523221200: 'day_1.cbf',\n",
       " 1523480400: 'day_2.cbf',\n",
       " 1523739600: 'day_3.cbf',\n",
       " 1523394000: 'day_4.cbf',\n",
       " 1523566800: 'day_5.cbf',\n",
       " 1523912400: 'day_6.cbf',\n",
       " 1523998800: 'day_7.cbf',\n",
       " 1523653200: 'day_8.cbf',\n",
       " 1522789200: 'day_9.cbf',\n",
       " 1523826000: 'day_10.cbf',\n",
       " 1522702800: 'day_11.cbf',\n",
       " 1523134800: 'day_12.cbf',\n",
       " 1522962000: 'day_13.cbf',\n",
       " 1522875600: 'day_14.cbf',\n",
       " 1523307600: 'day_15.cbf'}"
      ]
     },
     "execution_count": 29,
     "metadata": {},
     "output_type": "execute_result"
    }
   ],
   "source": [
    "filename_by_ts"
   ]
  },
  {
   "cell_type": "code",
   "execution_count": 38,
   "metadata": {},
   "outputs": [
    {
     "name": "stdout",
     "output_type": "stream",
     "text": [
      "CPU times: user 23min 26s, sys: 34.4 s, total: 24min\n",
      "Wall time: 27min 55s\n"
     ]
    }
   ],
   "source": [
    "%%time\n",
    "json_filename = '../../../sorted_data/pool.json'\n",
    "make_catboost_files(json_filename, filename_by_ts)"
   ]
  },
  {
   "cell_type": "code",
   "execution_count": 41,
   "metadata": {},
   "outputs": [
    {
     "name": "stdout",
     "output_type": "stream",
     "text": [
      "    114136  124749558 1988189002 day_0.cbf\n",
      "    105003  114767189 1829209025 day_1.cbf\n",
      "    106917  116860281 1861962929 day_2.cbf\n",
      "    115364  126092852 2009144218 day_3.cbf\n",
      "    106532  116439476 1855619246 day_4.cbf\n",
      "    105077  114848071 1830067489 day_5.cbf\n",
      "    107013  116965209 1863522456 day_6.cbf\n",
      "     73503   80337689 1278045737 day_7.cbf\n",
      "    109646  119843078 1909557363 day_8.cbf\n",
      "    106493  116395759 1855546010 day_9.cbf\n",
      "    105580  115397850 1838996680 day_10.cbf\n",
      "    55290  60431970 960313423 day_11.cbf\n",
      "    117314  128223112 2042882391 day_12.cbf\n",
      "    101990  111473980 1777029688 day_13.cbf\n",
      "    101987  111471791 1776925926 day_14.cbf\n",
      "    102747  112302471 1789842872 day_15.cbf\n",
      "CPU times: user 5.45 s, sys: 1.39 s, total: 6.85 s\n",
      "Wall time: 5min 6s\n"
     ]
    }
   ],
   "source": [
    "%%time\n",
    "for i in range(16):\n",
    "    !wc \"day_\"$i\".cbf\""
   ]
  },
  {
   "cell_type": "code",
   "execution_count": null,
   "metadata": {},
   "outputs": [],
   "source": []
  }
 ],
 "metadata": {
  "kernelspec": {
   "display_name": "Python 3",
   "language": "python",
   "name": "python3"
  },
  "language_info": {
   "codemirror_mode": {
    "name": "ipython",
    "version": 3
   },
   "file_extension": ".py",
   "mimetype": "text/x-python",
   "name": "python",
   "nbconvert_exporter": "python",
   "pygments_lexer": "ipython3",
   "version": "3.6.4"
  }
 },
 "nbformat": 4,
 "nbformat_minor": 2
}
