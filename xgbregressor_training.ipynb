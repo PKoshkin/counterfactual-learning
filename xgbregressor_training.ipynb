{
 "cells": [
  {
   "cell_type": "code",
   "execution_count": 1,
   "metadata": {
    "collapsed": true
   },
   "outputs": [],
   "source": [
    "import xgboost as xgb\n",
    "from json import loads as json_from_string\n",
    "import numpy as np\n",
    "from collections import Counter"
   ]
  },
  {
   "cell_type": "code",
   "execution_count": 2,
   "metadata": {
    "collapsed": true
   },
   "outputs": [],
   "source": [
    "with open('../data/pool.json/data') as handler:\n",
    "    data = [json_from_string(line) for line in handler]"
   ]
  },
  {
   "cell_type": "markdown",
   "metadata": {},
   "source": [
    "Имеем:\n",
    "    - Все хедеры одинаковые.\n",
    "    - В данных нас интересуют:\n",
    "        - factors (Какие-то фичи. Их то 1052, то 1053. Леша сказал убрать 1053.)\n",
    "        - images_metric (позиция, которую видели, win, lose)\n",
    "        - p (вероятность, с которой такой серп рисовался)\n",
    "        - uid и query (можно сделать из этого факторы или покластеризовать)"
   ]
  },
  {
   "cell_type": "code",
   "execution_count": 3,
   "metadata": {
    "collapsed": true
   },
   "outputs": [],
   "source": [
    "# Можно разделить данные на те, которые пользователь видел и те,\n",
    "# которые не видел. Но пока без этого\n",
    "#displayed_data = [line for line in data if line['images_metric'] is not None]\n",
    "#undisplayed_data = [line for line in data if line['images_metric'] is None]"
   ]
  },
  {
   "cell_type": "code",
   "execution_count": 4,
   "metadata": {},
   "outputs": [],
   "source": [
    "features = np.array([line['factors'][:1052] for line in data])\n",
    "positions = np.array([\n",
    "    line['images_metric'][0] if line['images_metric'] is not None else 100\n",
    "    for line in data\n",
    "])\n",
    "probas = np.array([line['p'] for line in data])\n",
    "labels = np.array([\n",
    "    (line['images_metric'][2] - line['images_metric'][1])\n",
    "    if line['images_metric'] is not None else 0\n",
    "    for line in data\n",
    "])"
   ]
  },
  {
   "cell_type": "code",
   "execution_count": 5,
   "metadata": {
    "collapsed": true
   },
   "outputs": [],
   "source": [
    "from sklearn.metrics import accuracy_score\n",
    "from sklearn.metrics import precision_score\n",
    "from sklearn.metrics import recall_score\n",
    "from sklearn.model_selection import train_test_split"
   ]
  },
  {
   "cell_type": "code",
   "execution_count": 6,
   "metadata": {
    "collapsed": true
   },
   "outputs": [],
   "source": [
    "def make_features(main_features, positions):\n",
    "    return np.concatenate([main_features, np.reshape(positions, (-1, 1))], axis=1)"
   ]
  },
  {
   "cell_type": "code",
   "execution_count": 7,
   "metadata": {
    "collapsed": true,
    "scrolled": true
   },
   "outputs": [],
   "source": [
    "def get_positions(features_to_answer, model):\n",
    "    position_variants = np.array(list(range(10)) + [100])\n",
    "    answers = []\n",
    "    for features in features_to_answer:\n",
    "        features = np.repeat(np.reshape(features, (1, -1)), len(position_variants), axis=0)\n",
    "        scores = model.predict(make_features(features, position_variants))\n",
    "        answers.append(np.argmax(scores))\n",
    "    return answers"
   ]
  },
  {
   "cell_type": "code",
   "execution_count": 8,
   "metadata": {
    "collapsed": true
   },
   "outputs": [],
   "source": [
    "def metric(answers_positions, target_positions, target, target_probs):\n",
    "    return np.mean(\n",
    "        target / target_probs * (answers_positions == target_positions)\n",
    "    )"
   ]
  },
  {
   "cell_type": "code",
   "execution_count": 9,
   "metadata": {
    "collapsed": true
   },
   "outputs": [],
   "source": [
    "def validate_count(answers_positions, target_positions, target, target_probs):\n",
    "    return np.mean(\n",
    "        1 / target_probs * (answers_positions == target_positions)\n",
    "    )"
   ]
  },
  {
   "cell_type": "code",
   "execution_count": 10,
   "metadata": {
    "collapsed": true
   },
   "outputs": [],
   "source": [
    "def get_metric(features, positions, labels, probas, model, validate=False):\n",
    "    features_train, features_test,\\\n",
    "    positions_train, positions_test,\\\n",
    "    labels_train, labels_test,\\\n",
    "    proba_train, proba_test = train_test_split(\n",
    "        features, positions, labels, probas, test_size=0.3, shuffle=True\n",
    "    )\n",
    "    model.fit(make_features(features_train, positions_train), labels_train)\n",
    "    answers = get_positions(features_test, model)\n",
    "\n",
    "    if validate:\n",
    "        for j in range(10):\n",
    "            constant_answers = [j for i in range(len(features_test))]\n",
    "            print(\"j={}, validate: {}, metric: {}\".format(\n",
    "                j,\n",
    "                validate_count(constant_answers, positions_test, labels_test, proba_test),\n",
    "                metric(constant_answers, positions_test, labels_test, proba_test)        \n",
    "            ))\n",
    "    \n",
    "    return metric(answers, positions_test, labels_test, proba_test)"
   ]
  },
  {
   "cell_type": "code",
   "execution_count": 14,
   "metadata": {},
   "outputs": [],
   "source": [
    "scores = [\n",
    "    get_metric(features, positions, labels, probas, model=xgb.XGBRegressor(), validate=False)\n",
    "    for i in range(100)\n",
    "]"
   ]
  },
  {
   "cell_type": "code",
   "execution_count": 15,
   "metadata": {},
   "outputs": [
    {
     "data": {
      "text/plain": [
       "0.006136082010828766"
      ]
     },
     "execution_count": 15,
     "metadata": {},
     "output_type": "execute_result"
    }
   ],
   "source": [
    "np.mean(scores)"
   ]
  },
  {
   "cell_type": "code",
   "execution_count": 16,
   "metadata": {},
   "outputs": [
    {
     "data": {
      "text/plain": [
       "0.007959242025337562"
      ]
     },
     "execution_count": 16,
     "metadata": {},
     "output_type": "execute_result"
    }
   ],
   "source": [
    "np.std(scores)"
   ]
  },
  {
   "cell_type": "code",
   "execution_count": 17,
   "metadata": {},
   "outputs": [
    {
     "data": {
      "text/plain": [
       "[0.014788083681822951,\n",
       " 0.016201567248922841,\n",
       " 0.010480125104949995,\n",
       " 0.0063166802251438852,\n",
       " -0.0051390002697873161,\n",
       " 0.011303946291590771,\n",
       " 0.0078216150447935444,\n",
       " 0.010850569192056535,\n",
       " 0.0038672451055651764,\n",
       " 0.016943855040312816,\n",
       " 0.017611838089727085,\n",
       " -0.0013489784772204351,\n",
       " 0.0052992189545277568,\n",
       " 0.0066088557971241413,\n",
       " 0.0034857193746751663,\n",
       " -0.016277735358743283,\n",
       " 0.017297976483561423,\n",
       " 0.0022729726953382122,\n",
       " 0.016678460982519346,\n",
       " 0.0099319319851349872,\n",
       " 0.012590878075039292,\n",
       " 0.001636284188548359,\n",
       " 0.010731544257155671,\n",
       " 0.0048954365237883586,\n",
       " 0.007343137506012779,\n",
       " 0.0081156005298615944,\n",
       " 0.0015229696079521234,\n",
       " 0.0103981457472231,\n",
       " 0.016207596414874764,\n",
       " 0.0059163678864391119,\n",
       " 0.0091979704238708687,\n",
       " 0.0089262219550145638,\n",
       " 0.0068767871661590627,\n",
       " 0.014395460901123572,\n",
       " 0.014396706363226772,\n",
       " -0.010283303289474091,\n",
       " 0.01579767922440448,\n",
       " -0.00084297384834941297,\n",
       " 0.0069330084824158564,\n",
       " 0.0018560211695860494,\n",
       " 0.0029605061081419042,\n",
       " 0.012392635731751271,\n",
       " -0.010561420088141578,\n",
       " 0.0030838700159308212,\n",
       " 0.0083048952671597349,\n",
       " 0.014059600257401295,\n",
       " 0.014015845614853622,\n",
       " 0.0034190352430305483,\n",
       " -0.00062960379714824993,\n",
       " 0.016688537799641339,\n",
       " -0.0077773820758019448,\n",
       " 0.0067941198025153436,\n",
       " 0.0080148699320620412,\n",
       " 0.0080246257962340584,\n",
       " 0.013635573523160837,\n",
       " -0.0072862587189518602,\n",
       " 0.0080187329900842756,\n",
       " 0.011011491893751328,\n",
       " 0.0089573136327893502,\n",
       " 0.012541490356038762,\n",
       " 0.015994002042062472,\n",
       " -0.00064942517983405631,\n",
       " 0.012033615220146008,\n",
       " 0.010949344229689498,\n",
       " 0.0054498621410223446,\n",
       " 0.016073489468261124,\n",
       " 0.002950900616649617,\n",
       " 0.0032399204114880779,\n",
       " -0.016732413584631015,\n",
       " 0.00037034479587934831,\n",
       " -0.00194159761587777,\n",
       " 0.020228525879317536,\n",
       " 0.00074200207415134952,\n",
       " 0.00050918360945924183,\n",
       " 0.009932315155797098,\n",
       " 0.0023480035804529123,\n",
       " 0.0090433209497473056,\n",
       " -0.013108534501403396,\n",
       " -0.0071479225506724383,\n",
       " 0.013454615790422123,\n",
       " -0.00089974363444245511,\n",
       " 0.010998888505757129,\n",
       " 0.0050432741781031871,\n",
       " 0.0033693923047605871,\n",
       " 0.014588758314404909,\n",
       " 0.014603424654752473,\n",
       " 0.0085836817189533701,\n",
       " -0.0041832379542329004,\n",
       " 0.0060407503018935268,\n",
       " 0.012926498523767677,\n",
       " -0.0035485663091253143,\n",
       " 0.0010558132488541752,\n",
       " 0.010926867110716781,\n",
       " 0.0066938108679788916,\n",
       " -0.013432776777816874,\n",
       " -0.0019216815727793124,\n",
       " 0.0089549938544903097,\n",
       " 0.0048934321274609806,\n",
       " 0.01519015265784208,\n",
       " 0.0027099506680187012]"
      ]
     },
     "execution_count": 17,
     "metadata": {},
     "output_type": "execute_result"
    }
   ],
   "source": [
    "scores"
   ]
  },
  {
   "cell_type": "code",
   "execution_count": null,
   "metadata": {
    "collapsed": true
   },
   "outputs": [],
   "source": []
  }
 ],
 "metadata": {
  "kernelspec": {
   "display_name": "Python 3",
   "language": "python",
   "name": "python3"
  },
  "language_info": {
   "codemirror_mode": {
    "name": "ipython",
    "version": 3
   },
   "file_extension": ".py",
   "mimetype": "text/x-python",
   "name": "python",
   "nbconvert_exporter": "python",
   "pygments_lexer": "ipython3",
   "version": "3.6.3"
  }
 },
 "nbformat": 4,
 "nbformat_minor": 2
}
