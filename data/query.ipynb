{
 "cells": [
  {
   "cell_type": "code",
   "execution_count": 1,
   "metadata": {},
   "outputs": [],
   "source": [
    "from matplotlib import pyplot as plt\n",
    "from collections import Counter, defaultdict\n",
    "import numpy as np\n",
    "import pickle\n",
    "import sys\n",
    "from json import loads\n",
    "\n",
    "sys.path.append(\"../code/python/utils\")\n",
    "from pool_iterator import pool_iterator\n",
    "from metric import calculate_metric\n",
    "from json_tools import get_from_pool\n",
    "sys.path.append(\"../code/python/bandits\")\n",
    "from tomson_bandit import TomsonBandit\n",
    "from cascade_bandit import CascadeBandit\n",
    "from damerau_levenshtien import damerau_levenshtein_distance\n",
    "\n",
    "%reload_ext autoreload\n",
    "%autoreload 2\n",
    "%matplotlib inline"
   ]
  },
  {
   "cell_type": "code",
   "execution_count": 2,
   "metadata": {},
   "outputs": [],
   "source": [
    "n_objects = 569105"
   ]
  },
  {
   "cell_type": "raw",
   "metadata": {},
   "source": [
    "queries_counter = Counter()\n",
    "for counter, item in enumerate(pool_iterator(\"pool_with_queries/pool.json\")):\n",
    "    if counter % 5000 == 0:\n",
    "        print(\" {} %\".format(round(counter * 100 / n_objects)))\n",
    "    query = tuple(map(int, item[\"query\"].split()))\n",
    "    queries_counter[query] += 1"
   ]
  },
  {
   "cell_type": "raw",
   "metadata": {},
   "source": [
    "pickle.dump(queries_counter, open(\"queries_counter\", \"wb\"))"
   ]
  },
  {
   "cell_type": "raw",
   "metadata": {},
   "source": [
    "queries_by_word = defaultdict(lambda: set())\n",
    "for counter, item in enumerate(pool_iterator(\"pool_with_queries/pool.json\")):\n",
    "    if counter % 5000 == 0:\n",
    "        print(\" {} %\".format(round(counter * 100 / n_objects)))\n",
    "    query = tuple(map(int, item[\"query\"].split()))\n",
    "    for word in query:\n",
    "        queries_by_word[word].add(query)"
   ]
  },
  {
   "cell_type": "raw",
   "metadata": {},
   "source": [
    "pickle.dump(dict(queries_by_word), open(\"queries_by_word\", \"wb\"))"
   ]
  },
  {
   "cell_type": "code",
   "execution_count": 3,
   "metadata": {},
   "outputs": [],
   "source": [
    "queries_counter = pickle.load(open(\"queries_counter\", \"rb\"))\n",
    "queries_by_word = pickle.load(open(\"queries_by_word\", \"rb\"))"
   ]
  },
  {
   "cell_type": "code",
   "execution_count": 4,
   "metadata": {},
   "outputs": [
    {
     "data": {
      "text/plain": [
       "459862"
      ]
     },
     "execution_count": 4,
     "metadata": {},
     "output_type": "execute_result"
    }
   ],
   "source": [
    "len(queries_counter)"
   ]
  },
  {
   "cell_type": "code",
   "execution_count": 5,
   "metadata": {},
   "outputs": [],
   "source": [
    "def parse_query(string):\n",
    "    return tuple(map(int, string[1:-1].split(\", \")))"
   ]
  },
  {
   "cell_type": "code",
   "execution_count": 6,
   "metadata": {},
   "outputs": [
    {
     "name": "stdout",
     "output_type": "stream",
     "text": [
      "CPU times: user 4.75 s, sys: 90.4 ms, total: 4.84 s\n",
      "Wall time: 4.8 s\n"
     ]
    }
   ],
   "source": [
    "%%time\n",
    "\n",
    "nearest_queries = {}\n",
    "\n",
    "with open(\"../code/python/bandits/nearest_queries.txt\") as handler:\n",
    "    for i, line in enumerate(handler):\n",
    "        parsed_line = loads((\"{\" + line.strip() + \"}\").replace('(', '\"(').replace(')', ')\"'))\n",
    "        query_str = line[:line.find(\":\")]\n",
    "        nearest_queries[parse_query(query_str)] = [\n",
    "            parse_query(other_query)\n",
    "            for other_query in parsed_line[query_str]\n",
    "        ]"
   ]
  },
  {
   "cell_type": "code",
   "execution_count": 12,
   "metadata": {
    "scrolled": true
   },
   "outputs": [
    {
     "name": "stdout",
     "output_type": "stream",
     "text": [
      "CPU times: user 3.1 s, sys: 170 ms, total: 3.27 s\n",
      "Wall time: 3.27 s\n"
     ]
    }
   ],
   "source": [
    "%%time\n",
    "position_variants = list(range(10)) + [100]\n",
    "bandits_by_queries = {\n",
    "    query: TomsonBandit(position_variants) for query in queries_counter\n",
    "}\n",
    "big_bandit = CascadeBandit(bandits_by_queries, nearest_queries)"
   ]
  },
  {
   "cell_type": "raw",
   "metadata": {},
   "source": [
    "with open(\"../code/python/bandits/queries.txt\", 'w') as handler:\n",
    "    for i, query in enumerate(np_queries):\n",
    "        print(str(len(query)) + \" \" + \" \".join(map(str, query)), file=handler)\n",
    "    print(\"};\", file=handler)"
   ]
  },
  {
   "cell_type": "code",
   "execution_count": 8,
   "metadata": {},
   "outputs": [],
   "source": [
    "pool_filenames = [\n",
    "    \"pool_with_queries/train_test_split/day_{}.json\".format(i)\n",
    "    for i in range(4)\n",
    "]\n",
    "train_pool_filenames = pool_filenames[:3]\n",
    "test_pool = pool_filenames[3]"
   ]
  },
  {
   "cell_type": "code",
   "execution_count": null,
   "metadata": {},
   "outputs": [],
   "source": []
  },
  {
   "cell_type": "code",
   "execution_count": null,
   "metadata": {},
   "outputs": [],
   "source": []
  },
  {
   "cell_type": "code",
   "execution_count": null,
   "metadata": {},
   "outputs": [],
   "source": []
  },
  {
   "cell_type": "code",
   "execution_count": 13,
   "metadata": {
    "scrolled": true
   },
   "outputs": [
    {
     "name": "stdout",
     "output_type": "stream",
     "text": [
      " fitting filename \"pool_with_queries/train_test_split/day_0.json\"\n",
      " 0 %\n",
      " 7 %\n",
      " 14 %\n",
      " 21 %\n",
      " 28 %\n",
      " 35 %\n",
      " 42 %\n",
      " 49 %\n",
      " 56 %\n",
      " 63 %\n",
      " 70 %\n",
      " 77 %\n",
      " 84 %\n",
      " 91 %\n",
      " 98 %\n",
      " fitting filename \"pool_with_queries/train_test_split/day_1.json\"\n",
      " 0 %\n",
      " 7 %\n",
      " 14 %\n",
      " 21 %\n",
      " 28 %\n",
      " 35 %\n",
      " 42 %\n",
      " 49 %\n",
      " 56 %\n",
      " 63 %\n",
      " 70 %\n",
      " 77 %\n",
      " 84 %\n",
      " 91 %\n",
      " 98 %\n",
      " fitting filename \"pool_with_queries/train_test_split/day_2.json\"\n",
      " 0 %\n",
      " 7 %\n",
      " 14 %\n",
      " 21 %\n",
      " 28 %\n",
      " 35 %\n",
      " 42 %\n",
      " 49 %\n",
      " 56 %\n",
      " 63 %\n",
      " 70 %\n",
      " 77 %\n",
      " 84 %\n",
      " 91 %\n",
      " 98 %\n",
      "CPU times: user 2min 6s, sys: 2.36 s, total: 2min 8s\n",
      "Wall time: 2min 14s\n"
     ]
    }
   ],
   "source": [
    "%%time\n",
    "for pool_filename in train_pool_filenames:\n",
    "    print(\" fitting filename \\\"{}\\\"\".format(pool_filename))\n",
    "    for i, item in enumerate(pool_iterator(pool_filename)):\n",
    "        if i % 10000 == 0:\n",
    "            print(\" {} %\".format(round(400 * i / n_objects)))\n",
    "        query = tuple(map(int, item[\"query\"].split()))\n",
    "        reward = 1 if item[\"target\"] > 0 else 0\n",
    "        big_bandit.take_reward(query, item[\"pos\"], reward)"
   ]
  },
  {
   "cell_type": "code",
   "execution_count": 10,
   "metadata": {},
   "outputs": [
    {
     "name": "stdout",
     "output_type": "stream",
     "text": [
      "CPU times: user 2min 2s, sys: 1.5 s, total: 2min 4s\n",
      "Wall time: 2min 6s\n"
     ]
    }
   ],
   "source": [
    "%%time\n",
    "targets_test = get_from_pool(pool_iterator(test_pool), \"target\", int)\n",
    "probas_test = get_from_pool(pool_iterator(test_pool), \"p\", float)\n",
    "positions_test = get_from_pool(pool_iterator(test_pool), \"pos\", int)"
   ]
  },
  {
   "cell_type": "code",
   "execution_count": 76,
   "metadata": {
    "scrolled": true
   },
   "outputs": [
    {
     "name": "stdout",
     "output_type": "stream",
     "text": [
      " 0 %\n",
      " 7 %\n",
      " 14 %\n",
      " 21 %\n",
      " 28 %\n",
      " 35 %\n",
      " 42 %\n",
      " 49 %\n",
      " 56 %\n",
      " 63 %\n",
      " 70 %\n",
      " 77 %\n",
      " 84 %\n",
      " 91 %\n",
      " 98 %\n",
      "CPU times: user 50.8 s, sys: 716 ms, total: 51.5 s\n",
      "Wall time: 51.9 s\n"
     ]
    }
   ],
   "source": [
    "%%time\n",
    "answer_positions = []\n",
    "statistics = []\n",
    "for i, item in enumerate(pool_iterator(test_pool)):\n",
    "    if i % 10000 == 0:\n",
    "        print(\" {} %\".format(round(i * 100 / len(positions_test))))\n",
    "    query = tuple(map(int, item[\"query\"].split()))\n",
    "    statistics.append(big_bandit.get_statistic_size(query))\n",
    "    answer_positions.append(big_bandit.get_action(query))"
   ]
  },
  {
   "cell_type": "code",
   "execution_count": 77,
   "metadata": {},
   "outputs": [],
   "source": [
    "answer_positions = np.array(answer_positions)\n",
    "statistics = np.array(statistics)"
   ]
  },
  {
   "cell_type": "code",
   "execution_count": 78,
   "metadata": {},
   "outputs": [],
   "source": [
    "def compute_metric(threshold):\n",
    "    mask = (positions_test == answer_positions) * (statistics > threshold)\n",
    "    return np.sum(targets_test[mask] / probas_test[mask]) / np.sum(1 / probas_test[mask])"
   ]
  },
  {
   "cell_type": "code",
   "execution_count": 79,
   "metadata": {},
   "outputs": [
    {
     "data": {
      "text/plain": [
       "[<matplotlib.lines.Line2D at 0x7fe0ba127e48>]"
      ]
     },
     "execution_count": 79,
     "metadata": {},
     "output_type": "execute_result"
    },
    {
     "data": {
      "image/png": "[encoded data removed]",
      "text/plain": [
       "<Figure size 432x288 with 1 Axes>"
      ]
     },
     "metadata": {},
     "output_type": "display_data"
    }
   ],
   "source": [
    "x = np.arange(max(statistics))\n",
    "y = np.array([\n",
    "    compute_metric(threshold)\n",
    "    for threshold in x\n",
    "])\n",
    "plt.plot(x[:300], y[:300])"
   ]
  },
  {
   "cell_type": "code",
   "execution_count": 80,
   "metadata": {},
   "outputs": [
    {
     "data": {
      "text/plain": [
       "[<matplotlib.lines.Line2D at 0x7fe0ba162438>]"
      ]
     },
     "execution_count": 80,
     "metadata": {},
     "output_type": "execute_result"
    },
    {
     "data": {
      "image/png": "[encoded data removed]",
      "text/plain": [
       "<Figure size 432x288 with 1 Axes>"
      ]
     },
     "metadata": {},
     "output_type": "display_data"
    }
   ],
   "source": [
    "x = np.arange(max(statistics))\n",
    "y = np.array([\n",
    "    len(statistics[statistics > threshold])\n",
    "    for threshold in x\n",
    "])\n",
    "plt.plot(x[:300], y[:300])"
   ]
  },
  {
   "cell_type": "code",
   "execution_count": 81,
   "metadata": {},
   "outputs": [],
   "source": [
    "def caompute_all_metric(threshold):\n",
    "    tmp_answer = np.copy(answer_positions)\n",
    "    tmp_answer[statistics < threshold] = 8\n",
    "    return calculate_metric(\n",
    "        tmp_answer,\n",
    "        positions_test,\n",
    "        targets_test,\n",
    "        probas_test\n",
    "    )"
   ]
  },
  {
   "cell_type": "code",
   "execution_count": 86,
   "metadata": {},
   "outputs": [
    {
     "data": {
      "image/png": "[encoded data removed]",
      "text/plain": [
       "<Figure size 432x288 with 1 Axes>"
      ]
     },
     "metadata": {},
     "output_type": "display_data"
    }
   ],
   "source": [
    "axis = plt.gca()\n",
    "x = np.arange(max(statistics))\n",
    "y = np.array([\n",
    "    caompute_all_metric(threshold)\n",
    "    for threshold in x\n",
    "])\n",
    "plt.plot(x[:300], y[:300])\n",
    "axis.set_ylim(0.62, 0.63)\n",
    "plt.show()"
   ]
  },
  {
   "cell_type": "code",
   "execution_count": null,
   "metadata": {},
   "outputs": [],
   "source": []
  },
  {
   "cell_type": "code",
   "execution_count": null,
   "metadata": {},
   "outputs": [],
   "source": []
  },
  {
   "cell_type": "code",
   "execution_count": null,
   "metadata": {},
   "outputs": [],
   "source": []
  },
  {
   "cell_type": "code",
   "execution_count": 31,
   "metadata": {},
   "outputs": [
    {
     "name": "stdout",
     "output_type": "stream",
     "text": [
      "  0 0.597785108388313\n",
      "  1 0.6099456748850818\n",
      "  2 0.612070331062886\n",
      "  3 0.6208130328867236\n",
      "  4 0.6088980858768753\n",
      "  5 0.6147480419683761\n",
      "  6 0.6207842854047808\n",
      "  7 0.6103868347937592\n",
      "  8 0.6226212619831162\n",
      "  9 0.6197430316646771\n",
      "  100 0.5989450003878676\n"
     ]
    }
   ],
   "source": [
    "for i in list(range(10)) + [100]:\n",
    "    print(' ', i, calculate_metric(\n",
    "        [i] * len(probas_test),\n",
    "        positions_test,\n",
    "        targets_test,\n",
    "        probas_test\n",
    "    ))"
   ]
  },
  {
   "cell_type": "code",
   "execution_count": null,
   "metadata": {},
   "outputs": [],
   "source": []
  }
 ],
 "metadata": {
  "kernelspec": {
   "display_name": "Python 3",
   "language": "python",
   "name": "python3"
  },
  "language_info": {
   "codemirror_mode": {
    "name": "ipython",
    "version": 3
   },
   "file_extension": ".py",
   "mimetype": "text/x-python",
   "name": "python",
   "nbconvert_exporter": "python",
   "pygments_lexer": "ipython3",
   "version": "3.6.5"
  }
 },
 "nbformat": 4,
 "nbformat_minor": 2
}
