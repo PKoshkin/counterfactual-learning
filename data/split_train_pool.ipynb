{
 "cells": [
  {
   "cell_type": "code",
   "execution_count": 1,
   "metadata": {},
   "outputs": [],
   "source": [
    "import numpy as np\n",
    "import os"
   ]
  },
  {
   "cell_type": "code",
   "execution_count": 2,
   "metadata": {},
   "outputs": [],
   "source": [
    "lines_num = 569192"
   ]
  },
  {
   "cell_type": "code",
   "execution_count": 3,
   "metadata": {},
   "outputs": [],
   "source": [
    "premutation = np.random.permutation(lines_num)"
   ]
  },
  {
   "cell_type": "code",
   "execution_count": 4,
   "metadata": {},
   "outputs": [],
   "source": [
    "sizes = int(lines_num / 4)"
   ]
  },
  {
   "cell_type": "code",
   "execution_count": 5,
   "metadata": {},
   "outputs": [],
   "source": [
    "parts_indices = [\n",
    "    sorted(list(premutation[(sizes * i):(sizes * (i + 1))]))\n",
    "    for i in range(4)\n",
    "]"
   ]
  },
  {
   "cell_type": "code",
   "execution_count": 6,
   "metadata": {},
   "outputs": [
    {
     "name": "stdout",
     "output_type": "stream",
     "text": [
      "[0, 1, 3, 5, 15]\n",
      "[4, 11, 12, 19, 22]\n",
      "[6, 8, 17, 21, 24]\n",
      "[2, 7, 9, 10, 13]\n"
     ]
    }
   ],
   "source": [
    "for i in range(4):\n",
    "    print(parts_indices[i][:5])"
   ]
  },
  {
   "cell_type": "code",
   "execution_count": 7,
   "metadata": {},
   "outputs": [
    {
     "data": {
      "text/plain": [
       "569192"
      ]
     },
     "execution_count": 7,
     "metadata": {},
     "output_type": "execute_result"
    }
   ],
   "source": [
    "sum([len(part) for part in parts_indices])"
   ]
  },
  {
   "cell_type": "code",
   "execution_count": 8,
   "metadata": {},
   "outputs": [],
   "source": [
    "path = \"new_days_data\"\n",
    "parts_names = [\n",
    "    \"train_features\",\n",
    "    \"train_targets_to_substruct\",\n",
    "    \"train_main\",\n",
    "    \"test\"\n",
    "]"
   ]
  },
  {
   "cell_type": "code",
   "execution_count": 9,
   "metadata": {},
   "outputs": [],
   "source": [
    "for name, part in zip(parts_names, parts_indices):\n",
    "    np.save(name + \"_train_pool_perm\", part)"
   ]
  },
  {
   "cell_type": "code",
   "execution_count": null,
   "metadata": {},
   "outputs": [],
   "source": []
  },
  {
   "cell_type": "code",
   "execution_count": 10,
   "metadata": {
    "scrolled": true
   },
   "outputs": [
    {
     "name": "stdout",
     "output_type": "stream",
     "text": [
      " 0 / 569192\n",
      " 10000 / 569192\n",
      " 20000 / 569192\n",
      " 30000 / 569192\n",
      " 40000 / 569192\n",
      " 50000 / 569192\n",
      " 60000 / 569192\n",
      " 70000 / 569192\n",
      " 80000 / 569192\n",
      " 90000 / 569192\n",
      " 100000 / 569192\n",
      " 110000 / 569192\n",
      " 120000 / 569192\n",
      " 130000 / 569192\n",
      " 140000 / 569192\n",
      " 150000 / 569192\n",
      " 160000 / 569192\n",
      " 170000 / 569192\n",
      " 180000 / 569192\n",
      " 190000 / 569192\n",
      " 200000 / 569192\n",
      " 210000 / 569192\n",
      " 220000 / 569192\n",
      " 230000 / 569192\n",
      " 240000 / 569192\n",
      " 250000 / 569192\n",
      " 260000 / 569192\n",
      " 270000 / 569192\n",
      " 280000 / 569192\n",
      " 290000 / 569192\n",
      " 300000 / 569192\n",
      " 310000 / 569192\n",
      " 320000 / 569192\n",
      " 330000 / 569192\n",
      " 340000 / 569192\n",
      " 350000 / 569192\n",
      " 360000 / 569192\n",
      " 370000 / 569192\n",
      " 380000 / 569192\n",
      " 390000 / 569192\n",
      " 400000 / 569192\n",
      " 410000 / 569192\n",
      " 420000 / 569192\n",
      " 430000 / 569192\n",
      " 440000 / 569192\n",
      " 450000 / 569192\n",
      " 460000 / 569192\n",
      " 470000 / 569192\n",
      " 480000 / 569192\n",
      " 490000 / 569192\n",
      " 500000 / 569192\n",
      " 510000 / 569192\n",
      " 520000 / 569192\n",
      " 530000 / 569192\n",
      " 540000 / 569192\n",
      " 550000 / 569192\n",
      " 560000 / 569192\n",
      "CPU times: user 15.5 s, sys: 12.3 s, total: 27.9 s\n",
      "Wall time: 3min 46s\n"
     ]
    }
   ],
   "source": [
    "%%time\n",
    "\n",
    "indices = [\n",
    "    0 for i in range(4)\n",
    "]\n",
    "\n",
    "handlers = [\n",
    "    open(os.path.join(path, parts_names[i]), 'w')\n",
    "    for i in range(4)\n",
    "]\n",
    "\n",
    "with open(\"train_pool.csv\") as handler:\n",
    "    for i, line in enumerate(handler):\n",
    "        for index, (res_handler, perm) in enumerate(zip(handlers, parts_indices)):\n",
    "            if indices[index] < len(perm):\n",
    "                if perm[indices[index]] == i:\n",
    "                    print(line.strip(), file=res_handler)\n",
    "                    indices[index] += 1\n",
    "        if i % 10000 == 0:\n",
    "            print(\" {} / 569192\".format(i))"
   ]
  },
  {
   "cell_type": "code",
   "execution_count": null,
   "metadata": {},
   "outputs": [],
   "source": []
  }
 ],
 "metadata": {
  "kernelspec": {
   "display_name": "Python 3",
   "language": "python",
   "name": "python3"
  },
  "language_info": {
   "codemirror_mode": {
    "name": "ipython",
    "version": 3
   },
   "file_extension": ".py",
   "mimetype": "text/x-python",
   "name": "python",
   "nbconvert_exporter": "python",
   "pygments_lexer": "ipython3",
   "version": "3.6.5"
  }
 },
 "nbformat": 4,
 "nbformat_minor": 2
}
